{
 "cells": [
  {
   "cell_type": "markdown",
   "metadata": {},
   "source": [
    "## Trabajo Final de Text Mining\n",
    "### Integrantes: Juan Pablo Pilorget, Pablo Santoro y Mauro Veneziano.\n",
    "### Objetivo: clasificar sentencias según su status de verdad-mentira.\n",
    "### El dataset fue obtenido de [acá](http://lit.eecs.umich.edu/~deceptiondetection/)"
   ]
  },
  {
   "cell_type": "markdown",
   "metadata": {},
   "source": [
    "### Importo las librerías"
   ]
  },
  {
   "cell_type": "code",
   "execution_count": 5,
   "metadata": {},
   "outputs": [
    {
     "name": "stderr",
     "output_type": "stream",
     "text": [
      "c:\\python36\\lib\\site-packages\\sklearn\\cross_validation.py:41: DeprecationWarning: This module was deprecated in version 0.18 in favor of the model_selection module into which all the refactored classes and functions are moved. Also note that the interface of the new CV iterators are different from that of this module. This module will be removed in 0.20.\n",
      "  \"This module will be removed in 0.20.\", DeprecationWarning)\n"
     ]
    }
   ],
   "source": [
    "from tabulate import tabulate\n",
    "%matplotlib inline\n",
    "import matplotlib.pyplot as plt\n",
    "import pandas as pd\n",
    "from tqdm import tqdm\n",
    "import numpy as np\n",
    "import re\n",
    "import random\n",
    "import io\n",
    "import gensim\n",
    "import struct \n",
    "import nltk\n",
    "import pickle\n",
    "from empath import Empath\n",
    "from textstat.textstat import textstat as txt\n",
    "from nltk.stem import WordNetLemmatizer \n",
    "from nltk import word_tokenize, sent_tokenize\n",
    "from sklearn.model_selection import train_test_split, cross_val_score, GridSearchCV\n",
    "from sklearn.feature_extraction.text import CountVectorizer, TfidfVectorizer\n",
    "from sklearn.naive_bayes import BernoulliNB, MultinomialNB\n",
    "from sklearn.metrics import confusion_matrix, precision_recall_fscore_support, classification_report, confusion_matrix, f1_score, classification_report, accuracy_score\n",
    "from sklearn.ensemble import RandomForestClassifier, GradientBoostingClassifier, ExtraTreesClassifier\n",
    "import seaborn as sns\n",
    "from gensim.models.word2vec import Word2Vec\n",
    "from collections import Counter, defaultdict\n",
    "from sklearn.svm import SVC\n",
    "from sklearn.cross_validation import cross_val_score\n",
    "from sklearn.cross_validation import StratifiedShuffleSplit\n",
    "from sklearn.dummy import DummyClassifier\n",
    "from sklearn.pipeline import Pipeline\n",
    "from sklearn.feature_selection import SelectKBest, mutual_info_classif\n",
    "from sklearn import linear_model"
   ]
  },
  {
   "cell_type": "markdown",
   "metadata": {},
   "source": [
    "### Cargo el dataset"
   ]
  },
  {
   "cell_type": "code",
   "execution_count": 7,
   "metadata": {},
   "outputs": [],
   "source": [
    "df = pd.read_csv(\"7Truth7LiesDataset.csv\",sep = ',', quotechar=\"'\",escapechar=\"\\\\\")\n",
    "df = df.sample(frac=1,random_state=0).reset_index(drop=True).copy()\n",
    "df = df.rename(columns={\"class\":\"clase\"}) # class es palabra reservada\n",
    "df['clase'] = np.where(df['clase'] == 'truth', 1, 0)"
   ]
  },
  {
   "cell_type": "markdown",
   "metadata": {},
   "source": [
    "#### Tomo el texto para el clasificador"
   ]
  },
  {
   "cell_type": "code",
   "execution_count": 143,
   "metadata": {},
   "outputs": [],
   "source": [
    "trainset_texto, testset_texto, trainset_clase, testset_clase =  train_test_split(df.text,df.clase,stratify=df.clase, test_size=0.3, random_state = 123)"
   ]
  },
  {
   "cell_type": "markdown",
   "metadata": {},
   "source": [
    "#### Aca armo devset"
   ]
  },
  {
   "cell_type": "code",
   "execution_count": 144,
   "metadata": {},
   "outputs": [],
   "source": [
    "trainset_texto, devset_texto, trainset_clase, devset_clase =  train_test_split(trainset_texto,trainset_clase,stratify=trainset_clase, test_size=0.2, random_state = 123)"
   ]
  },
  {
   "cell_type": "markdown",
   "metadata": {},
   "source": [
    "### Construyo los tokenizadores y limpiadores"
   ]
  },
  {
   "cell_type": "code",
   "execution_count": 10,
   "metadata": {},
   "outputs": [],
   "source": [
    "def clean_text(text):\n",
    "    text = re.sub('(\\[\")|(\"\\])',\" \",text)\n",
    "    return text.lower().strip()\n",
    "# Tokenizador\n",
    "def tokenizer(text):\n",
    "    return [w for w in word_tokenize(text) if w.isalpha() and len(w)>1]"
   ]
  },
  {
   "cell_type": "markdown",
   "metadata": {},
   "source": [
    "#### Este tokenizador deja palabras con largo mayor a 1 (A REVISAR). Hay que evaluar si la autorreferencialidad (I) es imoprtante en inglés."
   ]
  },
  {
   "cell_type": "code",
   "execution_count": 11,
   "metadata": {},
   "outputs": [],
   "source": [
    "class LemmaTokenizer(object):\n",
    "    def __init__(self):\n",
    "        self.wnl = WordNetLemmatizer()\n",
    "    def __call__(self, doc):\n",
    "        return [self.wnl.lemmatize(t) for t in word_tokenize(doc) if t.isalpha() and len(t)>1]"
   ]
  },
  {
   "cell_type": "markdown",
   "metadata": {},
   "source": [
    "### Construyo el count vectorizer"
   ]
  },
  {
   "cell_type": "code",
   "execution_count": 31,
   "metadata": {
    "scrolled": true
   },
   "outputs": [],
   "source": [
    "count_vect = CountVectorizer(preprocessor=clean_text, tokenizer=LemmaTokenizer(), min_df=5,stop_words=\"english\",ngram_range=(1,2))\n",
    "trainset_texto_token = count_vect.fit_transform(trainset_texto)\n",
    "testset_texto_token = count_vect.transform(testset_texto)"
   ]
  },
  {
   "cell_type": "code",
   "execution_count": 32,
   "metadata": {},
   "outputs": [
    {
     "name": "stderr",
     "output_type": "stream",
     "text": [
      "100%|██████████| 4077/4077 [00:01<00:00, 3443.45it/s]\n"
     ]
    }
   ],
   "source": [
    "corpus = \" \".join(trainset_texto)\n",
    "sent_tokenize(corpus)\n",
    "# reemplazo numeros con \" num \" y  paso a minuscula \n",
    "reg_num = re.compile(r\"\\d+[.,]?\\d*\") # Regular expression to search numbers\n",
    "corpus = reg_num.sub(\" NUM \",corpus).lower()  \n",
    "corpus = sent_tokenize(corpus)\n",
    "\n",
    "# tiro los tokens no alphabeticos \n",
    "trainset_tokenizado = []\n",
    "for sent in tqdm(corpus):\n",
    "    tokens = []\n",
    "    for token in word_tokenize(sent):\n",
    "        if token.isalpha():\n",
    "            tokens.append(token)\n",
    "    trainset_tokenizado.append(tokens)"
   ]
  },
  {
   "cell_type": "code",
   "execution_count": 9,
   "metadata": {},
   "outputs": [
    {
     "data": {
      "text/plain": [
       "['my friends hung out without me.',\n",
       " 'i am always honest butterfly is a plant the kerala film industry is the biggest film industry in india.',\n",
       " 'i made steaks on the grill with corn on the cob for dinner.',\n",
       " 'the moon has lower gravity than the earth labs are always yellow playstation is a product developed by sony.',\n",
       " 'there are many recipe sites on the internet that are based toward people who are not interested in processed foods.',\n",
       " 'only when there are clouds in the sky, there will be lightening and thunder.',\n",
       " 'i am fluent in spanish.',\n",
       " 'i was born in america.',\n",
       " 'everyone can lose weight with healthy diet and exercise.',\n",
       " \"since homework is not very important it is ok to copy your friend's instead of doing your work yourself.\"]"
      ]
     },
     "execution_count": 9,
     "metadata": {},
     "output_type": "execute_result"
    }
   ],
   "source": [
    "corpus[:10]"
   ]
  },
  {
   "cell_type": "code",
   "execution_count": 10,
   "metadata": {},
   "outputs": [
    {
     "name": "stdout",
     "output_type": "stream",
     "text": [
      "el corpus tiene 4013 oraciones y 36804 tokens\n"
     ]
    }
   ],
   "source": [
    "print (\"el corpus tiene\",len(trainset_texto), \"oraciones y\",sum([len(word_tokenize(x)) for x in trainset_texto]),\"tokens\")"
   ]
  },
  {
   "cell_type": "markdown",
   "metadata": {},
   "source": [
    "### Incorporo el código para Word embeddings"
   ]
  },
  {
   "cell_type": "code",
   "execution_count": 11,
   "metadata": {},
   "outputs": [],
   "source": [
    "GLOVE_6B_50D_PATH = \"../Maestría en Data Mining/glove.6B.50d.txt\"\n",
    "encoding=\"utf-8\""
   ]
  },
  {
   "cell_type": "code",
   "execution_count": 46,
   "metadata": {},
   "outputs": [
    {
     "ename": "FileNotFoundError",
     "evalue": "[Errno 2] No such file or directory: '../Maestría en Data Mining/glove.6B.50d.txt'",
     "output_type": "error",
     "traceback": [
      "\u001b[0;31m---------------------------------------------------------------------------\u001b[0m",
      "\u001b[0;31mFileNotFoundError\u001b[0m                         Traceback (most recent call last)",
      "\u001b[0;32m<ipython-input-46-7e6f3fd1b371>\u001b[0m in \u001b[0;36m<module>\u001b[0;34m()\u001b[0m\n\u001b[0;32m----> 1\u001b[0;31m \u001b[0;32mwith\u001b[0m \u001b[0mopen\u001b[0m\u001b[0;34m(\u001b[0m\u001b[0mGLOVE_6B_50D_PATH\u001b[0m\u001b[0;34m,\u001b[0m \u001b[0;34m\"rb\"\u001b[0m\u001b[0;34m)\u001b[0m \u001b[0;32mas\u001b[0m \u001b[0mlines\u001b[0m\u001b[0;34m:\u001b[0m\u001b[0;34m\u001b[0m\u001b[0m\n\u001b[0m\u001b[1;32m      2\u001b[0m     wvec = {line.split()[0].decode(encoding): np.array(line.split()[1:],dtype=np.float32)\n\u001b[1;32m      3\u001b[0m                for line in lines}\n",
      "\u001b[0;31mFileNotFoundError\u001b[0m: [Errno 2] No such file or directory: '../Maestría en Data Mining/glove.6B.50d.txt'"
     ]
    }
   ],
   "source": [
    "with open(GLOVE_6B_50D_PATH, \"rb\") as lines:\n",
    "    wvec = {line.split()[0].decode(encoding): np.array(line.split()[1:],dtype=np.float32)\n",
    "               for line in lines}"
   ]
  },
  {
   "cell_type": "code",
   "execution_count": 17,
   "metadata": {},
   "outputs": [
    {
     "name": "stdout",
     "output_type": "stream",
     "text": [
      "total examples 4077\n"
     ]
    }
   ],
   "source": [
    "X, y = [], []\n",
    "for i in range(len(trainset_tokenizado)):\n",
    "    X.append(trainset_tokenizado[i])\n",
    "    y.append(trainset_clase.tolist()[i])\n",
    "X, y = np.array(X), np.array(y)\n",
    "print (\"total examples %s\" % len(y))"
   ]
  },
  {
   "cell_type": "code",
   "execution_count": 18,
   "metadata": {},
   "outputs": [
    {
     "ename": "FileNotFoundError",
     "evalue": "[Errno 2] No such file or directory: '../Maestría en Data Mining/glove.6B.50d.txt'",
     "output_type": "error",
     "traceback": [
      "\u001b[0;31m---------------------------------------------------------------------------\u001b[0m",
      "\u001b[0;31mFileNotFoundError\u001b[0m                         Traceback (most recent call last)",
      "\u001b[0;32m<ipython-input-18-56f86322bed1>\u001b[0m in \u001b[0;36m<module>\u001b[0;34m()\u001b[0m\n\u001b[1;32m      1\u001b[0m \u001b[0mglove_small\u001b[0m \u001b[0;34m=\u001b[0m \u001b[0;34m{\u001b[0m\u001b[0;34m}\u001b[0m\u001b[0;34m\u001b[0m\u001b[0m\n\u001b[1;32m      2\u001b[0m \u001b[0mall_words\u001b[0m \u001b[0;34m=\u001b[0m \u001b[0mset\u001b[0m\u001b[0;34m(\u001b[0m\u001b[0mw\u001b[0m \u001b[0;32mfor\u001b[0m \u001b[0mwords\u001b[0m \u001b[0;32min\u001b[0m \u001b[0mX\u001b[0m \u001b[0;32mfor\u001b[0m \u001b[0mw\u001b[0m \u001b[0;32min\u001b[0m \u001b[0mwords\u001b[0m\u001b[0;34m)\u001b[0m\u001b[0;34m\u001b[0m\u001b[0m\n\u001b[0;32m----> 3\u001b[0;31m \u001b[0;32mwith\u001b[0m \u001b[0mopen\u001b[0m\u001b[0;34m(\u001b[0m\u001b[0mGLOVE_6B_50D_PATH\u001b[0m\u001b[0;34m,\u001b[0m \u001b[0;34m\"rb\"\u001b[0m\u001b[0;34m)\u001b[0m \u001b[0;32mas\u001b[0m \u001b[0minfile\u001b[0m\u001b[0;34m:\u001b[0m\u001b[0;34m\u001b[0m\u001b[0m\n\u001b[0m\u001b[1;32m      4\u001b[0m     \u001b[0;32mfor\u001b[0m \u001b[0mline\u001b[0m \u001b[0;32min\u001b[0m \u001b[0minfile\u001b[0m\u001b[0;34m:\u001b[0m\u001b[0;34m\u001b[0m\u001b[0m\n\u001b[1;32m      5\u001b[0m         \u001b[0mparts\u001b[0m \u001b[0;34m=\u001b[0m \u001b[0mline\u001b[0m\u001b[0;34m.\u001b[0m\u001b[0msplit\u001b[0m\u001b[0;34m(\u001b[0m\u001b[0;34m)\u001b[0m\u001b[0;34m\u001b[0m\u001b[0m\n",
      "\u001b[0;31mFileNotFoundError\u001b[0m: [Errno 2] No such file or directory: '../Maestría en Data Mining/glove.6B.50d.txt'"
     ]
    }
   ],
   "source": [
    "glove_small = {}\n",
    "all_words = set(w for words in X for w in words)\n",
    "with open(GLOVE_6B_50D_PATH, \"rb\") as infile:\n",
    "    for line in infile:\n",
    "        parts = line.split()\n",
    "        word = parts[0].decode(encoding)\n",
    "        if (word in all_words):\n",
    "            nums=np.array(parts[1:], dtype=np.float32)\n",
    "            glove_small[word] = nums"
   ]
  },
  {
   "cell_type": "code",
   "execution_count": 19,
   "metadata": {},
   "outputs": [],
   "source": [
    "model = Word2Vec(X, size=100, window=5, min_count=5, workers=2)\n",
    "w2v = {w: vec for w, vec in zip(model.wv.index2word, model.wv.vectors)}"
   ]
  },
  {
   "cell_type": "code",
   "execution_count": 142,
   "metadata": {},
   "outputs": [],
   "source": [
    "# start with the classics - naive bayes of the multinomial and bernoulli varieties\n",
    "# with either pure counts or tfidf features\n",
    "mult_nb = Pipeline([(\"count_vectorizer\", CountVectorizer(tokenizer = LemmaTokenizer(), analyzer=lambda x: x)), (\"multinomial nb\", MultinomialNB())])\n",
    "bern_nb = Pipeline([(\"count_vectorizer\", CountVectorizer(tokenizer = LemmaTokenizer(),analyzer=lambda x: x)), (\"bernoulli nb\", BernoulliNB())])\n",
    "mult_nb_tfidf = Pipeline([(\"tfidf_vectorizer\", TfidfVectorizer(tokenizer = LemmaTokenizer(),analyzer=lambda x: x)), (\"multinomial nb\", MultinomialNB())])\n",
    "bern_nb_tfidf = Pipeline([(\"tfidf_vectorizer\", TfidfVectorizer(tokenizer = LemmaTokenizer(),analyzer=lambda x: x)), (\"bernoulli nb\", BernoulliNB())])\n",
    "# SVM - which is supposed to be more or less state of the art \n",
    "# http://www.cs.cornell.edu/people/tj/publications/joachims_98a.pdf\n",
    "svc = Pipeline([(\"count_vectorizer\", CountVectorizer(tokenizer = LemmaTokenizer(), analyzer=lambda x: x)), (\"linear svc\", SVC(kernel=\"linear\"))])\n",
    "svc_tfidf = Pipeline([(\"tfidf_vectorizer\", TfidfVectorizer(tokenizer = LemmaTokenizer(), analyzer=lambda x: x)), (\"linear svc\", SVC(kernel=\"linear\"))])"
   ]
  },
  {
   "cell_type": "markdown",
   "metadata": {},
   "source": [
    "### Construyo un clasificador Naive Bayes"
   ]
  },
  {
   "cell_type": "code",
   "execution_count": 33,
   "metadata": {},
   "outputs": [
    {
     "name": "stdout",
     "output_type": "stream",
     "text": [
      "alpha: 3\n",
      "fscore_cv= 0.5523782385810833\n"
     ]
    }
   ],
   "source": [
    "clf_MNB = MultinomialNB()\n",
    "# Parametros a variar \n",
    "parameters = {'alpha':[0.001,0.003,0.01,0.03,0.1,0.3,1,3,10]}\n",
    "# define un grid search a realizar \n",
    "grid_search_MNB = GridSearchCV(clf_MNB, parameters,scoring='f1_macro',cv=10,return_train_score=True, n_jobs=-1)\n",
    "# realiza el grid search evaluando el modelo en un esquema de Cross-Validation\n",
    "grid_search_MNB.fit(trainset_texto_token, trainset_clase)\n",
    "# selecciona el mejor modelo (mejor set de parametros)\n",
    "best_clf_MNB = grid_search_MNB.best_estimator_\n",
    "MNB_score =grid_search_MNB.cv_results_[\"mean_test_score\"].max()\n",
    "print (\"alpha:\",best_clf_MNB.alpha )\n",
    "print(\"fscore_cv=\",grid_search_MNB.cv_results_[\"mean_test_score\"].max())\n",
    "\n",
    "MNB_score =grid_search_MNB.cv_results_[\"mean_test_score\"].max()"
   ]
  },
  {
   "cell_type": "code",
   "execution_count": 13,
   "metadata": {},
   "outputs": [],
   "source": [
    "filename = 'nb_lemmatizado_sololetras.sav'\n",
    "pickle.dump(grid_search_MNB, open(filename, 'wb'))"
   ]
  },
  {
   "cell_type": "markdown",
   "metadata": {},
   "source": [
    "### Grafico los F-scores del Naive Bayes"
   ]
  },
  {
   "cell_type": "code",
   "execution_count": 14,
   "metadata": {},
   "outputs": [
    {
     "data": {
      "text/plain": [
       "Text(0.5,1,'p-val=0.0')"
      ]
     },
     "execution_count": 14,
     "metadata": {},
     "output_type": "execute_result"
    },
    {
     "data": {
      "image/png": "[encoded data removed]",
      "text/plain": [
       "<Figure size 432x288 with 1 Axes>"
      ]
     },
     "metadata": {},
     "output_type": "display_data"
    }
   ],
   "source": [
    "f_measure_random = [f1_score(list(testset_clase), random.sample(list(testset_clase), len(testset_clase)), average=\"macro\") for i in range(10000)]\n",
    "# Histograma\n",
    "histograma = plt.hist(f_measure_random)\n",
    "plt.vlines(MNB_score,ymin=0,ymax=histograma[0].max())\n",
    "plt.title(\"p-val=\"+str((f_measure_random>MNB_score).sum()/len(f_measure_random)))"
   ]
  },
  {
   "cell_type": "markdown",
   "metadata": {},
   "source": [
    "### Construyo un clasificador Random Forest"
   ]
  },
  {
   "cell_type": "code",
   "execution_count": 15,
   "metadata": {},
   "outputs": [
    {
     "ename": "KeyboardInterrupt",
     "evalue": "",
     "output_type": "error",
     "traceback": [
      "\u001b[0;31m---------------------------------------------------------------------------\u001b[0m",
      "\u001b[0;31mKeyboardInterrupt\u001b[0m                         Traceback (most recent call last)",
      "\u001b[0;32m<ipython-input-15-cd6994c5ed1c>\u001b[0m in \u001b[0;36m<module>\u001b[0;34m()\u001b[0m\n\u001b[1;32m      5\u001b[0m \u001b[0mgrid_search_RF\u001b[0m \u001b[0;34m=\u001b[0m \u001b[0mGridSearchCV\u001b[0m\u001b[0;34m(\u001b[0m\u001b[0mclf_RF\u001b[0m\u001b[0;34m,\u001b[0m \u001b[0mparameters\u001b[0m\u001b[0;34m,\u001b[0m\u001b[0mscoring\u001b[0m\u001b[0;34m=\u001b[0m\u001b[0;34m'f1_macro'\u001b[0m\u001b[0;34m,\u001b[0m\u001b[0mcv\u001b[0m\u001b[0;34m=\u001b[0m\u001b[0;36m10\u001b[0m\u001b[0;34m,\u001b[0m\u001b[0mreturn_train_score\u001b[0m\u001b[0;34m=\u001b[0m\u001b[0;32mTrue\u001b[0m\u001b[0;34m,\u001b[0m \u001b[0mn_jobs\u001b[0m\u001b[0;34m=\u001b[0m\u001b[0;34m-\u001b[0m\u001b[0;36m1\u001b[0m\u001b[0;34m)\u001b[0m\u001b[0;34m\u001b[0m\u001b[0m\n\u001b[1;32m      6\u001b[0m \u001b[0;31m# realiza el grid search evaluando el modelo en un esquema de Cross-Validation\u001b[0m\u001b[0;34m\u001b[0m\u001b[0;34m\u001b[0m\u001b[0m\n\u001b[0;32m----> 7\u001b[0;31m \u001b[0mgrid_search_RF\u001b[0m\u001b[0;34m.\u001b[0m\u001b[0mfit\u001b[0m\u001b[0;34m(\u001b[0m\u001b[0mtrainset_texto_token\u001b[0m\u001b[0;34m,\u001b[0m \u001b[0mtrainset_clase\u001b[0m\u001b[0;34m)\u001b[0m\u001b[0;34m\u001b[0m\u001b[0m\n\u001b[0m\u001b[1;32m      8\u001b[0m \u001b[0;31m# selecciona el mejor modelo (mejor set de parametros)\u001b[0m\u001b[0;34m\u001b[0m\u001b[0;34m\u001b[0m\u001b[0m\n\u001b[1;32m      9\u001b[0m \u001b[0mbest_clf_RF\u001b[0m \u001b[0;34m=\u001b[0m \u001b[0mgrid_search_RF\u001b[0m\u001b[0;34m.\u001b[0m\u001b[0mbest_estimator_\u001b[0m\u001b[0;34m\u001b[0m\u001b[0m\n",
      "\u001b[0;32m/usr/local/lib/python3.6/dist-packages/sklearn/model_selection/_search.py\u001b[0m in \u001b[0;36mfit\u001b[0;34m(self, X, y, groups, **fit_params)\u001b[0m\n\u001b[1;32m    638\u001b[0m                                   error_score=self.error_score)\n\u001b[1;32m    639\u001b[0m           for parameters, (train, test) in product(candidate_params,\n\u001b[0;32m--> 640\u001b[0;31m                                                    cv.split(X, y, groups)))\n\u001b[0m\u001b[1;32m    641\u001b[0m \u001b[0;34m\u001b[0m\u001b[0m\n\u001b[1;32m    642\u001b[0m         \u001b[0;31m# if one choose to see train score, \"out\" will contain train score info\u001b[0m\u001b[0;34m\u001b[0m\u001b[0;34m\u001b[0m\u001b[0m\n",
      "\u001b[0;32m/usr/local/lib/python3.6/dist-packages/sklearn/externals/joblib/parallel.py\u001b[0m in \u001b[0;36m__call__\u001b[0;34m(self, iterable)\u001b[0m\n\u001b[1;32m    787\u001b[0m                 \u001b[0;31m# consumption.\u001b[0m\u001b[0;34m\u001b[0m\u001b[0;34m\u001b[0m\u001b[0m\n\u001b[1;32m    788\u001b[0m                 \u001b[0mself\u001b[0m\u001b[0;34m.\u001b[0m\u001b[0m_iterating\u001b[0m \u001b[0;34m=\u001b[0m \u001b[0;32mFalse\u001b[0m\u001b[0;34m\u001b[0m\u001b[0m\n\u001b[0;32m--> 789\u001b[0;31m             \u001b[0mself\u001b[0m\u001b[0;34m.\u001b[0m\u001b[0mretrieve\u001b[0m\u001b[0;34m(\u001b[0m\u001b[0;34m)\u001b[0m\u001b[0;34m\u001b[0m\u001b[0m\n\u001b[0m\u001b[1;32m    790\u001b[0m             \u001b[0;31m# Make sure that we get a last message telling us we are done\u001b[0m\u001b[0;34m\u001b[0m\u001b[0;34m\u001b[0m\u001b[0m\n\u001b[1;32m    791\u001b[0m             \u001b[0melapsed_time\u001b[0m \u001b[0;34m=\u001b[0m \u001b[0mtime\u001b[0m\u001b[0;34m.\u001b[0m\u001b[0mtime\u001b[0m\u001b[0;34m(\u001b[0m\u001b[0;34m)\u001b[0m \u001b[0;34m-\u001b[0m \u001b[0mself\u001b[0m\u001b[0;34m.\u001b[0m\u001b[0m_start_time\u001b[0m\u001b[0;34m\u001b[0m\u001b[0m\n",
      "\u001b[0;32m/usr/local/lib/python3.6/dist-packages/sklearn/externals/joblib/parallel.py\u001b[0m in \u001b[0;36mretrieve\u001b[0;34m(self)\u001b[0m\n\u001b[1;32m    697\u001b[0m             \u001b[0;32mtry\u001b[0m\u001b[0;34m:\u001b[0m\u001b[0;34m\u001b[0m\u001b[0m\n\u001b[1;32m    698\u001b[0m                 \u001b[0;32mif\u001b[0m \u001b[0mgetattr\u001b[0m\u001b[0;34m(\u001b[0m\u001b[0mself\u001b[0m\u001b[0;34m.\u001b[0m\u001b[0m_backend\u001b[0m\u001b[0;34m,\u001b[0m \u001b[0;34m'supports_timeout'\u001b[0m\u001b[0;34m,\u001b[0m \u001b[0;32mFalse\u001b[0m\u001b[0;34m)\u001b[0m\u001b[0;34m:\u001b[0m\u001b[0;34m\u001b[0m\u001b[0m\n\u001b[0;32m--> 699\u001b[0;31m                     \u001b[0mself\u001b[0m\u001b[0;34m.\u001b[0m\u001b[0m_output\u001b[0m\u001b[0;34m.\u001b[0m\u001b[0mextend\u001b[0m\u001b[0;34m(\u001b[0m\u001b[0mjob\u001b[0m\u001b[0;34m.\u001b[0m\u001b[0mget\u001b[0m\u001b[0;34m(\u001b[0m\u001b[0mtimeout\u001b[0m\u001b[0;34m=\u001b[0m\u001b[0mself\u001b[0m\u001b[0;34m.\u001b[0m\u001b[0mtimeout\u001b[0m\u001b[0;34m)\u001b[0m\u001b[0;34m)\u001b[0m\u001b[0;34m\u001b[0m\u001b[0m\n\u001b[0m\u001b[1;32m    700\u001b[0m                 \u001b[0;32melse\u001b[0m\u001b[0;34m:\u001b[0m\u001b[0;34m\u001b[0m\u001b[0m\n\u001b[1;32m    701\u001b[0m                     \u001b[0mself\u001b[0m\u001b[0;34m.\u001b[0m\u001b[0m_output\u001b[0m\u001b[0;34m.\u001b[0m\u001b[0mextend\u001b[0m\u001b[0;34m(\u001b[0m\u001b[0mjob\u001b[0m\u001b[0;34m.\u001b[0m\u001b[0mget\u001b[0m\u001b[0;34m(\u001b[0m\u001b[0;34m)\u001b[0m\u001b[0;34m)\u001b[0m\u001b[0;34m\u001b[0m\u001b[0m\n",
      "\u001b[0;32m/usr/lib/python3.6/multiprocessing/pool.py\u001b[0m in \u001b[0;36mget\u001b[0;34m(self, timeout)\u001b[0m\n\u001b[1;32m    636\u001b[0m \u001b[0;34m\u001b[0m\u001b[0m\n\u001b[1;32m    637\u001b[0m     \u001b[0;32mdef\u001b[0m \u001b[0mget\u001b[0m\u001b[0;34m(\u001b[0m\u001b[0mself\u001b[0m\u001b[0;34m,\u001b[0m \u001b[0mtimeout\u001b[0m\u001b[0;34m=\u001b[0m\u001b[0;32mNone\u001b[0m\u001b[0;34m)\u001b[0m\u001b[0;34m:\u001b[0m\u001b[0;34m\u001b[0m\u001b[0m\n\u001b[0;32m--> 638\u001b[0;31m         \u001b[0mself\u001b[0m\u001b[0;34m.\u001b[0m\u001b[0mwait\u001b[0m\u001b[0;34m(\u001b[0m\u001b[0mtimeout\u001b[0m\u001b[0;34m)\u001b[0m\u001b[0;34m\u001b[0m\u001b[0m\n\u001b[0m\u001b[1;32m    639\u001b[0m         \u001b[0;32mif\u001b[0m \u001b[0;32mnot\u001b[0m \u001b[0mself\u001b[0m\u001b[0;34m.\u001b[0m\u001b[0mready\u001b[0m\u001b[0;34m(\u001b[0m\u001b[0;34m)\u001b[0m\u001b[0;34m:\u001b[0m\u001b[0;34m\u001b[0m\u001b[0m\n\u001b[1;32m    640\u001b[0m             \u001b[0;32mraise\u001b[0m \u001b[0mTimeoutError\u001b[0m\u001b[0;34m\u001b[0m\u001b[0m\n",
      "\u001b[0;32m/usr/lib/python3.6/multiprocessing/pool.py\u001b[0m in \u001b[0;36mwait\u001b[0;34m(self, timeout)\u001b[0m\n\u001b[1;32m    633\u001b[0m \u001b[0;34m\u001b[0m\u001b[0m\n\u001b[1;32m    634\u001b[0m     \u001b[0;32mdef\u001b[0m \u001b[0mwait\u001b[0m\u001b[0;34m(\u001b[0m\u001b[0mself\u001b[0m\u001b[0;34m,\u001b[0m \u001b[0mtimeout\u001b[0m\u001b[0;34m=\u001b[0m\u001b[0;32mNone\u001b[0m\u001b[0;34m)\u001b[0m\u001b[0;34m:\u001b[0m\u001b[0;34m\u001b[0m\u001b[0m\n\u001b[0;32m--> 635\u001b[0;31m         \u001b[0mself\u001b[0m\u001b[0;34m.\u001b[0m\u001b[0m_event\u001b[0m\u001b[0;34m.\u001b[0m\u001b[0mwait\u001b[0m\u001b[0;34m(\u001b[0m\u001b[0mtimeout\u001b[0m\u001b[0;34m)\u001b[0m\u001b[0;34m\u001b[0m\u001b[0m\n\u001b[0m\u001b[1;32m    636\u001b[0m \u001b[0;34m\u001b[0m\u001b[0m\n\u001b[1;32m    637\u001b[0m     \u001b[0;32mdef\u001b[0m \u001b[0mget\u001b[0m\u001b[0;34m(\u001b[0m\u001b[0mself\u001b[0m\u001b[0;34m,\u001b[0m \u001b[0mtimeout\u001b[0m\u001b[0;34m=\u001b[0m\u001b[0;32mNone\u001b[0m\u001b[0;34m)\u001b[0m\u001b[0;34m:\u001b[0m\u001b[0;34m\u001b[0m\u001b[0m\n",
      "\u001b[0;32m/usr/lib/python3.6/threading.py\u001b[0m in \u001b[0;36mwait\u001b[0;34m(self, timeout)\u001b[0m\n\u001b[1;32m    549\u001b[0m             \u001b[0msignaled\u001b[0m \u001b[0;34m=\u001b[0m \u001b[0mself\u001b[0m\u001b[0;34m.\u001b[0m\u001b[0m_flag\u001b[0m\u001b[0;34m\u001b[0m\u001b[0m\n\u001b[1;32m    550\u001b[0m             \u001b[0;32mif\u001b[0m \u001b[0;32mnot\u001b[0m \u001b[0msignaled\u001b[0m\u001b[0;34m:\u001b[0m\u001b[0;34m\u001b[0m\u001b[0m\n\u001b[0;32m--> 551\u001b[0;31m                 \u001b[0msignaled\u001b[0m \u001b[0;34m=\u001b[0m \u001b[0mself\u001b[0m\u001b[0;34m.\u001b[0m\u001b[0m_cond\u001b[0m\u001b[0;34m.\u001b[0m\u001b[0mwait\u001b[0m\u001b[0;34m(\u001b[0m\u001b[0mtimeout\u001b[0m\u001b[0;34m)\u001b[0m\u001b[0;34m\u001b[0m\u001b[0m\n\u001b[0m\u001b[1;32m    552\u001b[0m             \u001b[0;32mreturn\u001b[0m \u001b[0msignaled\u001b[0m\u001b[0;34m\u001b[0m\u001b[0m\n\u001b[1;32m    553\u001b[0m \u001b[0;34m\u001b[0m\u001b[0m\n",
      "\u001b[0;32m/usr/lib/python3.6/threading.py\u001b[0m in \u001b[0;36mwait\u001b[0;34m(self, timeout)\u001b[0m\n\u001b[1;32m    293\u001b[0m         \u001b[0;32mtry\u001b[0m\u001b[0;34m:\u001b[0m    \u001b[0;31m# restore state no matter what (e.g., KeyboardInterrupt)\u001b[0m\u001b[0;34m\u001b[0m\u001b[0m\n\u001b[1;32m    294\u001b[0m             \u001b[0;32mif\u001b[0m \u001b[0mtimeout\u001b[0m \u001b[0;32mis\u001b[0m \u001b[0;32mNone\u001b[0m\u001b[0;34m:\u001b[0m\u001b[0;34m\u001b[0m\u001b[0m\n\u001b[0;32m--> 295\u001b[0;31m                 \u001b[0mwaiter\u001b[0m\u001b[0;34m.\u001b[0m\u001b[0macquire\u001b[0m\u001b[0;34m(\u001b[0m\u001b[0;34m)\u001b[0m\u001b[0;34m\u001b[0m\u001b[0m\n\u001b[0m\u001b[1;32m    296\u001b[0m                 \u001b[0mgotit\u001b[0m \u001b[0;34m=\u001b[0m \u001b[0;32mTrue\u001b[0m\u001b[0;34m\u001b[0m\u001b[0m\n\u001b[1;32m    297\u001b[0m             \u001b[0;32melse\u001b[0m\u001b[0;34m:\u001b[0m\u001b[0;34m\u001b[0m\u001b[0m\n",
      "\u001b[0;31mKeyboardInterrupt\u001b[0m: "
     ]
    }
   ],
   "source": [
    "clf_RF = RandomForestClassifier(class_weight=\"balanced\",random_state=123)\n",
    "# Parametros a variar \n",
    "parameters = {'n_estimators':[1000, 1200],'max_features': [10,20,'auto'],\"max_depth\":[5,10,None] }\n",
    "# define un grid search a realizar \n",
    "grid_search_RF = GridSearchCV(clf_RF, parameters,scoring='f1_macro',cv=10,return_train_score=True, n_jobs=-1)\n",
    "# realiza el grid search evaluando el modelo en un esquema de Cross-Validation\n",
    "grid_search_RF.fit(trainset_texto_token, trainset_clase)\n",
    "# selecciona el mejor modelo (mejor set de parametros)\n",
    "best_clf_RF = grid_search_RF.best_estimator_\n",
    "print (\"n_estimators:\",best_clf_RF.n_estimators,\"; max_features:\",best_clf_RF.max_features,\"; max_depth:\",best_clf_RF.max_depth )\n",
    "print(\"fscore_cv=\",grid_search_RF.cv_results_[\"mean_test_score\"].max())"
   ]
  },
  {
   "cell_type": "code",
   "execution_count": null,
   "metadata": {},
   "outputs": [],
   "source": [
    "filename = 'randomforest_lemmatizado_sololetras.sav'\n",
    "pickle.dump(grid_search_RF, open(filename, 'wb'))"
   ]
  },
  {
   "cell_type": "markdown",
   "metadata": {},
   "source": [
    "### Evalúo el desempeño entre Naive Bayes y Random Forest mediante un histograma"
   ]
  },
  {
   "cell_type": "code",
   "execution_count": 160,
   "metadata": {},
   "outputs": [
    {
     "data": {
      "text/plain": [
       "<matplotlib.collections.LineCollection at 0x7f2f13ff4780>"
      ]
     },
     "execution_count": 160,
     "metadata": {},
     "output_type": "execute_result"
    },
    {
     "data": {
      "image/png": "[encoded data removed]",
      "text/plain": [
       "<Figure size 432x288 with 1 Axes>"
      ]
     },
     "metadata": {},
     "output_type": "display_data"
    }
   ],
   "source": [
    "rfscore = grid_search_RF.cv_results_[\"mean_test_score\"].max()\n",
    "histograma = plt.hist(f_measure_random)\n",
    "plt.vlines(rfscore,ymin=0,ymax=histograma[0].max()) #En negro Random Forest\n",
    "plt.title(\"p-val=\"+str((f_measure_random>rfscore).sum()/len(f_measure_random)))\n",
    "plt.vlines(MNB_score,ymin=0,ymax=histograma[0].max(),color=\"red\") #En rojo Naive Bayes"
   ]
  },
  {
   "cell_type": "markdown",
   "metadata": {},
   "source": [
    "### Grafico las palabras importantes"
   ]
  },
  {
   "cell_type": "code",
   "execution_count": 139,
   "metadata": {},
   "outputs": [
    {
     "data": {
      "text/plain": [
       "(array([0.   , 0.002, 0.004, 0.006, 0.008, 0.01 , 0.012, 0.014, 0.016]),\n",
       " <a list of 9 Text yticklabel objects>)"
      ]
     },
     "execution_count": 139,
     "metadata": {},
     "output_type": "execute_result"
    },
    {
     "data": {
      "image/png": "[encoded data removed]",
      "text/plain": [
       "<Figure size 1080x360 with 1 Axes>"
      ]
     },
     "metadata": {},
     "output_type": "display_data"
    }
   ],
   "source": [
    "important_words = pd.Series(best_clf_RF.feature_importances_,index=count_vect.get_feature_names()).sort_values(ascending=False)[:25]\n",
    "important_words.plot(kind=\"bar\",figsize=(15,5),color=\"darkblue\")\n",
    "plt.ylabel(\"Feature importance\",size=20);plt.xticks(size = 20);plt.yticks(size = 20)\n",
    "# Es probable que wa y ha sean problema del tokenizador "
   ]
  },
  {
   "cell_type": "markdown",
   "metadata": {},
   "source": [
    "### Armo un Pipeline para evaluar usando TF-IDF"
   ]
  },
  {
   "cell_type": "code",
   "execution_count": 58,
   "metadata": {},
   "outputs": [],
   "source": [
    "pipeline = Pipeline([('tfidf', TfidfVectorizer(preprocessor=clean_text, tokenizer=tokenizer,stop_words=\"english\",ngram_range=(1,2))),\n",
    "                     ('reduce_dim', SelectKBest(mutual_info_classif)),\n",
    "                     ('clf',  MultinomialNB())])\n",
    "    \n",
    "parameters = {'tfidf__use_idf': [True],\n",
    "              'tfidf__min_df': [3,5,7,10],\n",
    "              'clf__alpha': [0.001, 0.01,0.1,1,10,100]}\n",
    "\n",
    "clf_pipe = GridSearchCV(pipeline, parameters, scoring='f1_macro',cv=10,return_train_score=True, n_jobs=-1)\n",
    "\n",
    "clf_pipe.fit(trainset_texto, trainset_clase)\n",
    "\n",
    "best_pipeline = clf_pipe.best_estimator_"
   ]
  },
  {
   "cell_type": "code",
   "execution_count": 183,
   "metadata": {},
   "outputs": [
    {
     "data": {
      "text/plain": [
       "1    891\n",
       "0    113\n",
       "dtype: int64"
      ]
     },
     "execution_count": 183,
     "metadata": {},
     "output_type": "execute_result"
    }
   ],
   "source": []
  },
  {
   "cell_type": "code",
   "execution_count": 59,
   "metadata": {},
   "outputs": [],
   "source": [
    "filename = 'nb_tfidf_cleantext.sav'\n",
    "pickle.dump(clf_pipe, open(filename, 'wb'))"
   ]
  },
  {
   "cell_type": "markdown",
   "metadata": {},
   "source": [
    "#### Evalúo el Pipeline"
   ]
  },
  {
   "cell_type": "code",
   "execution_count": 13,
   "metadata": {},
   "outputs": [
    {
     "name": "stdout",
     "output_type": "stream",
     "text": [
      "Best score: 0.4031697131727374\n",
      "\n",
      "Best parameters set:\n",
      "use idf: True\n",
      "RF max_features: 10\n",
      "RF max_depth: 10\n"
     ]
    }
   ],
   "source": [
    "print(\"Best score:\",clf_pipe.best_score_)\n",
    "print(\"\\nBest parameters set:\")\n",
    "best_parameters = best_pipeline.get_params()\n",
    "print(\"use idf:\",best_parameters[\"tfidf__use_idf\"])\n",
    "print(\"RF max_features:\",best_parameters[\"tfidf__min_df\"])\n",
    "print(\"RF max_depth:\",best_parameters[\"clf__alpha\"])"
   ]
  },
  {
   "cell_type": "code",
   "execution_count": null,
   "metadata": {},
   "outputs": [],
   "source": [
    "#### ACÁ EMPIEZO OTRA PARTE"
   ]
  },
  {
   "cell_type": "code",
   "execution_count": 4,
   "metadata": {},
   "outputs": [],
   "source": [
    "## VOY A ARMAR UN MODELO PARA COMPLEJIDAD DE LA EXPRESION"
   ]
  },
  {
   "cell_type": "code",
   "execution_count": null,
   "metadata": {},
   "outputs": [],
   "source": [
    "## Empiezo con cosas basicas como algunos signos de puntuacion, longitud de palabras, cantidad de caracteres y cantidad de caracteres por palabra."
   ]
  },
  {
   "cell_type": "code",
   "execution_count": 70,
   "metadata": {},
   "outputs": [],
   "source": [
    "coma = trainset_texto.apply(lambda x: len(re.findall(\",\",x)))\n",
    "puntos = trainset_texto.apply(lambda x: len(re.findall(\"\\.\",x)))\n",
    "parentesis = trainset_texto.apply(lambda x: len(re.findall(\"\\(\",x)))\n",
    "word_count = trainset_texto.apply(lambda x: len(x.replace(\"'\",\"\").split()))\n",
    "letras = trainset_texto.apply(lambda x: len(list(re.sub(\"\\W\",\"\",x))))\n",
    "charbyword = letras/word_count"
   ]
  },
  {
   "cell_type": "code",
   "execution_count": 98,
   "metadata": {},
   "outputs": [],
   "source": [
    "##"
   ]
  },
  {
   "cell_type": "code",
   "execution_count": 71,
   "metadata": {},
   "outputs": [
    {
     "data": {
      "text/plain": [
       "6793                      My friends hung out without me.\n",
       "1396                                   I am always honest\n",
       "5220                                 Butterfly is a plant\n",
       "4894    The kerala film industry is the biggest film i...\n",
       "4520    I made steaks on the grill with corn on the co...\n",
       "4002            The moon has lower gravity than the earth\n",
       "3108                               Labs are always yellow\n",
       "322           Playstation is a product developed by sony.\n",
       "5779    There are many recipe sites on the internet th...\n",
       "2541    Only when there are clouds in the sky, there w...\n",
       "Name: text, dtype: object"
      ]
     },
     "execution_count": 71,
     "metadata": {},
     "output_type": "execute_result"
    }
   ],
   "source": [
    "trainset_texto.head(10)\n"
   ]
  },
  {
   "cell_type": "code",
   "execution_count": 72,
   "metadata": {},
   "outputs": [
    {
     "data": {
      "text/html": [
       "<div>\n",
       "<style scoped>\n",
       "    .dataframe tbody tr th:only-of-type {\n",
       "        vertical-align: middle;\n",
       "    }\n",
       "\n",
       "    .dataframe tbody tr th {\n",
       "        vertical-align: top;\n",
       "    }\n",
       "\n",
       "    .dataframe thead th {\n",
       "        text-align: right;\n",
       "    }\n",
       "</style>\n",
       "<table border=\"1\" class=\"dataframe\">\n",
       "  <thead>\n",
       "    <tr style=\"text-align: right;\">\n",
       "      <th></th>\n",
       "      <th>Word</th>\n",
       "      <th>Bigram</th>\n",
       "      <th>Conc.M</th>\n",
       "      <th>Conc.SD</th>\n",
       "      <th>Unknown</th>\n",
       "      <th>Total</th>\n",
       "      <th>Percent_known</th>\n",
       "      <th>SUBTLEX</th>\n",
       "      <th>Dom_Pos</th>\n",
       "    </tr>\n",
       "  </thead>\n",
       "  <tbody>\n",
       "    <tr>\n",
       "      <th>0</th>\n",
       "      <td>roadsweeper</td>\n",
       "      <td>0</td>\n",
       "      <td>4.85</td>\n",
       "      <td>0.37</td>\n",
       "      <td>1</td>\n",
       "      <td>27</td>\n",
       "      <td>0.96</td>\n",
       "      <td>0</td>\n",
       "      <td>0</td>\n",
       "    </tr>\n",
       "    <tr>\n",
       "      <th>1</th>\n",
       "      <td>traindriver</td>\n",
       "      <td>0</td>\n",
       "      <td>4.54</td>\n",
       "      <td>0.71</td>\n",
       "      <td>3</td>\n",
       "      <td>29</td>\n",
       "      <td>0.90</td>\n",
       "      <td>0</td>\n",
       "      <td>0</td>\n",
       "    </tr>\n",
       "  </tbody>\n",
       "</table>\n",
       "</div>"
      ],
      "text/plain": [
       "          Word  Bigram  Conc.M  Conc.SD  Unknown  Total  Percent_known  \\\n",
       "0  roadsweeper       0    4.85     0.37        1     27           0.96   \n",
       "1  traindriver       0    4.54     0.71        3     29           0.90   \n",
       "\n",
       "   SUBTLEX Dom_Pos  \n",
       "0        0       0  \n",
       "1        0       0  "
      ]
     },
     "execution_count": 72,
     "metadata": {},
     "output_type": "execute_result"
    }
   ],
   "source": [
    "## indice de concreción (que tan concreto/abstracto es una palabra) \n",
    "conc_rating = pd.read_csv(\"Concreteness_ratings.txt\",sep=\"\t\")\n",
    "conc_rating.head(2)"
   ]
  },
  {
   "cell_type": "code",
   "execution_count": 101,
   "metadata": {},
   "outputs": [],
   "source": [
    "## Tomo la concreción promedio de cada frase (sin lematizar)"
   ]
  },
  {
   "cell_type": "code",
   "execution_count": 73,
   "metadata": {},
   "outputs": [],
   "source": [
    "def conc_src(ele):\n",
    "    if ele in conc_rating.Word.values:\n",
    "        score = conc_rating.loc[conc_rating['Word'] == ele,\"Conc.M\"]\n",
    "        return float(score)\n",
    "    else:\n",
    "        return 0\n",
    "\n",
    "\n",
    "## no olvidarse de corregir esto, es para la prueba nomas\n",
    "pru = trainset_texto.sample(500)\n",
    "concre_media = pru.apply(lambda x: np.mean([conc_src(ele) for ele in x.split()]))"
   ]
  },
  {
   "cell_type": "code",
   "execution_count": 74,
   "metadata": {},
   "outputs": [
    {
     "data": {
      "text/plain": [
       "4935    1.335000\n",
       "1178    1.470000\n",
       "6508    1.527500\n",
       "2360    2.543333\n",
       "6156    1.522500\n",
       "5243    1.911250\n",
       "2764    1.148889\n",
       "1565    0.972000\n",
       "2485    2.514000\n",
       "2939    2.044000\n",
       "Name: text, dtype: float64"
      ]
     },
     "execution_count": 74,
     "metadata": {},
     "output_type": "execute_result"
    }
   ],
   "source": [
    "concre_media.head(10)"
   ]
  },
  {
   "cell_type": "code",
   "execution_count": 75,
   "metadata": {},
   "outputs": [],
   "source": [
    "### probemos lematizando\n",
    "concre_media_l = pru.apply(lambda x: np.mean([conc_src(WordNetLemmatizer().lemmatize(ele)) for ele in x.split()]))"
   ]
  },
  {
   "cell_type": "code",
   "execution_count": 76,
   "metadata": {},
   "outputs": [
    {
     "data": {
      "text/plain": [
       "<matplotlib.legend.Legend at 0x7f2f20257a58>"
      ]
     },
     "execution_count": 76,
     "metadata": {},
     "output_type": "execute_result"
    },
    {
     "data": {
      "image/png": "[encoded data removed]",
      "text/plain": [
       "<Figure size 432x288 with 1 Axes>"
      ]
     },
     "metadata": {},
     "output_type": "display_data"
    }
   ],
   "source": [
    "plt.hist(concre_media,alpha = 0.5,label=\"no lematizado\")\n",
    "plt.hist(concre_media_l,alpha = 0.5,label=\"lematizado\")\n",
    "plt.legend(loc='upper right')\n",
    "## hay un toque de diferencia, pero tampoco la pavada. \n",
    "## el lematizador despues lo trato de mejorar con pos tagging "
   ]
  },
  {
   "cell_type": "code",
   "execution_count": 106,
   "metadata": {},
   "outputs": [],
   "source": [
    "## POR AHORA ME QUEDO SOLAMENTE CON LA MEDIA SIN LEMATIZAR. DESPUES LO SIGO LABURANDO "
   ]
  },
  {
   "cell_type": "code",
   "execution_count": 77,
   "metadata": {},
   "outputs": [],
   "source": [
    "concre_media = trainset_texto.apply(lambda x: np.mean([conc_src(ele) for ele in x.split()]))"
   ]
  },
  {
   "cell_type": "code",
   "execution_count": null,
   "metadata": {},
   "outputs": [],
   "source": [
    "## en otro feature cuento la cantidad de palabras con una concreción baja (palabras abstractas)\n",
    "## pongo un umbral de 2.5 para decir que es baja o alta (el maximo es 5)"
   ]
  },
  {
   "cell_type": "code",
   "execution_count": 78,
   "metadata": {},
   "outputs": [],
   "source": [
    "def es_abstracta(ele):\n",
    "    if ele in conc_rating.Word.values:\n",
    "        score = conc_rating.loc[conc_rating['Word'] == ele,\"Conc.M\"]\n",
    "        return float(score) < 2.5\n",
    "    else:\n",
    "        return False\n",
    "    \n",
    "cant_abstractas = trainset_texto.apply(lambda x: sum([es_abstracta(ele) for ele in x.split()]))"
   ]
  },
  {
   "cell_type": "code",
   "execution_count": 79,
   "metadata": {},
   "outputs": [],
   "source": [
    "df_comp_train = pd.concat([coma,puntos,parentesis,word_count,letras,charbyword,concre_media, cant_abstractas ],axis=1)\n",
    "df_comp_train.columns = [\"coma\",\"puntos\",\"parentesis\",\"word_count\",\"letras\",\"charbyword\",\"concre_media\",\"cant_abstractas\"]"
   ]
  },
  {
   "cell_type": "code",
   "execution_count": 60,
   "metadata": {},
   "outputs": [],
   "source": [
    "# ACÁ TE AHORRO TIEMPO\n",
    "df_comp_train = pd.read_csv(\"df_comp_train.csv\",index_col=0)"
   ]
  },
  {
   "cell_type": "code",
   "execution_count": 34,
   "metadata": {},
   "outputs": [],
   "source": [
    "### en el proximo dejo armado dos modelitos para ir probando.Pero faltan todavia un par de features:\n",
    "## unas metricas que tengo anotadas y el lexiconde imaginabilidad"
   ]
  },
  {
   "cell_type": "code",
   "execution_count": 80,
   "metadata": {},
   "outputs": [],
   "source": [
    "silabas = trainset_texto.apply(txt.syllable_count)\n",
    "flesch= trainset_texto.apply(txt.flesch_reading_ease)\n",
    "smog = trainset_texto.apply(txt.smog_index)\n",
    "dale_chal = trainset_texto.apply(txt.dale_chall_readability_score)\n",
    "ari = trainset_texto.apply(txt.automated_readability_index)\n",
    "\n",
    "df_comp_train = pd.concat([df_comp_train,silabas,flesch,smog,dale_chal,ari],axis=1)"
   ]
  },
  {
   "cell_type": "code",
   "execution_count": 81,
   "metadata": {},
   "outputs": [],
   "source": [
    "df_comp_train.columns = [\"coma\",\"puntos\",\"parentesis\",\"word_count\",\"letras\",\"charbyword\",\"concre_media\",\"cant_abstractas\",\"silabas\",\"flesch\",\"smog\",\"dale_chal\",\"ari\"]"
   ]
  },
  {
   "cell_type": "code",
   "execution_count": 82,
   "metadata": {},
   "outputs": [
    {
     "data": {
      "text/html": [
       "<div>\n",
       "<style scoped>\n",
       "    .dataframe tbody tr th:only-of-type {\n",
       "        vertical-align: middle;\n",
       "    }\n",
       "\n",
       "    .dataframe tbody tr th {\n",
       "        vertical-align: top;\n",
       "    }\n",
       "\n",
       "    .dataframe thead th {\n",
       "        text-align: right;\n",
       "    }\n",
       "</style>\n",
       "<table border=\"1\" class=\"dataframe\">\n",
       "  <thead>\n",
       "    <tr style=\"text-align: right;\">\n",
       "      <th></th>\n",
       "      <th>Word</th>\n",
       "      <th>p1</th>\n",
       "      <th>p2</th>\n",
       "      <th>p3</th>\n",
       "    </tr>\n",
       "  </thead>\n",
       "  <tbody>\n",
       "    <tr>\n",
       "      <th>0</th>\n",
       "      <td>a</td>\n",
       "      <td>2.0</td>\n",
       "      <td>1.3846</td>\n",
       "      <td>1.0</td>\n",
       "    </tr>\n",
       "  </tbody>\n",
       "</table>\n",
       "</div>"
      ],
      "text/plain": [
       "  Word   p1      p2   p3\n",
       "0    a  2.0  1.3846  1.0"
      ]
     },
     "execution_count": 82,
     "metadata": {},
     "output_type": "execute_result"
    }
   ],
   "source": [
    "### indice de imaginabilidad\n",
    "imag_rating= pd.read_csv(\"DAL_cleaned.txt\",sep='\\s+',header=None)\n",
    "imag_rating.columns = ['Word',\"p1\",\"p2\",\"p3\"]\n",
    "imag_rating.head(1)"
   ]
  },
  {
   "cell_type": "code",
   "execution_count": 38,
   "metadata": {},
   "outputs": [],
   "source": [
    "## agrego puntaje de imaginabilidad"
   ]
  },
  {
   "cell_type": "code",
   "execution_count": 83,
   "metadata": {},
   "outputs": [
    {
     "name": "stderr",
     "output_type": "stream",
     "text": [
      "/usr/local/lib/python3.6/dist-packages/ipykernel_launcher.py:10: RuntimeWarning: Mean of empty slice\n",
      "  # Remove the CWD from sys.path while we load stuff.\n"
     ]
    },
    {
     "data": {
      "text/plain": [
       "6793    2.100000\n",
       "1396    1.266667\n",
       "5220    1.666667\n",
       "4894    1.975000\n",
       "4520    1.511111\n",
       "4002    1.766667\n",
       "3108    1.800000\n",
       "322     1.400000\n",
       "5779    1.387500\n",
       "2541    1.340000\n",
       "Name: text, dtype: float64"
      ]
     },
     "execution_count": 83,
     "metadata": {},
     "output_type": "execute_result"
    }
   ],
   "source": [
    "def imag_src(ele):\n",
    "    if ele in imag_rating.Word.values:\n",
    "        ele = ele.lower()\n",
    "        p3 = imag_rating.loc[imag_rating['Word'] == ele,\"p3\"]\n",
    "        return p3.iloc[0]\n",
    "    else:\n",
    "        return float(\"nan\")\n",
    "\n",
    "### toma el promedio de la imaginabilidad de las palabras\n",
    "imag_scores = trainset_texto.apply(lambda x: np.nanmean([imag_src(ele) for ele in x.split()]))\n",
    "imag_scores.head(10)"
   ]
  },
  {
   "cell_type": "code",
   "execution_count": 84,
   "metadata": {},
   "outputs": [],
   "source": [
    "def es_imaginable(ele):\n",
    "    if ele in imag_rating.Word.values:\n",
    "        score = imag_rating.loc[imag_rating['Word'] == ele,\"p3\"]\n",
    "        return float(score) < 1.5\n",
    "    else:\n",
    "        return False\n",
    "    \n",
    "cant_imaginables =trainset_texto.apply(lambda x: sum([es_imaginable(ele) for ele in x.split()]))\n"
   ]
  },
  {
   "cell_type": "code",
   "execution_count": 85,
   "metadata": {},
   "outputs": [
    {
     "data": {
      "text/html": [
       "<div>\n",
       "<style scoped>\n",
       "    .dataframe tbody tr th:only-of-type {\n",
       "        vertical-align: middle;\n",
       "    }\n",
       "\n",
       "    .dataframe tbody tr th {\n",
       "        vertical-align: top;\n",
       "    }\n",
       "\n",
       "    .dataframe thead th {\n",
       "        text-align: right;\n",
       "    }\n",
       "</style>\n",
       "<table border=\"1\" class=\"dataframe\">\n",
       "  <thead>\n",
       "    <tr style=\"text-align: right;\">\n",
       "      <th></th>\n",
       "      <th>coma</th>\n",
       "      <th>puntos</th>\n",
       "      <th>parentesis</th>\n",
       "      <th>word_count</th>\n",
       "      <th>letras</th>\n",
       "      <th>charbyword</th>\n",
       "      <th>concre_media</th>\n",
       "      <th>cant_abstractas</th>\n",
       "      <th>silabas</th>\n",
       "      <th>flesch</th>\n",
       "      <th>smog</th>\n",
       "      <th>dale_chal</th>\n",
       "      <th>ari</th>\n",
       "      <th>imag_score</th>\n",
       "      <th>cant_imaginables</th>\n",
       "    </tr>\n",
       "  </thead>\n",
       "  <tbody>\n",
       "    <tr>\n",
       "      <th>6793</th>\n",
       "      <td>0</td>\n",
       "      <td>1</td>\n",
       "      <td>0</td>\n",
       "      <td>6</td>\n",
       "      <td>25</td>\n",
       "      <td>4.166667</td>\n",
       "      <td>1.365000</td>\n",
       "      <td>1</td>\n",
       "      <td>7</td>\n",
       "      <td>99.23</td>\n",
       "      <td>0.0</td>\n",
       "      <td>0.30</td>\n",
       "      <td>2.0</td>\n",
       "      <td>2.100000</td>\n",
       "      <td>1</td>\n",
       "    </tr>\n",
       "    <tr>\n",
       "      <th>1396</th>\n",
       "      <td>0</td>\n",
       "      <td>0</td>\n",
       "      <td>0</td>\n",
       "      <td>4</td>\n",
       "      <td>15</td>\n",
       "      <td>3.750000</td>\n",
       "      <td>2.315000</td>\n",
       "      <td>3</td>\n",
       "      <td>6</td>\n",
       "      <td>75.88</td>\n",
       "      <td>0.0</td>\n",
       "      <td>0.20</td>\n",
       "      <td>-1.9</td>\n",
       "      <td>1.266667</td>\n",
       "      <td>3</td>\n",
       "    </tr>\n",
       "    <tr>\n",
       "      <th>5220</th>\n",
       "      <td>0</td>\n",
       "      <td>0</td>\n",
       "      <td>0</td>\n",
       "      <td>4</td>\n",
       "      <td>17</td>\n",
       "      <td>4.250000</td>\n",
       "      <td>1.952500</td>\n",
       "      <td>2</td>\n",
       "      <td>6</td>\n",
       "      <td>75.88</td>\n",
       "      <td>0.0</td>\n",
       "      <td>7.78</td>\n",
       "      <td>0.6</td>\n",
       "      <td>1.666667</td>\n",
       "      <td>2</td>\n",
       "    </tr>\n",
       "    <tr>\n",
       "      <th>4894</th>\n",
       "      <td>0</td>\n",
       "      <td>1</td>\n",
       "      <td>0</td>\n",
       "      <td>11</td>\n",
       "      <td>52</td>\n",
       "      <td>4.727273</td>\n",
       "      <td>2.280909</td>\n",
       "      <td>2</td>\n",
       "      <td>18</td>\n",
       "      <td>60.31</td>\n",
       "      <td>0.0</td>\n",
       "      <td>9.92</td>\n",
       "      <td>6.8</td>\n",
       "      <td>1.975000</td>\n",
       "      <td>2</td>\n",
       "    </tr>\n",
       "    <tr>\n",
       "      <th>4520</th>\n",
       "      <td>0</td>\n",
       "      <td>1</td>\n",
       "      <td>0</td>\n",
       "      <td>13</td>\n",
       "      <td>46</td>\n",
       "      <td>3.538462</td>\n",
       "      <td>2.619231</td>\n",
       "      <td>4</td>\n",
       "      <td>14</td>\n",
       "      <td>100.58</td>\n",
       "      <td>0.0</td>\n",
       "      <td>5.50</td>\n",
       "      <td>2.1</td>\n",
       "      <td>1.511111</td>\n",
       "      <td>6</td>\n",
       "    </tr>\n",
       "    <tr>\n",
       "      <th>4002</th>\n",
       "      <td>0</td>\n",
       "      <td>0</td>\n",
       "      <td>0</td>\n",
       "      <td>8</td>\n",
       "      <td>34</td>\n",
       "      <td>4.250000</td>\n",
       "      <td>2.305000</td>\n",
       "      <td>2</td>\n",
       "      <td>11</td>\n",
       "      <td>80.28</td>\n",
       "      <td>0.0</td>\n",
       "      <td>7.98</td>\n",
       "      <td>2.6</td>\n",
       "      <td>1.766667</td>\n",
       "      <td>4</td>\n",
       "    </tr>\n",
       "    <tr>\n",
       "      <th>3108</th>\n",
       "      <td>0</td>\n",
       "      <td>0</td>\n",
       "      <td>0</td>\n",
       "      <td>4</td>\n",
       "      <td>19</td>\n",
       "      <td>4.750000</td>\n",
       "      <td>1.992500</td>\n",
       "      <td>2</td>\n",
       "      <td>6</td>\n",
       "      <td>75.88</td>\n",
       "      <td>0.0</td>\n",
       "      <td>0.20</td>\n",
       "      <td>2.9</td>\n",
       "      <td>1.800000</td>\n",
       "      <td>2</td>\n",
       "    </tr>\n",
       "    <tr>\n",
       "      <th>322</th>\n",
       "      <td>0</td>\n",
       "      <td>1</td>\n",
       "      <td>0</td>\n",
       "      <td>7</td>\n",
       "      <td>36</td>\n",
       "      <td>5.142857</td>\n",
       "      <td>1.252857</td>\n",
       "      <td>3</td>\n",
       "      <td>11</td>\n",
       "      <td>64.37</td>\n",
       "      <td>0.0</td>\n",
       "      <td>10.75</td>\n",
       "      <td>7.0</td>\n",
       "      <td>1.400000</td>\n",
       "      <td>3</td>\n",
       "    </tr>\n",
       "    <tr>\n",
       "      <th>5779</th>\n",
       "      <td>0</td>\n",
       "      <td>1</td>\n",
       "      <td>0</td>\n",
       "      <td>20</td>\n",
       "      <td>95</td>\n",
       "      <td>4.750000</td>\n",
       "      <td>2.025000</td>\n",
       "      <td>11</td>\n",
       "      <td>28</td>\n",
       "      <td>68.10</td>\n",
       "      <td>0.0</td>\n",
       "      <td>6.21</td>\n",
       "      <td>11.2</td>\n",
       "      <td>1.387500</td>\n",
       "      <td>12</td>\n",
       "    </tr>\n",
       "    <tr>\n",
       "      <th>2541</th>\n",
       "      <td>1</td>\n",
       "      <td>1</td>\n",
       "      <td>0</td>\n",
       "      <td>14</td>\n",
       "      <td>61</td>\n",
       "      <td>4.357143</td>\n",
       "      <td>1.613571</td>\n",
       "      <td>7</td>\n",
       "      <td>18</td>\n",
       "      <td>82.65</td>\n",
       "      <td>0.0</td>\n",
       "      <td>7.71</td>\n",
       "      <td>6.8</td>\n",
       "      <td>1.340000</td>\n",
       "      <td>8</td>\n",
       "    </tr>\n",
       "  </tbody>\n",
       "</table>\n",
       "</div>"
      ],
      "text/plain": [
       "      coma  puntos  parentesis  word_count  letras  charbyword  concre_media  \\\n",
       "6793     0       1           0           6      25    4.166667      1.365000   \n",
       "1396     0       0           0           4      15    3.750000      2.315000   \n",
       "5220     0       0           0           4      17    4.250000      1.952500   \n",
       "4894     0       1           0          11      52    4.727273      2.280909   \n",
       "4520     0       1           0          13      46    3.538462      2.619231   \n",
       "4002     0       0           0           8      34    4.250000      2.305000   \n",
       "3108     0       0           0           4      19    4.750000      1.992500   \n",
       "322      0       1           0           7      36    5.142857      1.252857   \n",
       "5779     0       1           0          20      95    4.750000      2.025000   \n",
       "2541     1       1           0          14      61    4.357143      1.613571   \n",
       "\n",
       "      cant_abstractas  silabas  flesch  smog  dale_chal   ari  imag_score  \\\n",
       "6793                1        7   99.23   0.0       0.30   2.0    2.100000   \n",
       "1396                3        6   75.88   0.0       0.20  -1.9    1.266667   \n",
       "5220                2        6   75.88   0.0       7.78   0.6    1.666667   \n",
       "4894                2       18   60.31   0.0       9.92   6.8    1.975000   \n",
       "4520                4       14  100.58   0.0       5.50   2.1    1.511111   \n",
       "4002                2       11   80.28   0.0       7.98   2.6    1.766667   \n",
       "3108                2        6   75.88   0.0       0.20   2.9    1.800000   \n",
       "322                 3       11   64.37   0.0      10.75   7.0    1.400000   \n",
       "5779               11       28   68.10   0.0       6.21  11.2    1.387500   \n",
       "2541                7       18   82.65   0.0       7.71   6.8    1.340000   \n",
       "\n",
       "      cant_imaginables  \n",
       "6793                 1  \n",
       "1396                 3  \n",
       "5220                 2  \n",
       "4894                 2  \n",
       "4520                 6  \n",
       "4002                 4  \n",
       "3108                 2  \n",
       "322                  3  \n",
       "5779                12  \n",
       "2541                 8  "
      ]
     },
     "execution_count": 85,
     "metadata": {},
     "output_type": "execute_result"
    }
   ],
   "source": [
    "df_comp_train = pd.concat([df_comp_train, imag_scores.rename(\"imag_score\"),cant_imaginables.rename(\"cant_imaginables\")],axis=1)\n",
    "df_comp_train.head(10)"
   ]
  },
  {
   "cell_type": "code",
   "execution_count": 86,
   "metadata": {},
   "outputs": [
    {
     "name": "stderr",
     "output_type": "stream",
     "text": [
      "/usr/local/lib/python3.6/dist-packages/pandas/core/indexing.py:189: SettingWithCopyWarning: \n",
      "A value is trying to be set on a copy of a slice from a DataFrame\n",
      "\n",
      "See the caveats in the documentation: http://pandas.pydata.org/pandas-docs/stable/indexing.html#indexing-view-versus-copy\n",
      "  self._setitem_with_indexer(indexer, value)\n"
     ]
    }
   ],
   "source": [
    "df_comp_train.imag_score.loc[df_comp_train.imag_score.isna()] = 0"
   ]
  },
  {
   "cell_type": "code",
   "execution_count": 87,
   "metadata": {},
   "outputs": [],
   "source": [
    "df_comp_train_2 = df_comp_train.apply(lambda x: np.where(x<0,x**2,x))"
   ]
  },
  {
   "cell_type": "code",
   "execution_count": 185,
   "metadata": {},
   "outputs": [
    {
     "name": "stdout",
     "output_type": "stream",
     "text": [
      "alpha: 0.001\n",
      "fscore_cv= 0.4979468118075564\n"
     ]
    }
   ],
   "source": [
    "#mod = linear_model.LogisticRegression()\n",
    "mod=  MultinomialNB()\n",
    "# Parametros a variar \n",
    "#parameters = {'C':[0.001,0.01,0.1,1,10,100,1000,10000]}\n",
    "parameters = {'alpha':[0.001,0.003,0.01,0.03,0.1,0.3,1,3,10]}\n",
    "# define un grid search a realizar \n",
    "grid_search_mod = GridSearchCV(mod, parameters,scoring='f1_macro',cv=10,return_train_score=True, n_jobs=-1)\n",
    "# realiza el grid search evaluando el modelo en un esquema de Cross-Validation\n",
    "grid_search_mod.fit(df_comp_train_2, trainset_clase)\n",
    "# selecciona el mejor modelo (mejor set de parametros)\n",
    "best_clf_mod = grid_search_mod.best_estimator_\n",
    "mod_score =grid_search_mod.cv_results_[\"mean_test_score\"].max()\n",
    "#print (\"C:\",best_clf_mod.C )\n",
    "print (\"alpha:\",best_clf_mod.alpha )\n",
    "print(\"fscore_cv=\",grid_search_mod.cv_results_[\"mean_test_score\"].max())\n",
    "\n",
    "MNB_score =grid_search_mod.cv_results_[\"mean_test_score\"].max()\n"
   ]
  },
  {
   "cell_type": "code",
   "execution_count": 89,
   "metadata": {},
   "outputs": [],
   "source": [
    "filename = 'nb_complejidad.sav'\n",
    "pickle.dump(grid_search_mod, open(filename, 'wb'))"
   ]
  },
  {
   "cell_type": "code",
   "execution_count": 77,
   "metadata": {},
   "outputs": [],
   "source": [
    "df_comp_train.loc[:,'clase'] = trainset_clase.values"
   ]
  },
  {
   "cell_type": "code",
   "execution_count": 78,
   "metadata": {
    "scrolled": true
   },
   "outputs": [
    {
     "data": {
      "text/html": [
       "<div>\n",
       "<style scoped>\n",
       "    .dataframe tbody tr th:only-of-type {\n",
       "        vertical-align: middle;\n",
       "    }\n",
       "\n",
       "    .dataframe tbody tr th {\n",
       "        vertical-align: top;\n",
       "    }\n",
       "\n",
       "    .dataframe thead th {\n",
       "        text-align: right;\n",
       "    }\n",
       "</style>\n",
       "<table border=\"1\" class=\"dataframe\">\n",
       "  <thead>\n",
       "    <tr style=\"text-align: right;\">\n",
       "      <th></th>\n",
       "      <th>coma</th>\n",
       "      <th>puntos</th>\n",
       "      <th>parentesis</th>\n",
       "      <th>word_count</th>\n",
       "      <th>letras</th>\n",
       "      <th>charbyword</th>\n",
       "      <th>concre_media</th>\n",
       "      <th>cant_abstractas</th>\n",
       "      <th>silabas</th>\n",
       "      <th>flesch</th>\n",
       "      <th>smog</th>\n",
       "      <th>dale_chal</th>\n",
       "      <th>ari</th>\n",
       "      <th>imag_score</th>\n",
       "      <th>cant_imaginables</th>\n",
       "    </tr>\n",
       "    <tr>\n",
       "      <th>clase</th>\n",
       "      <th></th>\n",
       "      <th></th>\n",
       "      <th></th>\n",
       "      <th></th>\n",
       "      <th></th>\n",
       "      <th></th>\n",
       "      <th></th>\n",
       "      <th></th>\n",
       "      <th></th>\n",
       "      <th></th>\n",
       "      <th></th>\n",
       "      <th></th>\n",
       "      <th></th>\n",
       "      <th></th>\n",
       "      <th></th>\n",
       "    </tr>\n",
       "  </thead>\n",
       "  <tbody>\n",
       "    <tr>\n",
       "      <th>0</th>\n",
       "      <td>0.104067</td>\n",
       "      <td>0.841707</td>\n",
       "      <td>0.000797</td>\n",
       "      <td>8.294258</td>\n",
       "      <td>35.270734</td>\n",
       "      <td>4.233908</td>\n",
       "      <td>1.820690</td>\n",
       "      <td>3.047448</td>\n",
       "      <td>11.253589</td>\n",
       "      <td>83.212963</td>\n",
       "      <td>0.009928</td>\n",
       "      <td>6.281455</td>\n",
       "      <td>3.294099</td>\n",
       "      <td>1.571211</td>\n",
       "      <td>3.349282</td>\n",
       "    </tr>\n",
       "    <tr>\n",
       "      <th>1</th>\n",
       "      <td>0.102830</td>\n",
       "      <td>0.846154</td>\n",
       "      <td>0.002790</td>\n",
       "      <td>7.953766</td>\n",
       "      <td>34.047429</td>\n",
       "      <td>4.272839</td>\n",
       "      <td>1.781949</td>\n",
       "      <td>2.976883</td>\n",
       "      <td>10.907134</td>\n",
       "      <td>82.227923</td>\n",
       "      <td>0.015385</td>\n",
       "      <td>6.509932</td>\n",
       "      <td>3.329016</td>\n",
       "      <td>1.577310</td>\n",
       "      <td>3.161419</td>\n",
       "    </tr>\n",
       "  </tbody>\n",
       "</table>\n",
       "</div>"
      ],
      "text/plain": [
       "           coma    puntos  parentesis  word_count     letras  charbyword  \\\n",
       "clase                                                                      \n",
       "0      0.104067  0.841707    0.000797    8.294258  35.270734    4.233908   \n",
       "1      0.102830  0.846154    0.002790    7.953766  34.047429    4.272839   \n",
       "\n",
       "       concre_media  cant_abstractas    silabas     flesch      smog  \\\n",
       "clase                                                                  \n",
       "0          1.820690         3.047448  11.253589  83.212963  0.009928   \n",
       "1          1.781949         2.976883  10.907134  82.227923  0.015385   \n",
       "\n",
       "       dale_chal       ari  imag_score  cant_imaginables  \n",
       "clase                                                     \n",
       "0       6.281455  3.294099    1.571211          3.349282  \n",
       "1       6.509932  3.329016    1.577310          3.161419  "
      ]
     },
     "execution_count": 78,
     "metadata": {},
     "output_type": "execute_result"
    }
   ],
   "source": [
    "medias = df_comp_train.groupby('clase').agg('mean')\n",
    "medias"
   ]
  },
  {
   "cell_type": "code",
   "execution_count": 79,
   "metadata": {},
   "outputs": [
    {
     "data": {
      "text/plain": [
       "[<matplotlib.lines.Line2D at 0x7fe0ac4ac710>]"
      ]
     },
     "execution_count": 79,
     "metadata": {},
     "output_type": "execute_result"
    },
    {
     "data": {
      "image/png": "[encoded data removed]",
      "text/plain": [
       "<Figure size 432x288 with 1 Axes>"
      ]
     },
     "metadata": {},
     "output_type": "display_data"
    }
   ],
   "source": [
    "## los perfiles claramente superpuestos\n",
    "my_xticks = medias.columns\n",
    "plt.xticks(range(1,15), my_xticks,rotation=90)\n",
    "\n",
    "plt.plot(range(0,15),medias.iloc[0])\n",
    "plt.plot(range(0,15),medias.iloc[1])"
   ]
  },
  {
   "cell_type": "code",
   "execution_count": null,
   "metadata": {},
   "outputs": [],
   "source": [
    "# bueno, en este dataset la hipotesis no se cumple.\n",
    "#Probé métricas que en la literatura funcionan (con diseños que no son de produccion libre)\n",
    "#acá no marchan, claramente."
   ]
  },
  {
   "cell_type": "code",
   "execution_count": 80,
   "metadata": {},
   "outputs": [],
   "source": [
    "df_comp_train = df_comp_train.drop(\"clase\",axis=1).copy()"
   ]
  },
  {
   "cell_type": "code",
   "execution_count": 81,
   "metadata": {},
   "outputs": [
    {
     "data": {
      "text/plain": [
       "Index(['coma', 'puntos', 'parentesis', 'word_count', 'letras', 'charbyword',\n",
       "       'concre_media', 'cant_abstractas', 'silabas', 'flesch', 'smog',\n",
       "       'dale_chal', 'ari', 'imag_score', 'cant_imaginables'],\n",
       "      dtype='object')"
      ]
     },
     "execution_count": 81,
     "metadata": {},
     "output_type": "execute_result"
    }
   ],
   "source": [
    "df_comp_train.columns"
   ]
  },
  {
   "cell_type": "code",
   "execution_count": 186,
   "metadata": {},
   "outputs": [
    {
     "ename": "TypeError",
     "evalue": "'>' not supported between instances of 'list' and 'GridSearchCV'",
     "output_type": "error",
     "traceback": [
      "\u001b[0;31m---------------------------------------------------------------------------\u001b[0m",
      "\u001b[0;31mTypeError\u001b[0m                                 Traceback (most recent call last)",
      "\u001b[0;32m<ipython-input-186-7c20aaba2d03>\u001b[0m in \u001b[0;36m<module>\u001b[0;34m()\u001b[0m\n\u001b[1;32m      1\u001b[0m \u001b[0mhistograma\u001b[0m \u001b[0;34m=\u001b[0m \u001b[0mplt\u001b[0m\u001b[0;34m.\u001b[0m\u001b[0mhist\u001b[0m\u001b[0;34m(\u001b[0m\u001b[0mf_measure_random\u001b[0m\u001b[0;34m)\u001b[0m\u001b[0;34m\u001b[0m\u001b[0m\n\u001b[1;32m      2\u001b[0m \u001b[0mplt\u001b[0m\u001b[0;34m.\u001b[0m\u001b[0mvlines\u001b[0m\u001b[0;34m(\u001b[0m\u001b[0mMNB_score\u001b[0m\u001b[0;34m,\u001b[0m\u001b[0mymin\u001b[0m\u001b[0;34m=\u001b[0m\u001b[0;36m0\u001b[0m\u001b[0;34m,\u001b[0m\u001b[0mymax\u001b[0m\u001b[0;34m=\u001b[0m\u001b[0mhistograma\u001b[0m\u001b[0;34m[\u001b[0m\u001b[0;36m0\u001b[0m\u001b[0;34m]\u001b[0m\u001b[0;34m.\u001b[0m\u001b[0mmax\u001b[0m\u001b[0;34m(\u001b[0m\u001b[0;34m)\u001b[0m\u001b[0;34m)\u001b[0m\u001b[0;34m\u001b[0m\u001b[0m\n\u001b[0;32m----> 3\u001b[0;31m \u001b[0mplt\u001b[0m\u001b[0;34m.\u001b[0m\u001b[0mtitle\u001b[0m\u001b[0;34m(\u001b[0m\u001b[0;34m\"p-val=\"\u001b[0m\u001b[0;34m+\u001b[0m\u001b[0mstr\u001b[0m\u001b[0;34m(\u001b[0m\u001b[0;34m(\u001b[0m\u001b[0mf_measure_random\u001b[0m\u001b[0;34m>\u001b[0m\u001b[0mgrid_search_mod\u001b[0m\u001b[0;34m)\u001b[0m\u001b[0;34m.\u001b[0m\u001b[0msum\u001b[0m\u001b[0;34m(\u001b[0m\u001b[0;34m)\u001b[0m\u001b[0;34m/\u001b[0m\u001b[0mlen\u001b[0m\u001b[0;34m(\u001b[0m\u001b[0mf_measure_random\u001b[0m\u001b[0;34m)\u001b[0m\u001b[0;34m)\u001b[0m\u001b[0;34m)\u001b[0m\u001b[0;34m\u001b[0m\u001b[0m\n\u001b[0m",
      "\u001b[0;31mTypeError\u001b[0m: '>' not supported between instances of 'list' and 'GridSearchCV'"
     ]
    },
    {
     "data": {
      "image/png": "[encoded data removed]",
      "text/plain": [
       "<Figure size 432x288 with 1 Axes>"
      ]
     },
     "metadata": {},
     "output_type": "display_data"
    }
   ],
   "source": [
    "histograma = plt.hist(f_measure_random)\n",
    "plt.vlines(MNB_score,ymin=0,ymax=histograma[0].max())\n",
    "plt.title(\"p-val=\"+str((f_measure_random>grid_search_mod).sum()/len(f_measure_random)))"
   ]
  },
  {
   "cell_type": "code",
   "execution_count": 90,
   "metadata": {},
   "outputs": [],
   "source": [
    "from sklearn import linear_model\n"
   ]
  },
  {
   "cell_type": "code",
   "execution_count": null,
   "metadata": {},
   "outputs": [],
   "source": [
    "### HASTA ACA CON EL DE COMPLEJIDAD. SE PUEDE REPETIR EL MISMO CON OTRA HIPOTESIS. O BUSCANDO OTRAS FEATURES"
   ]
  },
  {
   "cell_type": "code",
   "execution_count": null,
   "metadata": {},
   "outputs": [],
   "source": [
    "## por ejemplo\n",
    "\n",
    "tiene_I =trainset_texto.apply(lambda x: len(re.findall(r\"\\bI\\b\",x)))"
   ]
  },
  {
   "cell_type": "code",
   "execution_count": null,
   "metadata": {},
   "outputs": [],
   "source": [
    "### HASTA ACA CON EL DE COMPLEJIDAD. SE PUEDE REPETIR EL MISMO CON OTRA HIPOTESIS. O BUSCANDO OTRAS FEATURES"
   ]
  },
  {
   "cell_type": "code",
   "execution_count": null,
   "metadata": {},
   "outputs": [],
   "source": [
    "## por ejemplo\n",
    "\n",
    "tiene_I =trainset_texto.apply(lambda x: len(re.findall(r\"\\bI\\b\",x)))"
   ]
  },
  {
   "cell_type": "code",
   "execution_count": null,
   "metadata": {},
   "outputs": [],
   "source": []
  },
  {
   "cell_type": "code",
   "execution_count": null,
   "metadata": {},
   "outputs": [],
   "source": [
    "#### pos tagging"
   ]
  },
  {
   "cell_type": "code",
   "execution_count": 34,
   "metadata": {},
   "outputs": [],
   "source": [
    "pru= trainset_texto\n",
    "pru= pru.apply(lambda x: nltk.pos_tag(word_tokenize(clean_text(x))))\n",
    "\n",
    "columna= []\n",
    "for element in pru:\n",
    "    lista = []\n",
    "    for tupla in element:\n",
    "        lista.append(tupla[0] + \"_\" + tupla[1][0])\n",
    "        \n",
    "    columna.append(\" \".join(lista))\n",
    "    \n",
    "\n",
    "trainset_texto_pos = pd.Series(columna)\n"
   ]
  },
  {
   "cell_type": "code",
   "execution_count": 35,
   "metadata": {},
   "outputs": [],
   "source": [
    "pru= testset_texto\n",
    "pru= pru.apply(lambda x: nltk.pos_tag(word_tokenize(clean_text(x))))\n",
    "\n",
    "columna= []\n",
    "for element in pru:\n",
    "    lista = []\n",
    "    for tupla in element:\n",
    "        lista.append(tupla[0] + \"_\" + tupla[1][0])\n",
    "        \n",
    "    columna.append(\" \".join(lista))\n",
    "    \n",
    "\n",
    "testset_texto_pos = pd.Series(columna)\n"
   ]
  },
  {
   "cell_type": "code",
   "execution_count": 36,
   "metadata": {},
   "outputs": [
    {
     "data": {
      "text/plain": [
       "0    i_N will_M stay_V up_R till_R 12_C am_V tomorr...\n",
       "1                            we_P sleep_V in_I night_N\n",
       "2    i_N was_V in_I hurry_N yesterday_N and_C inste...\n",
       "3                     i_N am_V in_I my_P forties_N ._.\n",
       "4    there_E is_V no_D evidence_N that_I america_N ...\n",
       "5         a_D blue_J whale_N only_R eats_V squid_N ._.\n",
       "6                      kodak_N has_V gone_V bankrupt_J\n",
       "7    i_N was_V lying_V when_W i_N said_V i_J love_V...\n",
       "8    my_P friend_N can_M smell_V with_I the_D help_...\n",
       "9                             orange_N is_V blue_J ._.\n",
       "dtype: object"
      ]
     },
     "execution_count": 36,
     "metadata": {},
     "output_type": "execute_result"
    }
   ],
   "source": [
    "trainset_texto_pos.head(10)"
   ]
  },
  {
   "cell_type": "code",
   "execution_count": 37,
   "metadata": {},
   "outputs": [],
   "source": [
    "count_vect = CountVectorizer(tokenizer=word_tokenize, min_df=5,stop_words=\"english\",ngram_range=(1,2))\n",
    "trainset_texto_token = count_vect.fit_transform(trainset_texto_pos)\n",
    "testset_texto_token = count_vect.transform(testset_texto_pos)"
   ]
  },
  {
   "cell_type": "code",
   "execution_count": 326,
   "metadata": {},
   "outputs": [
    {
     "name": "stdout",
     "output_type": "stream",
     "text": [
      "alpha: 10\n",
      "fscore_cv= 0.5942553842888033\n"
     ]
    }
   ],
   "source": [
    "clf_MNB = MultinomialNB()\n",
    "# Parametros a variar \n",
    "parameters = {'alpha':[0.001,0.003,0.01,0.03,0.1,0.3,1,3,10]}\n",
    "# define un grid search a realizar \n",
    "grid_search_MNB = GridSearchCV(clf_MNB, parameters,scoring='f1_macro',cv=10,return_train_score=True, n_jobs=-1)\n",
    "# realiza el grid search evaluando el modelo en un esquema de Cross-Validation\n",
    "grid_search_MNB.fit(trainset_texto_token, trainset_clase)\n",
    "# selecciona el mejor modelo (mejor set de parametros)\n",
    "best_clf_MNB = grid_search_MNB.best_estimator_\n",
    "MNB_score =grid_search_MNB.cv_results_[\"mean_test_score\"].max()\n",
    "print (\"alpha:\",best_clf_MNB.alpha )\n",
    "print(\"fscore_cv=\",grid_search_MNB.cv_results_[\"mean_test_score\"].max())\n",
    "\n",
    "MNB_score =grid_search_MNB.cv_results_[\"mean_test_score\"].max()"
   ]
  },
  {
   "cell_type": "code",
   "execution_count": null,
   "metadata": {},
   "outputs": [],
   "source": []
  },
  {
   "cell_type": "code",
   "execution_count": 100,
   "metadata": {},
   "outputs": [],
   "source": [
    "filename = 'nb_postag.sav'\n",
    "pickle.dump(grid_search_MNB, open(filename, 'wb'))"
   ]
  },
  {
   "cell_type": "code",
   "execution_count": 101,
   "metadata": {},
   "outputs": [
    {
     "name": "stdout",
     "output_type": "stream",
     "text": [
      "C: 0.1\n",
      "fscore_cv= 0.6040908400848816\n"
     ]
    }
   ],
   "source": [
    "mod = linear_model.LogisticRegression()\n",
    "#mod=  MultinomialNB()\n",
    "# Parametros a variar \n",
    "parameters = {'C':[0.001,0.01,0.1,1,10,100,1000,10000]}\n",
    "#parameters = {'alpha':[0.001,0.003,0.01,0.03,0.1,0.3,1,3,10]}\n",
    "# define un grid search a realizar \n",
    "grid_search_mod = GridSearchCV(mod, parameters,scoring='f1_macro',cv=10,return_train_score=True, n_jobs=-1)\n",
    "# realiza el grid search evaluando el modelo en un esquema de Cross-Validation\n",
    "grid_search_mod.fit(trainset_texto_token, trainset_clase)\n",
    "# selecciona el mejor modelo (mejor set de parametros)\n",
    "best_clf_mod = grid_search_mod.best_estimator_\n",
    "mod_score =grid_search_mod.cv_results_[\"mean_test_score\"].max()\n",
    "print (\"C:\",best_clf_mod.C )\n",
    "#print (\"alpha:\",best_clf_mod.alpha )\n",
    "print(\"fscore_cv=\",grid_search_mod.cv_results_[\"mean_test_score\"].max())\n",
    "\n"
   ]
  },
  {
   "cell_type": "code",
   "execution_count": 102,
   "metadata": {},
   "outputs": [],
   "source": [
    "filename = 'logistica_postag.sav'\n",
    "pickle.dump(grid_search_mod, open(filename, 'wb'))"
   ]
  },
  {
   "cell_type": "code",
   "execution_count": null,
   "metadata": {},
   "outputs": [],
   "source": [
    "## empath"
   ]
  },
  {
   "cell_type": "code",
   "execution_count": 103,
   "metadata": {},
   "outputs": [],
   "source": [
    "lexicon = Empath()\n",
    "pru = trainset_texto\n",
    "\n",
    "nuevo_df = []\n",
    "\n",
    "for frase in pru:\n",
    "    vectorcito = lexicon.analyze(frase).values()\n",
    "    nuevo_df.append(list(vectorcito))\n",
    "    \n"
   ]
  },
  {
   "cell_type": "code",
   "execution_count": 104,
   "metadata": {},
   "outputs": [],
   "source": [
    "nuevo_df = pd.DataFrame(nuevo_df)"
   ]
  },
  {
   "cell_type": "code",
   "execution_count": 206,
   "metadata": {},
   "outputs": [
    {
     "name": "stdout",
     "output_type": "stream",
     "text": [
      "C: 0.1\n",
      "fscore_cv= 0.5199119288207736\n"
     ]
    }
   ],
   "source": [
    "mod = linear_model.LogisticRegression()\n",
    "#mod=  MultinomialNB()\n",
    "# Parametros a variar \n",
    "parameters = {'C':[0.001,0.01,0.1,1,10,100,1000,10000]}\n",
    "#parameters = {'alpha':[0.001,0.003,0.01,0.03,0.1,0.3,1,3,10]}\n",
    "# define un grid search a realizar \n",
    "grid_search_mod = GridSearchCV(mod, parameters,scoring='f1_macro',cv=10,return_train_score=True, n_jobs=-1)\n",
    "# realiza el grid search evaluando el modelo en un esquema de Cross-Validation\n",
    "grid_search_mod.fit(nuevo_df, trainset_clase)\n",
    "# selecciona el mejor modelo (mejor set de parametros)\n",
    "best_clf_mod = grid_search_mod.best_estimator_\n",
    "mod_score =grid_search_mod.cv_results_[\"mean_test_score\"].max()\n",
    "print (\"C:\",best_clf_mod.C )\n",
    "#print (\"alpha:\",best_clf_mod.alpha )\n",
    "print(\"fscore_cv=\",grid_search_mod.cv_results_[\"mean_test_score\"].max())\n"
   ]
  },
  {
   "cell_type": "code",
   "execution_count": 207,
   "metadata": {},
   "outputs": [
    {
     "data": {
      "text/plain": [
       "Text(0.5,1,'p-val=0.0359')"
      ]
     },
     "execution_count": 207,
     "metadata": {},
     "output_type": "execute_result"
    },
    {
     "data": {
      "image/png": "[encoded data removed]",
      "text/plain": [
       "<Figure size 432x288 with 1 Axes>"
      ]
     },
     "metadata": {},
     "output_type": "display_data"
    }
   ],
   "source": [
    "score = grid_search_mod.cv_results_[\"mean_test_score\"].max()\n",
    "histograma = plt.hist(f_measure_random)\n",
    "plt.vlines(score,ymin=0,ymax=histograma[0].max())\n",
    "plt.title(\"p-val=\"+str((f_measure_random>score).sum()/len(f_measure_random)))"
   ]
  },
  {
   "cell_type": "code",
   "execution_count": 162,
   "metadata": {},
   "outputs": [],
   "source": [
    "filename = 'nb_empath.sav'\n",
    "pickle.dump(grid_search_mod, open(filename, 'wb'))"
   ]
  },
  {
   "cell_type": "code",
   "execution_count": 135,
   "metadata": {},
   "outputs": [
    {
     "data": {
      "text/plain": [
       "4013"
      ]
     },
     "execution_count": 135,
     "metadata": {},
     "output_type": "execute_result"
    }
   ],
   "source": []
  },
  {
   "cell_type": "code",
   "execution_count": 38,
   "metadata": {},
   "outputs": [],
   "source": [
    "autoref_i    = trainset_texto.apply(lambda x: len(re.findall(r\"\\bi\\b\",x.lower())))\n",
    "autoref_my   = trainset_texto.apply(lambda x: len(re.findall(r\"\\bmy\\b\",x.lower())))\n",
    "autoref_mine = trainset_texto.apply(lambda x: len(re.findall(r\"\\bmine\\b\",x.lower())))\n",
    "autoref_me   = trainset_texto.apply(lambda x: len(re.findall(r\"\\bme\\b\",x.lower())))\n",
    "autoref_mys  = trainset_texto.apply(lambda x: len(re.findall(r\"\\bmyself\\b\",x.lower())))"
   ]
  },
  {
   "cell_type": "code",
   "execution_count": 24,
   "metadata": {},
   "outputs": [],
   "source": [
    "warriner = pd.read_csv(\"warriner.csv\",index_col=0)"
   ]
  },
  {
   "cell_type": "code",
   "execution_count": 25,
   "metadata": {},
   "outputs": [],
   "source": [
    "def warriner_src(palabrita):\n",
    "    letra = nltk.pos_tag([palabrita])[0][1][0].lower()\n",
    "    if letra in [\"a\",\"v\",\"n\",\"r\",\"s\",]:\n",
    "        palabrita = WordNetLemmatizer().lemmatize(palabrita,pos=letra)\n",
    "    else: \n",
    "        palabrita = WordNetLemmatizer().lemmatize(palabrita)\n",
    "    if palabrita in warriner.Word.values:\n",
    "        ans = warriner.loc[warriner.Word == palabrita,]\n",
    "        return list(warriner.loc[warriner.Word == palabrita,['V.Mean.Sum','A.Mean.Sum','D.Mean.Sum']].iloc[0])\n",
    "    else:\n",
    "        return [float(\"nan\"),float(\"nan\"),float(\"nan\")]\n",
    "\n"
   ]
  },
  {
   "cell_type": "code",
   "execution_count": 41,
   "metadata": {},
   "outputs": [
    {
     "name": "stderr",
     "output_type": "stream",
     "text": [
      "/usr/local/lib/python3.6/dist-packages/ipykernel_launcher.py:1: RuntimeWarning: Mean of empty slice\n",
      "  \"\"\"Entry point for launching an IPython kernel.\n",
      "/usr/local/lib/python3.6/dist-packages/ipykernel_launcher.py:2: RuntimeWarning: Mean of empty slice\n",
      "  \n",
      "/usr/local/lib/python3.6/dist-packages/ipykernel_launcher.py:3: RuntimeWarning: Mean of empty slice\n",
      "  This is separate from the ipykernel package so we can avoid doing imports until\n"
     ]
    }
   ],
   "source": [
    "valencia = trainset_texto.apply(lambda x : np.nanmean([warriner_src(palabra)[0] for palabra in x.split()]))\n",
    "arousal = trainset_texto.apply(lambda x : np.nanmean([warriner_src(palabra)[1] for palabra in x.split()]))\n",
    "dominancia = trainset_texto.apply(lambda x : np.nanmean([warriner_src(palabra)[2] for palabra in x.split()]))"
   ]
  },
  {
   "cell_type": "code",
   "execution_count": 42,
   "metadata": {},
   "outputs": [],
   "source": [
    "df_otros = pd.concat({\"val\":valencia,\"aro\":arousal,\"dom\":dominancia,\"auto_mys\":autoref_mys,\"auto_me\":autoref_me,\"auto_i\":autoref_i,\"auto_mine\":autoref_mine,\"auto_my\":autoref_my},axis=1)"
   ]
  },
  {
   "cell_type": "code",
   "execution_count": 27,
   "metadata": {},
   "outputs": [],
   "source": [
    "neg_words = pd.read_csv(\"negative-words.txt\",comment=\";\",encoding=\"latin1\")\n",
    "neg_words.columns = [\"Word\"]\n",
    "pos_words = pd.read_csv(\"positive-words.txt\",comment=\";\",encoding=\"latin1\")\n",
    "pos_words.columns = [\"Word\"]"
   ]
  },
  {
   "cell_type": "code",
   "execution_count": 28,
   "metadata": {},
   "outputs": [],
   "source": [
    "positivas = trainset_texto.apply(lambda x :sum([palabra in pos_words.Word.values for palabra in x.split()]))\n",
    "negativas = trainset_texto.apply(lambda x :sum([palabra in neg_words.Word.values for palabra in x.split()]))"
   ]
  },
  {
   "cell_type": "code",
   "execution_count": 29,
   "metadata": {},
   "outputs": [
    {
     "ename": "NameError",
     "evalue": "name 'df_otros' is not defined",
     "output_type": "error",
     "traceback": [
      "\u001b[1;31m---------------------------------------------------------------------------\u001b[0m",
      "\u001b[1;31mNameError\u001b[0m                                 Traceback (most recent call last)",
      "\u001b[1;32m<ipython-input-29-e90d7bc5bbff>\u001b[0m in \u001b[0;36m<module>\u001b[1;34m()\u001b[0m\n\u001b[1;32m----> 1\u001b[1;33m \u001b[0mdf_otros\u001b[0m \u001b[1;33m=\u001b[0m \u001b[0mpd\u001b[0m\u001b[1;33m.\u001b[0m\u001b[0mconcat\u001b[0m\u001b[1;33m(\u001b[0m\u001b[1;33m[\u001b[0m\u001b[0mdf_otros\u001b[0m\u001b[1;33m,\u001b[0m\u001b[0mpositivas\u001b[0m\u001b[1;33m.\u001b[0m\u001b[0mrename\u001b[0m\u001b[1;33m(\u001b[0m\u001b[1;34m\"pos\"\u001b[0m\u001b[1;33m)\u001b[0m\u001b[1;33m,\u001b[0m\u001b[0mnegativas\u001b[0m\u001b[1;33m.\u001b[0m\u001b[0mrename\u001b[0m\u001b[1;33m(\u001b[0m\u001b[1;34m\"neg\"\u001b[0m\u001b[1;33m)\u001b[0m\u001b[1;33m]\u001b[0m\u001b[1;33m,\u001b[0m\u001b[0maxis\u001b[0m\u001b[1;33m=\u001b[0m\u001b[1;36m1\u001b[0m\u001b[1;33m)\u001b[0m\u001b[1;33m\u001b[0m\u001b[0m\n\u001b[0m",
      "\u001b[1;31mNameError\u001b[0m: name 'df_otros' is not defined"
     ]
    }
   ],
   "source": [
    "df_otros = pd.concat([df_otros,positivas.rename(\"pos\"),negativas.rename(\"neg\")],axis=1)"
   ]
  },
  {
   "cell_type": "code",
   "execution_count": null,
   "metadata": {},
   "outputs": [],
   "source": [
    "df_otros = pd.read_csv(\"otros.csv\",index_col=0)"
   ]
  },
  {
   "cell_type": "code",
   "execution_count": null,
   "metadata": {},
   "outputs": [],
   "source": [
    "df_otros= df_otros.assign(emp = emp.values)"
   ]
  },
  {
   "cell_type": "code",
   "execution_count": 47,
   "metadata": {},
   "outputs": [],
   "source": [
    "clase_otros = trainset_clase.drop(df_otros[df_otros.isna().any(1)].index)\n",
    "df_otros = df_otros.dropna()"
   ]
  },
  {
   "cell_type": "code",
   "execution_count": 320,
   "metadata": {},
   "outputs": [
    {
     "name": "stdout",
     "output_type": "stream",
     "text": [
      "alpha: 10\n",
      "fscore_cv= 0.5323936829320618\n"
     ]
    }
   ],
   "source": [
    "mod = linear_model.LogisticRegression()\n",
    "#mod=  MultinomialNB()\n",
    "# Parametros a variar \n",
    "parameters = {'C':[0.001,0.01,0.1,1,10,100,1000,10000]}\n",
    "#parameters = {'alpha':[0.001,0.01,0.1,1,10,100,1000]}\n",
    "# define un grid search a realizar \n",
    "grid_search_mod = GridSearchCV(mod, parameters,scoring='f1_macro',cv=10,return_train_score=True, n_jobs=-1)\n",
    "# realiza el grid search evaluando el modelo en un esquema de Cross-Validation\n",
    "grid_search_mod.fit(df_otros, clase_otros)\n",
    "# selecciona el mejor modelo (mejor set de parametros)\n",
    "best_clf_mod = grid_search_mod.best_estimator_\n",
    "mod_score =grid_search_mod.cv_results_[\"mean_test_score\"].max()\n",
    "print (\"C:\",best_clf_mod.C )\n",
    "#print (\"alpha:\",best_clf_mod.alpha )\n",
    "print(\"fscore_cv=\",grid_search_mod.cv_results_[\"mean_test_score\"].max())\n",
    "\n",
    "MNB_score =grid_search_mod.cv_results_[\"mean_test_score\"].max()\n"
   ]
  },
  {
   "cell_type": "code",
   "execution_count": 155,
   "metadata": {},
   "outputs": [],
   "source": [
    "filename = 'nb_otros.sav'\n",
    "pickle.dump(grid_search_mod, open(filename, 'wb'))"
   ]
  },
  {
   "cell_type": "code",
   "execution_count": 211,
   "metadata": {},
   "outputs": [
    {
     "data": {
      "text/plain": [
       "Text(0.5,1,'p-val=0.0')"
      ]
     },
     "execution_count": 211,
     "metadata": {},
     "output_type": "execute_result"
    },
    {
     "data": {
      "image/png": "[encoded data removed]",
      "text/plain": [
       "<Figure size 432x288 with 1 Axes>"
      ]
     },
     "metadata": {},
     "output_type": "display_data"
    }
   ],
   "source": [
    "score = grid_search_mod.cv_results_[\"mean_test_score\"].max()\n",
    "histograma = plt.hist(f_measure_random)\n",
    "plt.vlines(score,ymin=0,ymax=histograma[0].max())\n",
    "plt.title(\"p-val=\"+str((f_measure_random>score).sum()/len(f_measure_random)))"
   ]
  },
  {
   "cell_type": "markdown",
   "metadata": {},
   "source": [
    "# Acá empiezo los ensambles"
   ]
  },
  {
   "cell_type": "markdown",
   "metadata": {},
   "source": [
    "### Cargo los modelos que performaron por arriba del azar (con p <0.05)"
   ]
  },
  {
   "cell_type": "code",
   "execution_count": 147,
   "metadata": {},
   "outputs": [],
   "source": [
    "nb_lemmatizado_sololetras = pickle.load(open(\"nb_lemmatizado_sololetras.sav\",\"rb\"))\n",
    "randomforest_lemmatizado_sololetras = pickle.load(open(\"randomforest_lemmatizado_sololetras.sav\",\"rb\"))\n",
    "logistica_otros = pickle.load(open(\"logistica_otros.sav\",\"rb\"))\n",
    "logistica_postag = pickle.load(open(\"logistica_postag.sav\",\"rb\"))\n",
    "nb_otros = pickle.load(open(\"nb_otros.sav\",\"rb\"))\n",
    "nb_postag =  pickle.load(open(\"nb_postag.sav\",\"rb\"))\n"
   ]
  },
  {
   "cell_type": "markdown",
   "metadata": {},
   "source": [
    "### Acá estan los devsets preparados"
   ]
  },
  {
   "cell_type": "code",
   "execution_count": 148,
   "metadata": {},
   "outputs": [],
   "source": [
    "count_vect = CountVectorizer(preprocessor=clean_text, tokenizer=LemmaTokenizer(), min_df=5,stop_words=\"english\",ngram_range=(1,2))\n",
    "trainset_texto_token = count_vect.fit(trainset_texto)\n",
    "devset_basico_lemma = count_vect.transform(devset_texto)"
   ]
  },
  {
   "cell_type": "code",
   "execution_count": 154,
   "metadata": {},
   "outputs": [],
   "source": [
    "pru= devset_texto\n",
    "pru= pru.apply(lambda x: nltk.pos_tag(word_tokenize(clean_text(x))))\n",
    "\n",
    "columna= []\n",
    "for element in pru:\n",
    "    lista = []\n",
    "    for tupla in element:\n",
    "        lista.append(tupla[0] + \"_\" + tupla[1][0])\n",
    "        \n",
    "    columna.append(\" \".join(lista))\n",
    "    \n",
    "\n",
    "testset_texto_pos = pd.Series(columna)\n",
    "\n",
    "pru= trainset_texto\n",
    "pru= pru.apply(lambda x: nltk.pos_tag(word_tokenize(clean_text(x))))\n",
    "\n",
    "columna= []\n",
    "for element in pru:\n",
    "    lista = []\n",
    "    for tupla in element:\n",
    "        lista.append(tupla[0] + \"_\" + tupla[1][0])\n",
    "        \n",
    "    columna.append(\" \".join(lista))\n",
    "    \n",
    "\n",
    "trainset_texto_pos = pd.Series(columna)\n",
    "\n",
    "\n",
    "\n",
    "count_vect = CountVectorizer(tokenizer=word_tokenize, min_df=5,stop_words=\"english\",ngram_range=(1,2))\n",
    "trainset_texto_token = count_vect.fit_transform(trainset_texto_pos)\n",
    "devset_postag = count_vect.transform(devset_texto)"
   ]
  },
  {
   "cell_type": "markdown",
   "metadata": {},
   "source": [
    "### acá armo el devset para \"otros\" que tendria que haberlo metido en una funcion pero soy un boludo"
   ]
  },
  {
   "cell_type": "code",
   "execution_count": 140,
   "metadata": {},
   "outputs": [
    {
     "name": "stderr",
     "output_type": "stream",
     "text": [
      "/usr/local/lib/python3.6/dist-packages/ipykernel_launcher.py:6: RuntimeWarning: Mean of empty slice\n",
      "  \n",
      "/usr/local/lib/python3.6/dist-packages/ipykernel_launcher.py:7: RuntimeWarning: Mean of empty slice\n",
      "  import sys\n",
      "/usr/local/lib/python3.6/dist-packages/ipykernel_launcher.py:8: RuntimeWarning: Mean of empty slice\n",
      "  \n"
     ]
    }
   ],
   "source": [
    "autoref_i    = devset_texto.apply(lambda x: len(re.findall(r\"\\bi\\b\",x.lower())))\n",
    "autoref_my   = devset_texto.apply(lambda x: len(re.findall(r\"\\bmy\\b\",x.lower())))\n",
    "autoref_mine = devset_texto.apply(lambda x: len(re.findall(r\"\\bmine\\b\",x.lower())))\n",
    "autoref_me   = devset_texto.apply(lambda x: len(re.findall(r\"\\bme\\b\",x.lower())))\n",
    "autoref_mys  = devset_texto.apply(lambda x: len(re.findall(r\"\\bmyself\\b\",x.lower())))\n",
    "valencia     = devset_texto.apply(lambda x : np.nanmean([warriner_src(palabra)[0] for palabra in x.split()]))\n",
    "arousal      = devset_texto.apply(lambda x : np.nanmean([warriner_src(palabra)[1] for palabra in x.split()]))\n",
    "dominancia   = devset_texto.apply(lambda x : np.nanmean([warriner_src(palabra)[2] for palabra in x.split()]))\n",
    "devset_otros = pd.concat({\"val\":valencia,\"aro\":arousal,\"dom\":dominancia,\"auto_mys\":autoref_mys,\"auto_me\":autoref_me,\"auto_i\":autoref_i,\"auto_mine\":autoref_mine,\"auto_my\":autoref_my},axis=1)\n",
    "positivas = devset_texto.apply(lambda x :sum([palabra in pos_words.Word.values for palabra in x.split()]))\n",
    "negativas = devset_texto.apply(lambda x :sum([palabra in neg_words.Word.values for palabra in x.split()]))\n",
    "devset_otros = pd.concat([devset_otros,positivas.rename(\"pos\"),negativas.rename(\"neg\")],axis=1).fillna(0)\n"
   ]
  },
  {
   "cell_type": "markdown",
   "metadata": {},
   "source": [
    "### Acá los predicts"
   ]
  },
  {
   "cell_type": "code",
   "execution_count": 155,
   "metadata": {},
   "outputs": [],
   "source": [
    "nb_lemmatizado_sololetras_pred = nb_lemmatizado_sololetras.predict(devset_basico_lemma)\n",
    "randomforest_lemmatizado_sololetras_pred = randomforest_lemmatizado_sololetras.predict(devset_basico_lemma)\n",
    "logistica_otros_pred = logistica_otros.predict(devset_otros)\n",
    "nb_otros_pred = nb_otros.predict(devset_otros)\n",
    "logistica_postag_pred = logistica_postag.predict(devset_postag)\n",
    "nb_postag_pred = nb_postag.predict(devset_postag)\n"
   ]
  },
  {
   "cell_type": "code",
   "execution_count": 156,
   "metadata": {},
   "outputs": [],
   "source": [
    "predicciones = pd.concat({\"nb_base\":pd.Series(nb_lemmatizado_sololetras_pred),\"rf_base\":pd.Series(randomforest_lemmatizado_sololetras_pred),\"log_otros\":pd.Series(logistica_otros_pred),\"nb_otros\":pd.Series(nb_otros_pred),\"log_post\":pd.Series(logistica_postag_pred),\"nb_post\":pd.Series(nb_postag_pred)},axis=1)"
   ]
  },
  {
   "cell_type": "code",
   "execution_count": 157,
   "metadata": {},
   "outputs": [
    {
     "data": {
      "text/html": [
       "<div>\n",
       "<style scoped>\n",
       "    .dataframe tbody tr th:only-of-type {\n",
       "        vertical-align: middle;\n",
       "    }\n",
       "\n",
       "    .dataframe tbody tr th {\n",
       "        vertical-align: top;\n",
       "    }\n",
       "\n",
       "    .dataframe thead th {\n",
       "        text-align: right;\n",
       "    }\n",
       "</style>\n",
       "<table border=\"1\" class=\"dataframe\">\n",
       "  <thead>\n",
       "    <tr style=\"text-align: right;\">\n",
       "      <th></th>\n",
       "      <th>log_otros</th>\n",
       "      <th>log_post</th>\n",
       "      <th>nb_base</th>\n",
       "      <th>nb_otros</th>\n",
       "      <th>nb_post</th>\n",
       "      <th>rf_base</th>\n",
       "    </tr>\n",
       "  </thead>\n",
       "  <tbody>\n",
       "    <tr>\n",
       "      <th>0</th>\n",
       "      <td>1</td>\n",
       "      <td>1</td>\n",
       "      <td>0</td>\n",
       "      <td>1</td>\n",
       "      <td>1</td>\n",
       "      <td>0</td>\n",
       "    </tr>\n",
       "    <tr>\n",
       "      <th>1</th>\n",
       "      <td>0</td>\n",
       "      <td>1</td>\n",
       "      <td>0</td>\n",
       "      <td>0</td>\n",
       "      <td>1</td>\n",
       "      <td>0</td>\n",
       "    </tr>\n",
       "    <tr>\n",
       "      <th>2</th>\n",
       "      <td>1</td>\n",
       "      <td>1</td>\n",
       "      <td>1</td>\n",
       "      <td>0</td>\n",
       "      <td>1</td>\n",
       "      <td>1</td>\n",
       "    </tr>\n",
       "    <tr>\n",
       "      <th>3</th>\n",
       "      <td>1</td>\n",
       "      <td>1</td>\n",
       "      <td>1</td>\n",
       "      <td>0</td>\n",
       "      <td>1</td>\n",
       "      <td>0</td>\n",
       "    </tr>\n",
       "    <tr>\n",
       "      <th>4</th>\n",
       "      <td>0</td>\n",
       "      <td>1</td>\n",
       "      <td>1</td>\n",
       "      <td>0</td>\n",
       "      <td>1</td>\n",
       "      <td>0</td>\n",
       "    </tr>\n",
       "  </tbody>\n",
       "</table>\n",
       "</div>"
      ],
      "text/plain": [
       "   log_otros  log_post  nb_base  nb_otros  nb_post  rf_base\n",
       "0          1         1        0         1        1        0\n",
       "1          0         1        0         0        1        0\n",
       "2          1         1        1         0        1        1\n",
       "3          1         1        1         0        1        0\n",
       "4          0         1        1         0        1        0"
      ]
     },
     "execution_count": 157,
     "metadata": {},
     "output_type": "execute_result"
    }
   ],
   "source": [
    "predicciones.head()"
   ]
  },
  {
   "cell_type": "code",
   "execution_count": 158,
   "metadata": {},
   "outputs": [],
   "source": [
    "predicciones.to_csv(\"predicciones_devset.csv\")"
   ]
  },
  {
   "cell_type": "code",
   "execution_count": 309,
   "metadata": {},
   "outputs": [],
   "source": [
    "from scipy.cluster.hierarchy import dendrogram, linkage\n"
   ]
  },
  {
   "cell_type": "code",
   "execution_count": 313,
   "metadata": {},
   "outputs": [],
   "source": [
    "Z = linkage(np.transpose(predicciones), 'ward')"
   ]
  },
  {
   "cell_type": "code",
   "execution_count": 318,
   "metadata": {},
   "outputs": [
    {
     "data": {
      "image/png": "[encoded data removed]",
      "text/plain": [
       "<Figure size 1800x720 with 1 Axes>"
      ]
     },
     "metadata": {},
     "output_type": "display_data"
    }
   ],
   "source": [
    "plt.figure(figsize=(25, 10))\n",
    "plt.title('Hierarchical Clustering Dendrogram')\n",
    "plt.xlabel('sample index')\n",
    "plt.ylabel('distance')\n",
    "dendrogram(\n",
    "    Z,\n",
    "    leaf_rotation=90.,  # rotates the x axis labels\n",
    "    leaf_font_size=28.,  # font size for the x axis labels\n",
    ")\n",
    "plt.show()\n"
   ]
  },
  {
   "cell_type": "markdown",
   "metadata": {},
   "source": [
    "### Basicamente me está diciendo que tome uno de cada dataset"
   ]
  },
  {
   "cell_type": "markdown",
   "metadata": {},
   "source": [
    "#### Tomo rf base,  logistica otros, logistica de postagging (los que mejor andaron de cada dataset) "
   ]
  },
  {
   "cell_type": "code",
   "execution_count": 430,
   "metadata": {},
   "outputs": [],
   "source": [
    "pred_f = predicciones.iloc[:,[0,1,5]]"
   ]
  },
  {
   "cell_type": "code",
   "execution_count": 431,
   "metadata": {},
   "outputs": [],
   "source": [
    "pred_f = pred_f.assign(final = pred_f.apply(sum,1) > 1)"
   ]
  },
  {
   "cell_type": "code",
   "execution_count": 432,
   "metadata": {},
   "outputs": [],
   "source": [
    "votacion = pred_f.final.apply(int)"
   ]
  },
  {
   "cell_type": "code",
   "execution_count": 434,
   "metadata": {},
   "outputs": [
    {
     "data": {
      "text/plain": [
       "0.6269349845201239"
      ]
     },
     "execution_count": 434,
     "metadata": {},
     "output_type": "execute_result"
    }
   ],
   "source": [
    "f1_score(votacion,devset_clase)"
   ]
  },
  {
   "cell_type": "markdown",
   "metadata": {},
   "source": [
    "#### Usando todos los modelos y no solo los de baja correlacion"
   ]
  },
  {
   "cell_type": "code",
   "execution_count": 435,
   "metadata": {
    "scrolled": true
   },
   "outputs": [
    {
     "data": {
      "text/plain": [
       "0.6653279785809906"
      ]
     },
     "execution_count": 435,
     "metadata": {},
     "output_type": "execute_result"
    }
   ],
   "source": [
    "pred_f = pred_f.assign(final = predicciones.apply(sum,1) > 1)\n",
    "votacion = pred_f.final.apply(int)\n",
    "f1_score(votacion,devset_clase)"
   ]
  },
  {
   "cell_type": "code",
   "execution_count": 89,
   "metadata": {},
   "outputs": [
    {
     "ename": "NameError",
     "evalue": "name 'prediccion' is not defined",
     "output_type": "error",
     "traceback": [
      "\u001b[0;31m---------------------------------------------------------------------------\u001b[0m",
      "\u001b[0;31mNameError\u001b[0m                                 Traceback (most recent call last)",
      "\u001b[0;32m<ipython-input-89-2cd251811a49>\u001b[0m in \u001b[0;36m<module>\u001b[0;34m()\u001b[0m\n\u001b[0;32m----> 1\u001b[0;31m \u001b[0mprediccion\u001b[0m\u001b[0;34m\u001b[0m\u001b[0m\n\u001b[0m",
      "\u001b[0;31mNameError\u001b[0m: name 'prediccion' is not defined"
     ]
    }
   ],
   "source": []
  },
  {
   "cell_type": "markdown",
   "metadata": {},
   "source": [
    "## Y ahora sobre testset"
   ]
  },
  {
   "cell_type": "markdown",
   "metadata": {},
   "source": [
    "### Uso todo el trainset\n"
   ]
  },
  {
   "cell_type": "code",
   "execution_count": 8,
   "metadata": {},
   "outputs": [],
   "source": [
    "trainset_texto, testset_texto, trainset_clase, testset_clase =  train_test_split(df.text,df.clase,stratify=df.clase, test_size=0.3, random_state = 123)"
   ]
  },
  {
   "cell_type": "code",
   "execution_count": 12,
   "metadata": {},
   "outputs": [],
   "source": [
    "count_vect = CountVectorizer(preprocessor=clean_text, tokenizer=LemmaTokenizer(), min_df=5,stop_words=\"english\",ngram_range=(1,2))\n",
    "trainset_texto_token = count_vect.fit_transform(trainset_texto)\n",
    "testset_texto_token = count_vect.transform(testset_texto)"
   ]
  },
  {
   "cell_type": "code",
   "execution_count": 13,
   "metadata": {},
   "outputs": [],
   "source": [
    "pru= trainset_texto\n",
    "pru= pru.apply(lambda x: nltk.pos_tag(word_tokenize(clean_text(x))))\n",
    "\n",
    "columna= []\n",
    "for element in pru:\n",
    "    lista = []\n",
    "    for tupla in element:\n",
    "        lista.append(tupla[0] + \"_\" + tupla[1][0])\n",
    "        \n",
    "    columna.append(\" \".join(lista))\n",
    "    \n",
    "\n",
    "trainset_texto_pos = pd.Series(columna)\n",
    "\n",
    "count_vect = CountVectorizer(tokenizer=word_tokenize, min_df=5,stop_words=\"english\",ngram_range=(1,2))\n",
    "trainset_texto_token_pos = count_vect.fit_transform(trainset_texto_pos)"
   ]
  },
  {
   "cell_type": "code",
   "execution_count": 14,
   "metadata": {},
   "outputs": [],
   "source": [
    "pru= testset_texto\n",
    "pru= pru.apply(lambda x: nltk.pos_tag(word_tokenize(clean_text(x))))\n",
    "\n",
    "columna= []\n",
    "for element in pru:\n",
    "    lista = []\n",
    "    for tupla in element:\n",
    "        lista.append(tupla[0] + \"_\" + tupla[1][0])\n",
    "        \n",
    "    columna.append(\" \".join(lista))\n",
    "    \n",
    "\n",
    "testset_texto_pos = pd.Series(columna)\n",
    "\n",
    "count_vect = CountVectorizer(tokenizer=word_tokenize, min_df=5,stop_words=\"english\",ngram_range=(1,2))\n",
    "trainset_texto_token_pos = count_vect.fit_transform(trainset_texto_pos)\n",
    "testset_postag = count_vect.transform(testset_texto_pos)\n"
   ]
  },
  {
   "cell_type": "code",
   "execution_count": 30,
   "metadata": {},
   "outputs": [
    {
     "name": "stderr",
     "output_type": "stream",
     "text": [
      "c:\\python36\\lib\\site-packages\\ipykernel_launcher.py:6: RuntimeWarning: Mean of empty slice\n",
      "  \n",
      "c:\\python36\\lib\\site-packages\\ipykernel_launcher.py:7: RuntimeWarning: Mean of empty slice\n",
      "  import sys\n",
      "c:\\python36\\lib\\site-packages\\ipykernel_launcher.py:8: RuntimeWarning: Mean of empty slice\n",
      "  \n"
     ]
    }
   ],
   "source": [
    "autoref_i    = trainset_texto.apply(lambda x: len(re.findall(r\"\\bi\\b\",x.lower())))\n",
    "autoref_my   = trainset_texto.apply(lambda x: len(re.findall(r\"\\bmy\\b\",x.lower())))\n",
    "autoref_mine = trainset_texto.apply(lambda x: len(re.findall(r\"\\bmine\\b\",x.lower())))\n",
    "autoref_me   = trainset_texto.apply(lambda x: len(re.findall(r\"\\bme\\b\",x.lower())))\n",
    "autoref_mys  = trainset_texto.apply(lambda x: len(re.findall(r\"\\bmyself\\b\",x.lower())))\n",
    "valencia     = trainset_texto.apply(lambda x : np.nanmean([warriner_src(palabra)[0] for palabra in x.split()]))\n",
    "arousal      = trainset_texto.apply(lambda x : np.nanmean([warriner_src(palabra)[1] for palabra in x.split()]))\n",
    "dominancia   = trainset_texto.apply(lambda x : np.nanmean([warriner_src(palabra)[2] for palabra in x.split()]))\n",
    "trainset_otros = pd.concat({\"val\":valencia,\"aro\":arousal,\"dom\":dominancia,\"auto_mys\":autoref_mys,\"auto_me\":autoref_me,\"auto_i\":autoref_i,\"auto_mine\":autoref_mine,\"auto_my\":autoref_my},axis=1)\n",
    "positivas = trainset_texto.apply(lambda x :sum([palabra in pos_words.Word.values for palabra in x.split()]))\n",
    "negativas = trainset_texto.apply(lambda x :sum([palabra in neg_words.Word.values for palabra in x.split()]))\n",
    "trainset_otros = pd.concat([trainset_otros,positivas.rename(\"pos\"),negativas.rename(\"neg\")],axis=1).fillna(0)\n"
   ]
  },
  {
   "cell_type": "code",
   "execution_count": 31,
   "metadata": {},
   "outputs": [
    {
     "name": "stderr",
     "output_type": "stream",
     "text": [
      "c:\\python36\\lib\\site-packages\\ipykernel_launcher.py:6: RuntimeWarning: Mean of empty slice\n",
      "  \n",
      "c:\\python36\\lib\\site-packages\\ipykernel_launcher.py:7: RuntimeWarning: Mean of empty slice\n",
      "  import sys\n",
      "c:\\python36\\lib\\site-packages\\ipykernel_launcher.py:8: RuntimeWarning: Mean of empty slice\n",
      "  \n"
     ]
    }
   ],
   "source": [
    "autoref_i    = testset_texto.apply(lambda x: len(re.findall(r\"\\bi\\b\",x.lower())))\n",
    "autoref_my   = testset_texto.apply(lambda x: len(re.findall(r\"\\bmy\\b\",x.lower())))\n",
    "autoref_mine = testset_texto.apply(lambda x: len(re.findall(r\"\\bmine\\b\",x.lower())))\n",
    "autoref_me   = testset_texto.apply(lambda x: len(re.findall(r\"\\bme\\b\",x.lower())))\n",
    "autoref_mys  = testset_texto.apply(lambda x: len(re.findall(r\"\\bmyself\\b\",x.lower())))\n",
    "valencia     = testset_texto.apply(lambda x : np.nanmean([warriner_src(palabra)[0] for palabra in x.split()]))\n",
    "arousal      = testset_texto.apply(lambda x : np.nanmean([warriner_src(palabra)[1] for palabra in x.split()]))\n",
    "dominancia   = testset_texto.apply(lambda x : np.nanmean([warriner_src(palabra)[2] for palabra in x.split()]))\n",
    "testset_otros = pd.concat({\"val\":valencia,\"aro\":arousal,\"dom\":dominancia,\"auto_mys\":autoref_mys,\"auto_me\":autoref_me,\"auto_i\":autoref_i,\"auto_mine\":autoref_mine,\"auto_my\":autoref_my},axis=1)\n"
   ]
  },
  {
   "cell_type": "code",
   "execution_count": 32,
   "metadata": {},
   "outputs": [],
   "source": [
    "positivas = testset_texto.apply(lambda x :sum([palabra in pos_words.Word.values for palabra in x.split()]))\n",
    "negativas = testset_texto.apply(lambda x :sum([palabra in neg_words.Word.values for palabra in x.split()]))\n",
    "testset_otros = pd.concat([testset_otros,positivas.rename(\"pos\"),negativas.rename(\"neg\")],axis=1).fillna(0)"
   ]
  },
  {
   "cell_type": "code",
   "execution_count": 33,
   "metadata": {},
   "outputs": [
    {
     "data": {
      "text/plain": [
       "(2151, 10)"
      ]
     },
     "execution_count": 33,
     "metadata": {},
     "output_type": "execute_result"
    }
   ],
   "source": [
    "testset_otros.shape"
   ]
  },
  {
   "cell_type": "markdown",
   "metadata": {},
   "source": [
    "### los modelos"
   ]
  },
  {
   "cell_type": "code",
   "execution_count": 16,
   "metadata": {},
   "outputs": [
    {
     "name": "stdout",
     "output_type": "stream",
     "text": [
      "alpha: 3\n",
      "fscore_cv= 0.5523782385810833\n"
     ]
    }
   ],
   "source": [
    "clf_MNB = MultinomialNB()\n",
    "# Parametros a variar \n",
    "parameters = {'alpha':[0.001,0.003,0.01,0.03,0.1,0.3,1,3,10]}\n",
    "# define un grid search a realizar \n",
    "grid_search_MNB = GridSearchCV(clf_MNB, parameters,scoring='f1_macro',cv=10,return_train_score=True, n_jobs=-1)\n",
    "# realiza el grid search evaluando el modelo en un esquema de Cross-Validation\n",
    "grid_search_MNB.fit(trainset_texto_token, trainset_clase)\n",
    "# selecciona el mejor modelo (mejor set de parametros)\n",
    "best_clf_MNB = grid_search_MNB.best_estimator_\n",
    "MNB_score =grid_search_MNB.cv_results_[\"mean_test_score\"].max()\n",
    "print (\"alpha:\",best_clf_MNB.alpha )\n",
    "print(\"fscore_cv=\",grid_search_MNB.cv_results_[\"mean_test_score\"].max())\n",
    "\n",
    "MNB_score =grid_search_MNB.cv_results_[\"mean_test_score\"].max()\n",
    "modelo1 = grid_search_MNB.predict(testset_texto_token)\n"
   ]
  },
  {
   "cell_type": "code",
   "execution_count": 17,
   "metadata": {},
   "outputs": [
    {
     "name": "stdout",
     "output_type": "stream",
     "text": [
      "n_estimators: 1200 ; max_features: 10 ; max_depth: 5\n",
      "fscore_cv= 0.5561487319572994\n"
     ]
    }
   ],
   "source": [
    "clf_RF = RandomForestClassifier(class_weight=\"balanced\",random_state=123)\n",
    "# Parametros a variar \n",
    "parameters = {'n_estimators':[1200],'max_features': [10],\"max_depth\":[5] }\n",
    "# define un grid search a realizar \n",
    "grid_search_RF = GridSearchCV(clf_RF, parameters,scoring='f1_macro',cv=10,return_train_score=True, n_jobs=-1)\n",
    "# realiza el grid search evaluando el modelo en un esquema de Cross-Validation\n",
    "grid_search_RF.fit(trainset_texto_token, trainset_clase)\n",
    "# selecciona el mejor modelo (mejor set de parametros)\n",
    "best_clf_RF = grid_search_RF.best_estimator_\n",
    "print (\"n_estimators:\",best_clf_RF.n_estimators,\"; max_features:\",best_clf_RF.max_features,\"; max_depth:\",best_clf_RF.max_depth )\n",
    "print(\"fscore_cv=\",grid_search_RF.cv_results_[\"mean_test_score\"].max())\n",
    "modelo2 = grid_search_RF.predict(testset_texto_token)"
   ]
  },
  {
   "cell_type": "code",
   "execution_count": 18,
   "metadata": {},
   "outputs": [
    {
     "name": "stdout",
     "output_type": "stream",
     "text": [
      "alpha: 3\n",
      "fscore_cv= 0.5523782385810833\n"
     ]
    }
   ],
   "source": [
    "clf_MNB = MultinomialNB()\n",
    "# Parametros a variar \n",
    "parameters = {'alpha':[0.001,0.003,0.01,0.03,0.1,0.3,1,3,10]}\n",
    "# define un grid search a realizar \n",
    "grid_search_MNB_postag = GridSearchCV(clf_MNB, parameters,scoring='f1_macro',cv=10,return_train_score=True, n_jobs=-1)\n",
    "# realiza el grid search evaluando el modelo en un esquema de Cross-Validation\n",
    "grid_search_MNB_postag.fit(trainset_texto_token_pos, trainset_clase)\n",
    "# selecciona el mejor modelo (mejor set de parametros)\n",
    "best_clf_MNB = grid_search_MNB.best_estimator_\n",
    "MNB_score =grid_search_MNB.cv_results_[\"mean_test_score\"].max()\n",
    "print (\"alpha:\",best_clf_MNB.alpha )\n",
    "print(\"fscore_cv=\",grid_search_MNB.cv_results_[\"mean_test_score\"].max())\n",
    "\n",
    "MNB_score =grid_search_MNB.cv_results_[\"mean_test_score\"].max()\n",
    "modelo3 = grid_search_MNB_postag.predict(testset_postag)"
   ]
  },
  {
   "cell_type": "code",
   "execution_count": 19,
   "metadata": {},
   "outputs": [
    {
     "name": "stdout",
     "output_type": "stream",
     "text": [
      "C: 0.1\n",
      "fscore_cv= 0.5998130944215614\n"
     ]
    }
   ],
   "source": [
    "mod = linear_model.LogisticRegression()\n",
    "#mod=  MultinomialNB()\n",
    "# Parametros a variar \n",
    "parameters = {'C':[0.001,0.01,0.1,1,10,100,1000,10000]}\n",
    "#parameters = {'alpha':[0.001,0.003,0.01,0.03,0.1,0.3,1,3,10]}\n",
    "# define un grid search a realizar \n",
    "grid_search_mod_postag = GridSearchCV(mod, parameters,scoring='f1_macro',cv=10,return_train_score=True, n_jobs=-1)\n",
    "# realiza el grid search evaluando el modelo en un esquema de Cross-Validation\n",
    "grid_search_mod_postag.fit(trainset_texto_token_pos, trainset_clase)\n",
    "# selecciona el mejor modelo (mejor set de parametros)\n",
    "best_clf_mod = grid_search_mod_postag.best_estimator_\n",
    "mod_score =grid_search_mod_postag.cv_results_[\"mean_test_score\"].max()\n",
    "print (\"C:\",best_clf_mod.C )\n",
    "#print (\"alpha:\",best_clf_mod.alpha )\n",
    "print(\"fscore_cv=\",grid_search_mod_postag.cv_results_[\"mean_test_score\"].max())\n",
    "modelo4 = grid_search_mod_postag.predict(testset_postag)\n"
   ]
  },
  {
   "cell_type": "code",
   "execution_count": 34,
   "metadata": {},
   "outputs": [
    {
     "name": "stdout",
     "output_type": "stream",
     "text": [
      "C: 0.1\n",
      "fscore_cv= 0.5445113515015527\n"
     ]
    }
   ],
   "source": [
    "mod = linear_model.LogisticRegression()\n",
    "#mod=  MultinomialNB()\n",
    "# Parametros a variar \n",
    "parameters = {'C':[0.001,0.01,0.1,1,10,100,1000,10000]}\n",
    "#parameters = {'alpha':[0.001,0.003,0.01,0.03,0.1,0.3,1,3,10]}\n",
    "# define un grid search a realizar \n",
    "log_grid_search_mod_otros = GridSearchCV(mod, parameters,scoring='f1_macro',cv=10,return_train_score=True, n_jobs=-1)\n",
    "# realiza el grid search evaluando el modelo en un esquema de Cross-Validation\n",
    "log_grid_search_mod_otros.fit(trainset_otros, trainset_clase)\n",
    "# selecciona el mejor modelo (mejor set de parametros)\n",
    "best_clf_mod = log_grid_search_mod_otros.best_estimator_\n",
    "mod_score =log_grid_search_mod_otros.cv_results_[\"mean_test_score\"].max()\n",
    "print (\"C:\",best_clf_mod.C )\n",
    "#print (\"alpha:\",best_clf_mod.alpha )\n",
    "print(\"fscore_cv=\",log_grid_search_mod_otros.cv_results_[\"mean_test_score\"].max())\n",
    "modelo5 = log_grid_search_mod_otros.predict(testset_otros)\n",
    "\n"
   ]
  },
  {
   "cell_type": "code",
   "execution_count": 35,
   "metadata": {},
   "outputs": [
    {
     "name": "stdout",
     "output_type": "stream",
     "text": [
      "alpha: 3\n",
      "fscore_cv= 0.5300497572363805\n"
     ]
    }
   ],
   "source": [
    "mod=  MultinomialNB()\n",
    "# Parametros a variar \n",
    "#parameters = {'C':[0.001,0.01,0.1,1,10,100,1000,10000]}\n",
    "parameters = {'alpha':[0.001,0.003,0.01,0.03,0.1,0.3,1,3,10]}\n",
    "# define un grid search a realizar \n",
    "nb_grid_search_mod_otros = GridSearchCV(mod, parameters,scoring='f1_macro',cv=10,return_train_score=True, n_jobs=-1)\n",
    "# realiza el grid search evaluando el modelo en un esquema de Cross-Validation\n",
    "nb_grid_search_mod_otros.fit(trainset_otros, trainset_clase)\n",
    "# selecciona el mejor modelo (mejor set de parametros)\n",
    "best_clf_mod = nb_grid_search_mod_otros.best_estimator_\n",
    "mod_score =nb_grid_search_mod_otros.cv_results_[\"mean_test_score\"].max()\n",
    "#print (\"C:\",best_clf_mod.C )\n",
    "print (\"alpha:\",best_clf_mod.alpha )\n",
    "print(\"fscore_cv=\",nb_grid_search_mod_otros.cv_results_[\"mean_test_score\"].max())\n",
    "modelo6 = nb_grid_search_mod_otros.predict(testset_otros)"
   ]
  },
  {
   "cell_type": "code",
   "execution_count": null,
   "metadata": {},
   "outputs": [],
   "source": [
    "## sacar a csv el prediccion de devset y el de testset"
   ]
  },
  {
   "cell_type": "code",
   "execution_count": 56,
   "metadata": {},
   "outputs": [],
   "source": [
    "modelo7 = pd.read_csv('cnn_fasttext_submission.csv')['prediccion']"
   ]
  },
  {
   "cell_type": "code",
   "execution_count": 46,
   "metadata": {},
   "outputs": [],
   "source": [
    "modelo8 = pd.read_csv('lsa_knn_submission.csv')['prediccion']"
   ]
  },
  {
   "cell_type": "code",
   "execution_count": 80,
   "metadata": {},
   "outputs": [],
   "source": [
    "prediccion_test = pd.concat([pd.Series(modelo1),pd.Series(modelo2),pd.Series(modelo3),pd.Series(modelo4),pd.Series(modelo5),pd.Series(modelo6), modelo7, modelo8],axis=1)"
   ]
  },
  {
   "cell_type": "code",
   "execution_count": 81,
   "metadata": {},
   "outputs": [
    {
     "data": {
      "text/html": [
       "<div>\n",
       "<style scoped>\n",
       "    .dataframe tbody tr th:only-of-type {\n",
       "        vertical-align: middle;\n",
       "    }\n",
       "\n",
       "    .dataframe tbody tr th {\n",
       "        vertical-align: top;\n",
       "    }\n",
       "\n",
       "    .dataframe thead th {\n",
       "        text-align: right;\n",
       "    }\n",
       "</style>\n",
       "<table border=\"1\" class=\"dataframe\">\n",
       "  <thead>\n",
       "    <tr style=\"text-align: right;\">\n",
       "      <th></th>\n",
       "      <th>0</th>\n",
       "      <th>1</th>\n",
       "      <th>2</th>\n",
       "      <th>3</th>\n",
       "      <th>4</th>\n",
       "      <th>5</th>\n",
       "      <th>prediccion</th>\n",
       "      <th>prediccion</th>\n",
       "    </tr>\n",
       "  </thead>\n",
       "  <tbody>\n",
       "    <tr>\n",
       "      <th>0</th>\n",
       "      <td>1</td>\n",
       "      <td>1</td>\n",
       "      <td>1</td>\n",
       "      <td>1</td>\n",
       "      <td>0</td>\n",
       "      <td>1</td>\n",
       "      <td>1</td>\n",
       "      <td>0</td>\n",
       "    </tr>\n",
       "    <tr>\n",
       "      <th>1</th>\n",
       "      <td>0</td>\n",
       "      <td>0</td>\n",
       "      <td>0</td>\n",
       "      <td>0</td>\n",
       "      <td>0</td>\n",
       "      <td>0</td>\n",
       "      <td>0</td>\n",
       "      <td>0</td>\n",
       "    </tr>\n",
       "    <tr>\n",
       "      <th>2</th>\n",
       "      <td>0</td>\n",
       "      <td>1</td>\n",
       "      <td>0</td>\n",
       "      <td>0</td>\n",
       "      <td>0</td>\n",
       "      <td>0</td>\n",
       "      <td>1</td>\n",
       "      <td>1</td>\n",
       "    </tr>\n",
       "    <tr>\n",
       "      <th>3</th>\n",
       "      <td>1</td>\n",
       "      <td>1</td>\n",
       "      <td>1</td>\n",
       "      <td>1</td>\n",
       "      <td>1</td>\n",
       "      <td>1</td>\n",
       "      <td>1</td>\n",
       "      <td>1</td>\n",
       "    </tr>\n",
       "    <tr>\n",
       "      <th>4</th>\n",
       "      <td>1</td>\n",
       "      <td>0</td>\n",
       "      <td>1</td>\n",
       "      <td>1</td>\n",
       "      <td>1</td>\n",
       "      <td>1</td>\n",
       "      <td>1</td>\n",
       "      <td>1</td>\n",
       "    </tr>\n",
       "  </tbody>\n",
       "</table>\n",
       "</div>"
      ],
      "text/plain": [
       "   0  1  2  3  4  5  prediccion  prediccion\n",
       "0  1  1  1  1  0  1           1           0\n",
       "1  0  0  0  0  0  0           0           0\n",
       "2  0  1  0  0  0  0           1           1\n",
       "3  1  1  1  1  1  1           1           1\n",
       "4  1  0  1  1  1  1           1           1"
      ]
     },
     "execution_count": 81,
     "metadata": {},
     "output_type": "execute_result"
    }
   ],
   "source": [
    "prediccion_test.head()"
   ]
  },
  {
   "cell_type": "code",
   "execution_count": 37,
   "metadata": {},
   "outputs": [],
   "source": [
    "prediccion_test.to_csv(\"predicciones_testset.csv\")"
   ]
  },
  {
   "cell_type": "code",
   "execution_count": 82,
   "metadata": {},
   "outputs": [
    {
     "data": {
      "text/plain": [
       "0.6659807956104253"
      ]
     },
     "execution_count": 82,
     "metadata": {},
     "output_type": "execute_result"
    }
   ],
   "source": [
    "prediccion_test = prediccion_test.assign(final = prediccion_test.apply(sum,1) > 1)\n",
    "votacion = prediccion_test.final.apply(int)\n",
    "f1_score(votacion,testset_clase)"
   ]
  }
 ],
 "metadata": {
  "kernelspec": {
   "display_name": "Python 3",
   "language": "python",
   "name": "python3"
  },
  "language_info": {
   "codemirror_mode": {
    "name": "ipython",
    "version": 3
   },
   "file_extension": ".py",
   "mimetype": "text/x-python",
   "name": "python",
   "nbconvert_exporter": "python",
   "pygments_lexer": "ipython3",
   "version": "3.6.4"
  }
 },
 "nbformat": 4,
 "nbformat_minor": 2
}
