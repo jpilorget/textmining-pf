{
 "cells": [
  {
   "cell_type": "markdown",
   "metadata": {},
   "source": [
    "## Trabajo Final de Text Mining\n",
    "### Integrantes: Juan Pablo Pilorget, Pablo Santoro y Mauro Veneziano.\n",
    "### Objetivo: clasificar sentencias según su status de verdad-mentira.\n",
    "### El dataset fue obtenido de [acá](http://lit.eecs.umich.edu/~deceptiondetection/)"
   ]
  },
  {
   "cell_type": "markdown",
   "metadata": {},
   "source": [
    "### Importo las librerías"
   ]
  },
  {
   "cell_type": "code",
   "execution_count": 16,
   "metadata": {},
   "outputs": [],
   "source": [
    "import matplotlib.pyplot as plt\n",
    "import pandas as pd\n",
    "import numpy as np\n",
    "import re\n",
    "import random\n",
    "from nltk.stem import WordNetLemmatizer \n",
    "from nltk import word_tokenize, sent_tokenize\n",
    "from sklearn.model_selection import train_test_split, cross_val_score, GridSearchCV\n",
    "from sklearn.feature_extraction.text import CountVectorizer, TfidfVectorizer\n",
    "from sklearn.naive_bayes import MultinomialNB\n",
    "from sklearn.metrics import confusion_matrix, precision_recall_fscore_support, classification_report, confusion_matrix, f1_score, classification_report\n",
    "from sklearn.ensemble import RandomForestClassifier, GradientBoostingClassifier\n",
    "from sklearn.dummy import DummyClassifier\n",
    "from sklearn.pipeline import Pipeline\n",
    "from sklearn.feature_selection import SelectKBest, mutual_info_classif"
   ]
  },
  {
   "cell_type": "markdown",
   "metadata": {},
   "source": [
    "### Cargo el dataset"
   ]
  },
  {
   "cell_type": "code",
   "execution_count": 109,
   "metadata": {},
   "outputs": [],
   "source": [
    "df = pd.read_csv(\"7Truth7LiesDataset.csv\",sep = ',', quotechar=\"'\",escapechar=\"\\\\\")\n",
    "df = df.sample(frac=1,random_state=0).reset_index(drop=True).copy()\n",
    "df = df.rename(columns={\"class\":\"clase\"}) # class es palabra reservada"
   ]
  },
  {
   "cell_type": "markdown",
   "metadata": {},
   "source": [
    "#### Tomo el texto para el clasificador"
   ]
  },
  {
   "cell_type": "code",
   "execution_count": 110,
   "metadata": {},
   "outputs": [],
   "source": [
    "trainset_texto, testset_texto, trainset_clase, testset_clase =  train_test_split(df.text,df.clase,stratify=df.clase, test_size=0.3, random_state = 123)"
   ]
  },
  {
   "cell_type": "markdown",
   "metadata": {},
   "source": [
    "### Construyo los tokenizadores y limpiadores"
   ]
  },
  {
   "cell_type": "code",
   "execution_count": 112,
   "metadata": {},
   "outputs": [],
   "source": [
    "def clean_text(text):\n",
    "    text = re.sub('(\\[\")|(\"\\])',\" \",text)\n",
    "    return text.lower().strip()\n",
    "# Tokenizador\n",
    "def tokenizer(text):\n",
    "    return [w for w in word_tokenize(text) if w.isalpha() and len(w)>1]"
   ]
  },
  {
   "cell_type": "markdown",
   "metadata": {},
   "source": [
    "#### Este tokenizador deja palabras con largo mayor a 1 (A REVISAR). Hay que evaluar si la autorreferencialidad (I) es imoprtante en inglés."
   ]
  },
  {
   "cell_type": "code",
   "execution_count": 113,
   "metadata": {},
   "outputs": [],
   "source": [
    "class LemmaTokenizer(object):\n",
    "    def __init__(self):\n",
    "        self.wnl = WordNetLemmatizer()\n",
    "    def __call__(self, doc):\n",
    "        return [self.wnl.lemmatize(t) for t in word_tokenize(doc) if t.isalpha() and len(t)>1]"
   ]
  },
  {
   "cell_type": "markdown",
   "metadata": {},
   "source": [
    "### Construyo el count vectorizer"
   ]
  },
  {
   "cell_type": "code",
   "execution_count": 134,
   "metadata": {},
   "outputs": [],
   "source": [
    "count_vect = CountVectorizer(preprocessor=clean_text, tokenizer=LemmaTokenizer(), min_df=5,stop_words=\"english\",ngram_range=(1,2))\n",
    "trainset_texto_token = count_vect.fit_transform(trainset_texto)\n",
    "testset_texto_token = count_vect.transform(testset_texto)"
   ]
  },
  {
   "cell_type": "markdown",
   "metadata": {},
   "source": [
    "### Construyo un clasificador Naive Bayes"
   ]
  },
  {
   "cell_type": "code",
   "execution_count": 135,
   "metadata": {},
   "outputs": [
    {
     "name": "stdout",
     "output_type": "stream",
     "text": [
      "alpha: 0.1\n",
      "fscore_cv= 0.5632500022312756\n"
     ]
    }
   ],
   "source": [
    "clf_MNB = MultinomialNB()\n",
    "# Parametros a variar \n",
    "parameters = {'alpha':[0.001,0.003,0.01,0.03,0.1,0.3,1,3,10]}\n",
    "# define un grid search a realizar \n",
    "grid_search_MNB = GridSearchCV(clf_MNB, parameters,scoring='f1_macro',cv=10,return_train_score=True, n_jobs=-1)\n",
    "# realiza el grid search evaluando el modelo en un esquema de Cross-Validation\n",
    "grid_search_MNB.fit(trainset_texto_token, trainset_clase)\n",
    "# selecciona el mejor modelo (mejor set de parametros)\n",
    "best_clf_MNB = grid_search_MNB.best_estimator_\n",
    "MNB_score =grid_search_MNB.cv_results_[\"mean_test_score\"].max()\n",
    "print (\"alpha:\",best_clf_MNB.alpha )\n",
    "print(\"fscore_cv=\",grid_search_MNB.cv_results_[\"mean_test_score\"].max())\n",
    "\n",
    "MNB_score =grid_search_MNB.cv_results_[\"mean_test_score\"].max()"
   ]
  },
  {
   "cell_type": "markdown",
   "metadata": {},
   "source": [
    "### Grafico los F-scores del Naive Bayes"
   ]
  },
  {
   "cell_type": "code",
   "execution_count": 136,
   "metadata": {},
   "outputs": [
    {
     "data": {
      "text/plain": [
       "Text(0.5,1,'p-val=0.0')"
      ]
     },
     "execution_count": 136,
     "metadata": {},
     "output_type": "execute_result"
    },
    {
     "data": {
      "image/png": "[encoded data removed]",
      "text/plain": [
       "<Figure size 432x288 with 1 Axes>"
      ]
     },
     "metadata": {},
     "output_type": "display_data"
    }
   ],
   "source": [
    "f_measure_random = [f1_score(list(testset_clase), random.sample(list(testset_clase), len(testset_clase)), average=\"macro\") for i in range(10000)]\n",
    "# Histograma\n",
    "histograma = plt.hist(f_measure_random)\n",
    "plt.vlines(MNB_score,ymin=0,ymax=histograma[0].max())\n",
    "plt.title(\"p-val=\"+str((f_measure_random>MNB_score).sum()/len(f_measure_random)))"
   ]
  },
  {
   "cell_type": "markdown",
   "metadata": {},
   "source": [
    "### Construyo un clasificador Random Forest"
   ]
  },
  {
   "cell_type": "code",
   "execution_count": 137,
   "metadata": {},
   "outputs": [
    {
     "name": "stdout",
     "output_type": "stream",
     "text": [
      "n_estimators: 200 ; max_features: 10 ; max_depth: 10\n",
      "fscore_cv= 0.5604475607388141\n"
     ]
    }
   ],
   "source": [
    "clf_RF = RandomForestClassifier(class_weight=\"balanced\",random_state=123)\n",
    "# Parametros a variar \n",
    "parameters = {'n_estimators':[200],'max_features': [10,20,'auto'],\"max_depth\":[5,10,None] }\n",
    "# define un grid search a realizar \n",
    "grid_search_RF = GridSearchCV(clf_RF, parameters,scoring='f1_macro',cv=10,return_train_score=True, n_jobs=-1)\n",
    "# realiza el grid search evaluando el modelo en un esquema de Cross-Validation\n",
    "grid_search_RF.fit(trainset_texto_token, trainset_clase)\n",
    "# selecciona el mejor modelo (mejor set de parametros)\n",
    "best_clf_RF = grid_search_RF.best_estimator_\n",
    "print (\"n_estimators:\",best_clf_RF.n_estimators,\"; max_features:\",best_clf_RF.max_features,\"; max_depth:\",best_clf_RF.max_depth )\n",
    "print(\"fscore_cv=\",grid_search_RF.cv_results_[\"mean_test_score\"].max())"
   ]
  },
  {
   "cell_type": "markdown",
   "metadata": {},
   "source": [
    "### Evalúo el desempeño entre Naive Bayes y Random Forest mediante un histograma"
   ]
  },
  {
   "cell_type": "code",
   "execution_count": 138,
   "metadata": {},
   "outputs": [
    {
     "data": {
      "text/plain": [
       "<matplotlib.collections.LineCollection at 0x20d79712a90>"
      ]
     },
     "execution_count": 138,
     "metadata": {},
     "output_type": "execute_result"
    },
    {
     "data": {
      "image/png": "[encoded data removed]",
      "text/plain": [
       "<Figure size 432x288 with 1 Axes>"
      ]
     },
     "metadata": {},
     "output_type": "display_data"
    }
   ],
   "source": [
    "rfscore = grid_search_RF.cv_results_[\"mean_test_score\"].max()\n",
    "histograma = plt.hist(f_measure_random)\n",
    "plt.vlines(rfscore,ymin=0,ymax=histograma[0].max()) #En negro Random Forest\n",
    "plt.title(\"p-val=\"+str((f_measure_random>rfscore).sum()/len(f_measure_random)))\n",
    "plt.vlines(MNB_score,ymin=0,ymax=histograma[0].max(),color=\"red\") #En rojo Naive Bayes"
   ]
  },
  {
   "cell_type": "markdown",
   "metadata": {},
   "source": [
    "### Grafico las palabras importantes"
   ]
  },
  {
   "cell_type": "code",
   "execution_count": 139,
   "metadata": {},
   "outputs": [
    {
     "data": {
      "text/plain": [
       "(array([0.   , 0.002, 0.004, 0.006, 0.008, 0.01 , 0.012, 0.014, 0.016]),\n",
       " <a list of 9 Text yticklabel objects>)"
      ]
     },
     "execution_count": 139,
     "metadata": {},
     "output_type": "execute_result"
    },
    {
     "data": {
      "image/png": "[encoded data removed]",
      "text/plain": [
       "<Figure size 1080x360 with 1 Axes>"
      ]
     },
     "metadata": {},
     "output_type": "display_data"
    }
   ],
   "source": [
    "important_words = pd.Series(best_clf_RF.feature_importances_,index=count_vect.get_feature_names()).sort_values(ascending=False)[:25]\n",
    "important_words.plot(kind=\"bar\",figsize=(15,5),color=\"darkblue\")\n",
    "plt.ylabel(\"Feature importance\",size=20);plt.xticks(size = 20);plt.yticks(size = 20)\n",
    "# Es probable que wa y ha sean problema del tokenizador "
   ]
  },
  {
   "cell_type": "markdown",
   "metadata": {},
   "source": [
    "### Armo un Pipeline para evaluar usando TF-IDF"
   ]
  },
  {
   "cell_type": "code",
   "execution_count": null,
   "metadata": {},
   "outputs": [],
   "source": [
    "pipeline = Pipeline([('tfidf', TfidfVectorizer(preprocessor=clean_text, tokenizer=tokenizer,stop_words=\"english\",ngram_range=(1,2))),\n",
    "                     ('reduce_dim', SelectKBest(mutual_info_classif)),\n",
    "                     ('clf',  MultinomialNB())])\n",
    "    \n",
    "parameters = {'tfidf__use_idf': [True, False],\n",
    "              'tfidf__min_df': [3,5,7,10],\n",
    "              'clf__alpha': [0.001, 0.01,0.1,1,10,100]}\n",
    "\n",
    "clf_pipe = GridSearchCV(pipeline, parameters, scoring='f1_macro',cv=10,return_train_score=True, n_jobs=-1)\n",
    "\n",
    "clf_pipe.fit(trainset_texto, trainset_clase)\n",
    "\n",
    "best_pipeline = clf_pipe.best_estimator_"
   ]
  },
  {
   "cell_type": "markdown",
   "metadata": {},
   "source": [
    "#### Evalúo el Pipeline"
   ]
  },
  {
   "cell_type": "code",
   "execution_count": null,
   "metadata": {},
   "outputs": [],
   "source": [
    "print(\"Best score:\",clf_pipe.best_score_)\n",
    "print(\"\\nBest parameters set:\")\n",
    "best_parameters = best_pipeline.get_params()\n",
    "print(\"use idf:\",best_parameters[\"tfidf__use_idf\"])\n",
    "print(\"RF max_features:\",best_parameters[\"tfidf__min_df\"])\n",
    "print(\"RF max_depth:\",best_parameters[\"clf__alpha\"])"
   ]
  }
 ],
 "metadata": {
  "kernelspec": {
   "display_name": "Python 3",
   "language": "python",
   "name": "python3"
  },
  "language_info": {
   "codemirror_mode": {
    "name": "ipython",
    "version": 3
   },
   "file_extension": ".py",
   "mimetype": "text/x-python",
   "name": "python",
   "nbconvert_exporter": "python",
   "pygments_lexer": "ipython3",
   "version": "3.6.4"
  }
 },
 "nbformat": 4,
 "nbformat_minor": 2
}
