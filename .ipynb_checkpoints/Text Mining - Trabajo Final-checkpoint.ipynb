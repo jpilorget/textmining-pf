{
 "cells": [
  {
   "cell_type": "markdown",
   "metadata": {},
   "source": [
    "## Trabajo Final de Text Mining\n",
    "### Integrantes: Juan Pablo Pilorget, Pablo Santoro y Mauro Veneziano.\n",
    "### Objetivo: clasificar sentencias según su status de verdad-mentira.\n",
    "### El dataset fue obtenido de [acá](http://lit.eecs.umich.edu/~deceptiondetection/)"
   ]
  },
  {
   "cell_type": "markdown",
   "metadata": {},
   "source": [
    "### Importo las librerías"
   ]
  },
  {
   "cell_type": "code",
   "execution_count": 94,
   "metadata": {},
   "outputs": [],
   "source": [
    "from tabulate import tabulate\n",
    "%matplotlib inline\n",
    "import matplotlib.pyplot as plt\n",
    "import pandas as pd\n",
    "from tqdm import tqdm\n",
    "import numpy as np\n",
    "import re\n",
    "import random\n",
    "import io\n",
    "import gensim\n",
    "import struct \n",
    "import nltk\n",
    "from empath import Empath\n",
    "from textstat.textstat import textstat as txt\n",
    "from nltk.stem import WordNetLemmatizer \n",
    "from nltk import word_tokenize, sent_tokenize\n",
    "from sklearn.model_selection import train_test_split, cross_val_score, GridSearchCV\n",
    "from sklearn.feature_extraction.text import CountVectorizer, TfidfVectorizer\n",
    "from sklearn.naive_bayes import BernoulliNB, MultinomialNB\n",
    "from sklearn.metrics import confusion_matrix, precision_recall_fscore_support, classification_report, confusion_matrix, f1_score, classification_report, accuracy_score\n",
    "from sklearn.ensemble import RandomForestClassifier, GradientBoostingClassifier, ExtraTreesClassifier\n",
    "import seaborn as sns\n",
    "from gensim.models.word2vec import Word2Vec\n",
    "from collections import Counter, defaultdict\n",
    "from sklearn.svm import SVC\n",
    "from sklearn.cross_validation import cross_val_score\n",
    "from sklearn.cross_validation import StratifiedShuffleSplit\n",
    "from sklearn.dummy import DummyClassifier\n",
    "from sklearn.pipeline import Pipeline\n",
    "from sklearn.feature_selection import SelectKBest, mutual_info_classif\n",
    "from sklearn import linear_model"
   ]
  },
  {
   "cell_type": "markdown",
   "metadata": {},
   "source": [
    "### Cargo el dataset"
   ]
  },
  {
   "cell_type": "code",
   "execution_count": 2,
   "metadata": {},
   "outputs": [],
   "source": [
    "df = pd.read_csv(\"7Truth7LiesDataset.csv\",sep = ',', quotechar=\"'\",escapechar=\"\\\\\")\n",
    "df = df.sample(frac=1,random_state=0).reset_index(drop=True).copy()\n",
    "df = df.rename(columns={\"class\":\"clase\"}) # class es palabra reservada\n",
    "df['clase'] = np.where(df['clase'] == 'truth', 1, 0)"
   ]
  },
  {
   "cell_type": "markdown",
   "metadata": {},
   "source": [
    "#### Tomo el texto para el clasificador"
   ]
  },
  {
   "cell_type": "code",
   "execution_count": 3,
   "metadata": {},
   "outputs": [],
   "source": [
    "trainset_texto, testset_texto, trainset_clase, testset_clase =  train_test_split(df.text,df.clase,stratify=df.clase, test_size=0.3, random_state = 123)"
   ]
  },
  {
   "cell_type": "markdown",
   "metadata": {},
   "source": [
    "### Construyo los tokenizadores y limpiadores"
   ]
  },
  {
   "cell_type": "code",
   "execution_count": 4,
   "metadata": {},
   "outputs": [],
   "source": [
    "def clean_text(text):\n",
    "    text = re.sub('(\\[\")|(\"\\])',\" \",text)\n",
    "    return text.lower().strip()\n",
    "# Tokenizador\n",
    "def tokenizer(text):\n",
    "    return [w for w in word_tokenize(text) if w.isalpha() and len(w)>1]"
   ]
  },
  {
   "cell_type": "markdown",
   "metadata": {},
   "source": [
    "#### Este tokenizador deja palabras con largo mayor a 1 (A REVISAR). Hay que evaluar si la autorreferencialidad (I) es imoprtante en inglés."
   ]
  },
  {
   "cell_type": "code",
   "execution_count": 5,
   "metadata": {},
   "outputs": [],
   "source": [
    "class LemmaTokenizer(object):\n",
    "    def __init__(self):\n",
    "        self.wnl = WordNetLemmatizer()\n",
    "    def __call__(self, doc):\n",
    "        return [self.wnl.lemmatize(t) for t in word_tokenize(doc) if t.isalpha() and len(t)>1]"
   ]
  },
  {
   "cell_type": "markdown",
   "metadata": {},
   "source": [
    "### Construyo el count vectorizer"
   ]
  },
  {
   "cell_type": "code",
   "execution_count": 6,
   "metadata": {
    "scrolled": true
   },
   "outputs": [],
   "source": [
    "count_vect = CountVectorizer(preprocessor=clean_text, tokenizer=LemmaTokenizer(), min_df=5,stop_words=\"english\",ngram_range=(1,2))\n",
    "trainset_texto_token = count_vect.fit_transform(trainset_texto)\n",
    "testset_texto_token = count_vect.transform(testset_texto)"
   ]
  },
  {
   "cell_type": "code",
   "execution_count": 7,
   "metadata": {},
   "outputs": [
    {
     "name": "stderr",
     "output_type": "stream",
     "text": [
      "100%|██████████| 4077/4077 [00:01<00:00, 3701.13it/s]\n"
     ]
    }
   ],
   "source": [
    "corpus = \" \".join(trainset_texto)\n",
    "sent_tokenize(corpus)\n",
    "# reemplazo numeros con \" num \" y  paso a minuscula \n",
    "reg_num = re.compile(r\"\\d+[.,]?\\d*\") # Regular expression to search numbers\n",
    "corpus = reg_num.sub(\" NUM \",corpus).lower()  \n",
    "corpus = sent_tokenize(corpus)\n",
    "\n",
    "# tiro los tokens no alphabeticos \n",
    "trainset_tokenizado = []\n",
    "for sent in tqdm(corpus):\n",
    "    tokens = []\n",
    "    for token in word_tokenize(sent):\n",
    "        if token.isalpha():\n",
    "            tokens.append(token)\n",
    "    trainset_tokenizado.append(tokens)"
   ]
  },
  {
   "cell_type": "code",
   "execution_count": 8,
   "metadata": {},
   "outputs": [
    {
     "data": {
      "text/plain": [
       "['i will stay up till  num  am tomorrow.',\n",
       " 'we  sleep in night i was in hurry yesterday and instead of taking the elevator from second floor i jumped down to earth.',\n",
       " 'i am in my forties.',\n",
       " 'there is no evidence that america is an oligarchy.',\n",
       " 'a blue whale only eats squid.',\n",
       " 'kodak has gone bankrupt i was lying when i said i love you.',\n",
       " 'my friend can smell with the help of his fingers.',\n",
       " 'orange is blue.',\n",
       " 'santa monica, california, is the west coast terminus of route  num  moon will come in the night i have traveled to mars several times in my life birthday cakes can come lots of flavors, like chocolate, vanilla and red velvet.',\n",
       " 'my life is very chaotic.']"
      ]
     },
     "execution_count": 8,
     "metadata": {},
     "output_type": "execute_result"
    }
   ],
   "source": [
    "corpus[:10]"
   ]
  },
  {
   "cell_type": "code",
   "execution_count": 11,
   "metadata": {},
   "outputs": [
    {
     "name": "stdout",
     "output_type": "stream",
     "text": [
      "el corpus tiene 5017 oraciones y 45927 palabras\n"
     ]
    }
   ],
   "source": [
    "print (\"el corpus tiene\",len(trainset_texto), \"oraciones y\",sum([len(word_tokenize(x)) for x in trainset_texto]),\"tokens\")"
   ]
  },
  {
   "cell_type": "markdown",
   "metadata": {},
   "source": [
    "### Incorporo el código para Word embeddings"
   ]
  },
  {
   "cell_type": "code",
   "execution_count": 15,
   "metadata": {},
   "outputs": [],
   "source": [
    "GLOVE_6B_50D_PATH = \"../Maestría en Data Mining/glove.6B.50d.txt\"\n",
    "encoding=\"utf-8\""
   ]
  },
  {
   "cell_type": "code",
   "execution_count": 16,
   "metadata": {},
   "outputs": [
    {
     "ename": "FileNotFoundError",
     "evalue": "[Errno 2] No such file or directory: '../Maestría en Data Mining/glove.6B.50d.txt'",
     "output_type": "error",
     "traceback": [
      "\u001b[0;31m---------------------------------------------------------------------------\u001b[0m",
      "\u001b[0;31mFileNotFoundError\u001b[0m                         Traceback (most recent call last)",
      "\u001b[0;32m<ipython-input-16-7e6f3fd1b371>\u001b[0m in \u001b[0;36m<module>\u001b[0;34m()\u001b[0m\n\u001b[0;32m----> 1\u001b[0;31m \u001b[0;32mwith\u001b[0m \u001b[0mopen\u001b[0m\u001b[0;34m(\u001b[0m\u001b[0mGLOVE_6B_50D_PATH\u001b[0m\u001b[0;34m,\u001b[0m \u001b[0;34m\"rb\"\u001b[0m\u001b[0;34m)\u001b[0m \u001b[0;32mas\u001b[0m \u001b[0mlines\u001b[0m\u001b[0;34m:\u001b[0m\u001b[0;34m\u001b[0m\u001b[0m\n\u001b[0m\u001b[1;32m      2\u001b[0m     wvec = {line.split()[0].decode(encoding): np.array(line.split()[1:],dtype=np.float32)\n\u001b[1;32m      3\u001b[0m                for line in lines}\n",
      "\u001b[0;31mFileNotFoundError\u001b[0m: [Errno 2] No such file or directory: '../Maestría en Data Mining/glove.6B.50d.txt'"
     ]
    }
   ],
   "source": [
    "with open(GLOVE_6B_50D_PATH, \"rb\") as lines:\n",
    "    wvec = {line.split()[0].decode(encoding): np.array(line.split()[1:],dtype=np.float32)\n",
    "               for line in lines}"
   ]
  },
  {
   "cell_type": "code",
   "execution_count": 17,
   "metadata": {},
   "outputs": [
    {
     "name": "stdout",
     "output_type": "stream",
     "text": [
      "total examples 4077\n"
     ]
    }
   ],
   "source": [
    "X, y = [], []\n",
    "for i in range(len(trainset_tokenizado)):\n",
    "    X.append(trainset_tokenizado[i])\n",
    "    y.append(trainset_clase.tolist()[i])\n",
    "X, y = np.array(X), np.array(y)\n",
    "print (\"total examples %s\" % len(y))"
   ]
  },
  {
   "cell_type": "code",
   "execution_count": 18,
   "metadata": {},
   "outputs": [
    {
     "ename": "FileNotFoundError",
     "evalue": "[Errno 2] No such file or directory: '../Maestría en Data Mining/glove.6B.50d.txt'",
     "output_type": "error",
     "traceback": [
      "\u001b[0;31m---------------------------------------------------------------------------\u001b[0m",
      "\u001b[0;31mFileNotFoundError\u001b[0m                         Traceback (most recent call last)",
      "\u001b[0;32m<ipython-input-18-56f86322bed1>\u001b[0m in \u001b[0;36m<module>\u001b[0;34m()\u001b[0m\n\u001b[1;32m      1\u001b[0m \u001b[0mglove_small\u001b[0m \u001b[0;34m=\u001b[0m \u001b[0;34m{\u001b[0m\u001b[0;34m}\u001b[0m\u001b[0;34m\u001b[0m\u001b[0m\n\u001b[1;32m      2\u001b[0m \u001b[0mall_words\u001b[0m \u001b[0;34m=\u001b[0m \u001b[0mset\u001b[0m\u001b[0;34m(\u001b[0m\u001b[0mw\u001b[0m \u001b[0;32mfor\u001b[0m \u001b[0mwords\u001b[0m \u001b[0;32min\u001b[0m \u001b[0mX\u001b[0m \u001b[0;32mfor\u001b[0m \u001b[0mw\u001b[0m \u001b[0;32min\u001b[0m \u001b[0mwords\u001b[0m\u001b[0;34m)\u001b[0m\u001b[0;34m\u001b[0m\u001b[0m\n\u001b[0;32m----> 3\u001b[0;31m \u001b[0;32mwith\u001b[0m \u001b[0mopen\u001b[0m\u001b[0;34m(\u001b[0m\u001b[0mGLOVE_6B_50D_PATH\u001b[0m\u001b[0;34m,\u001b[0m \u001b[0;34m\"rb\"\u001b[0m\u001b[0;34m)\u001b[0m \u001b[0;32mas\u001b[0m \u001b[0minfile\u001b[0m\u001b[0;34m:\u001b[0m\u001b[0;34m\u001b[0m\u001b[0m\n\u001b[0m\u001b[1;32m      4\u001b[0m     \u001b[0;32mfor\u001b[0m \u001b[0mline\u001b[0m \u001b[0;32min\u001b[0m \u001b[0minfile\u001b[0m\u001b[0;34m:\u001b[0m\u001b[0;34m\u001b[0m\u001b[0m\n\u001b[1;32m      5\u001b[0m         \u001b[0mparts\u001b[0m \u001b[0;34m=\u001b[0m \u001b[0mline\u001b[0m\u001b[0;34m.\u001b[0m\u001b[0msplit\u001b[0m\u001b[0;34m(\u001b[0m\u001b[0;34m)\u001b[0m\u001b[0;34m\u001b[0m\u001b[0m\n",
      "\u001b[0;31mFileNotFoundError\u001b[0m: [Errno 2] No such file or directory: '../Maestría en Data Mining/glove.6B.50d.txt'"
     ]
    }
   ],
   "source": [
    "glove_small = {}\n",
    "all_words = set(w for words in X for w in words)\n",
    "with open(GLOVE_6B_50D_PATH, \"rb\") as infile:\n",
    "    for line in infile:\n",
    "        parts = line.split()\n",
    "        word = parts[0].decode(encoding)\n",
    "        if (word in all_words):\n",
    "            nums=np.array(parts[1:], dtype=np.float32)\n",
    "            glove_small[word] = nums"
   ]
  },
  {
   "cell_type": "code",
   "execution_count": 19,
   "metadata": {},
   "outputs": [],
   "source": [
    "model = Word2Vec(X, size=100, window=5, min_count=5, workers=2)\n",
    "w2v = {w: vec for w, vec in zip(model.wv.index2word, model.wv.vectors)}"
   ]
  },
  {
   "cell_type": "code",
   "execution_count": 142,
   "metadata": {},
   "outputs": [],
   "source": [
    "# start with the classics - naive bayes of the multinomial and bernoulli varieties\n",
    "# with either pure counts or tfidf features\n",
    "mult_nb = Pipeline([(\"count_vectorizer\", CountVectorizer(tokenizer = LemmaTokenizer(), analyzer=lambda x: x)), (\"multinomial nb\", MultinomialNB())])\n",
    "bern_nb = Pipeline([(\"count_vectorizer\", CountVectorizer(tokenizer = LemmaTokenizer(),analyzer=lambda x: x)), (\"bernoulli nb\", BernoulliNB())])\n",
    "mult_nb_tfidf = Pipeline([(\"tfidf_vectorizer\", TfidfVectorizer(tokenizer = LemmaTokenizer(),analyzer=lambda x: x)), (\"multinomial nb\", MultinomialNB())])\n",
    "bern_nb_tfidf = Pipeline([(\"tfidf_vectorizer\", TfidfVectorizer(tokenizer = LemmaTokenizer(),analyzer=lambda x: x)), (\"bernoulli nb\", BernoulliNB())])\n",
    "# SVM - which is supposed to be more or less state of the art \n",
    "# http://www.cs.cornell.edu/people/tj/publications/joachims_98a.pdf\n",
    "svc = Pipeline([(\"count_vectorizer\", CountVectorizer(tokenizer = LemmaTokenizer(), analyzer=lambda x: x)), (\"linear svc\", SVC(kernel=\"linear\"))])\n",
    "svc_tfidf = Pipeline([(\"tfidf_vectorizer\", TfidfVectorizer(tokenizer = LemmaTokenizer(), analyzer=lambda x: x)), (\"linear svc\", SVC(kernel=\"linear\"))])"
   ]
  },
  {
   "cell_type": "code",
   "execution_count": 143,
   "metadata": {},
   "outputs": [],
   "source": [
    "class MeanEmbeddingVectorizer(object):\n",
    "    def __init__(self, word2vec):\n",
    "        self.word2vec = word2vec\n",
    "        if len(word2vec)>0:\n",
    "            self.dim=len(word2vec[next(iter(glove_small))])\n",
    "        else:\n",
    "            self.dim=0\n",
    "            \n",
    "    def fit(self, X, y):\n",
    "        return self \n",
    "\n",
    "    def transform(self, X):\n",
    "        return np.array([\n",
    "            np.mean([self.word2vec[w] for w in words if w in self.word2vec] \n",
    "                    or [np.zeros(self.dim)], axis=0)\n",
    "            for words in X\n",
    "        ])\n",
    "\n",
    "    \n",
    "# and a tf-idf version of the same\n",
    "class TfidfEmbeddingVectorizer(object):\n",
    "    def __init__(self, word2vec):\n",
    "        self.word2vec = word2vec\n",
    "        self.word2weight = None\n",
    "        if len(word2vec)>0:\n",
    "            self.dim=len(word2vec[next(iter(glove_small))])\n",
    "        else:\n",
    "            self.dim=0\n",
    "        \n",
    "    def fit(self, X, y):\n",
    "        tfidf = TfidfVectorizer(analyzer=lambda x: x)\n",
    "        tfidf.fit(X)\n",
    "        # if a word was never seen - it must be at least as infrequent\n",
    "        # as any of the known words - so the default idf is the max of \n",
    "        # known idf's\n",
    "        max_idf = max(tfidf.idf_)\n",
    "        self.word2weight = defaultdict(\n",
    "            lambda: max_idf, \n",
    "            [(w, tfidf.idf_[i]) for w, i in tfidf.vocabulary_.items()])\n",
    "    \n",
    "        return self\n",
    "    \n",
    "    def transform(self, X):\n",
    "        return np.array([\n",
    "                np.mean([self.word2vec[w] * self.word2weight[w]\n",
    "                         for w in words if w in self.word2vec] or\n",
    "                        [np.zeros(self.dim)], axis=0)\n",
    "                for words in X\n",
    "            ])"
   ]
  },
  {
   "cell_type": "code",
   "execution_count": 144,
   "metadata": {},
   "outputs": [],
   "source": [
    "# Extra Trees classifier is almost universally great, let's stack it with our embeddings\n",
    "etree_glove_small = Pipeline([(\"glove vectorizer\", MeanEmbeddingVectorizer(glove_small)), \n",
    "                        (\"extra trees\", ExtraTreesClassifier(n_estimators=200))])\n",
    "etree_glove_small_tfidf = Pipeline([(\"glove vectorizer\", TfidfEmbeddingVectorizer(glove_small)), \n",
    "                        (\"extra trees\", ExtraTreesClassifier(n_estimators=200))])\n",
    "\n",
    "etree_w2v = Pipeline([(\"word2vec vectorizer\", MeanEmbeddingVectorizer(w2v)), \n",
    "                        (\"extra trees\", ExtraTreesClassifier(n_estimators=200))])\n",
    "etree_w2v_tfidf = Pipeline([(\"word2vec vectorizer\", TfidfEmbeddingVectorizer(w2v)), \n",
    "                        (\"extra trees\", ExtraTreesClassifier(n_estimators=200))])\n"
   ]
  },
  {
   "cell_type": "code",
   "execution_count": 145,
   "metadata": {},
   "outputs": [
    {
     "name": "stdout",
     "output_type": "stream",
     "text": [
      "model                score\n",
      "-----------------  -------\n",
      "w2v_tfidf           0.5126\n",
      "glove_small_tfidf   0.5013\n",
      "glove_small         0.4964\n",
      "mult_nb_tfidf       0.4950\n",
      "svc_tfidf           0.4947\n",
      "svc                 0.4925\n",
      "w2v                 0.4921\n",
      "bern_nb             0.4898\n",
      "bern_nb_tfidf       0.4898\n",
      "mult_nb             0.4852\n"
     ]
    }
   ],
   "source": [
    "all_models = [\n",
    "    (\"mult_nb\", mult_nb),\n",
    "    (\"mult_nb_tfidf\", mult_nb_tfidf),\n",
    "    (\"bern_nb\", bern_nb),\n",
    "    (\"bern_nb_tfidf\", bern_nb_tfidf),\n",
    "    (\"svc\", svc),\n",
    "    (\"svc_tfidf\", svc_tfidf),\n",
    "    (\"w2v\", etree_w2v),\n",
    "    (\"w2v_tfidf\", etree_w2v_tfidf),\n",
    "    (\"glove_small\", etree_glove_small),\n",
    "    (\"glove_small_tfidf\", etree_glove_small_tfidf),\n",
    "\n",
    "]\n",
    "\n",
    "unsorted_scores = [(name, cross_val_score(model, X, y, cv=10).mean()) for name, model in all_models]\n",
    "scores = sorted(unsorted_scores, key=lambda x: -x[1])\n",
    "\n",
    "\n",
    "print (tabulate(scores, floatfmt=\".4f\", headers=(\"model\", 'score')))"
   ]
  },
  {
   "cell_type": "code",
   "execution_count": 149,
   "metadata": {},
   "outputs": [
    {
     "data": {
      "text/plain": [
       "<matplotlib.axes._subplots.AxesSubplot at 0x26a90af9e80>"
      ]
     },
     "execution_count": 149,
     "metadata": {},
     "output_type": "execute_result"
    },
    {
     "data": {
      "image/png": "[encoded data removed]",
      "text/plain": [
       "<Figure size 1512x432 with 1 Axes>"
      ]
     },
     "metadata": {},
     "output_type": "display_data"
    }
   ],
   "source": [
    "plt.figure(figsize=(21, 6))\n",
    "sns.barplot(x=[name for name, _ in scores], y=[score for _, score in scores])"
   ]
  },
  {
   "cell_type": "markdown",
   "metadata": {},
   "source": [
    "### Construyo un clasificador Naive Bayes"
   ]
  },
  {
   "cell_type": "code",
   "execution_count": 8,
   "metadata": {},
   "outputs": [
    {
     "name": "stdout",
     "output_type": "stream",
     "text": [
      "alpha: 3\n",
      "fscore_cv= 0.5523782385810833\n"
     ]
    }
   ],
   "source": [
    "clf_MNB = MultinomialNB()\n",
    "# Parametros a variar \n",
    "parameters = {'alpha':[0.001,0.003,0.01,0.03,0.1,0.3,1,3,10]}\n",
    "# define un grid search a realizar \n",
    "grid_search_MNB = GridSearchCV(clf_MNB, parameters,scoring='f1_macro',cv=10,return_train_score=True, n_jobs=-1)\n",
    "# realiza el grid search evaluando el modelo en un esquema de Cross-Validation\n",
    "grid_search_MNB.fit(trainset_texto_token, trainset_clase)\n",
    "# selecciona el mejor modelo (mejor set de parametros)\n",
    "best_clf_MNB = grid_search_MNB.best_estimator_\n",
    "MNB_score =grid_search_MNB.cv_results_[\"mean_test_score\"].max()\n",
    "print (\"alpha:\",best_clf_MNB.alpha )\n",
    "print(\"fscore_cv=\",grid_search_MNB.cv_results_[\"mean_test_score\"].max())\n",
    "\n",
    "MNB_score =grid_search_MNB.cv_results_[\"mean_test_score\"].max()"
   ]
  },
  {
   "cell_type": "markdown",
   "metadata": {},
   "source": [
    "### Grafico los F-scores del Naive Bayes"
   ]
  },
  {
   "cell_type": "code",
   "execution_count": 9,
   "metadata": {},
   "outputs": [
    {
     "data": {
      "text/plain": [
       "Text(0.5,1,'p-val=0.0')"
      ]
     },
     "execution_count": 9,
     "metadata": {},
     "output_type": "execute_result"
    },
    {
     "data": {
      "image/png": "[encoded data removed]",
      "text/plain": [
       "<Figure size 432x288 with 1 Axes>"
      ]
     },
     "metadata": {},
     "output_type": "display_data"
    }
   ],
   "source": [
    "f_measure_random = [f1_score(list(testset_clase), random.sample(list(testset_clase), len(testset_clase)), average=\"macro\") for i in range(10000)]\n",
    "# Histograma\n",
    "histograma = plt.hist(f_measure_random)\n",
    "plt.vlines(MNB_score,ymin=0,ymax=histograma[0].max())\n",
    "plt.title(\"p-val=\"+str((f_measure_random>MNB_score).sum()/len(f_measure_random)))"
   ]
  },
  {
   "cell_type": "markdown",
   "metadata": {},
   "source": [
    "### Construyo un clasificador Random Forest"
   ]
  },
  {
   "cell_type": "code",
   "execution_count": 137,
   "metadata": {},
   "outputs": [
    {
     "name": "stdout",
     "output_type": "stream",
     "text": [
      "n_estimators: 200 ; max_features: 10 ; max_depth: 10\n",
      "fscore_cv= 0.5604475607388141\n"
     ]
    }
   ],
   "source": [
    "clf_RF = RandomForestClassifier(class_weight=\"balanced\",random_state=123)\n",
    "# Parametros a variar \n",
    "parameters = {'n_estimators':[200,500,1000,1200],'max_features': [10,20,'auto'],\"max_depth\":[5,10,None] }\n",
    "# define un grid search a realizar \n",
    "grid_search_RF = GridSearchCV(clf_RF, parameters,scoring='f1_macro',cv=10,return_train_score=True, n_jobs=-1)\n",
    "# realiza el grid search evaluando el modelo en un esquema de Cross-Validation\n",
    "grid_search_RF.fit(trainset_texto_token, trainset_clase)\n",
    "# selecciona el mejor modelo (mejor set de parametros)\n",
    "best_clf_RF = grid_search_RF.best_estimator_\n",
    "print (\"n_estimators:\",best_clf_RF.n_estimators,\"; max_features:\",best_clf_RF.max_features,\"; max_depth:\",best_clf_RF.max_depth )\n",
    "print(\"fscore_cv=\",grid_search_RF.cv_results_[\"mean_test_score\"].max())"
   ]
  },
  {
   "cell_type": "markdown",
   "metadata": {},
   "source": [
    "### Evalúo el desempeño entre Naive Bayes y Random Forest mediante un histograma"
   ]
  },
  {
   "cell_type": "code",
   "execution_count": 138,
   "metadata": {},
   "outputs": [
    {
     "data": {
      "text/plain": [
       "<matplotlib.collections.LineCollection at 0x20d79712a90>"
      ]
     },
     "execution_count": 138,
     "metadata": {},
     "output_type": "execute_result"
    },
    {
     "data": {
      "image/png": "[encoded data removed]",
      "text/plain": [
       "<Figure size 432x288 with 1 Axes>"
      ]
     },
     "metadata": {},
     "output_type": "display_data"
    }
   ],
   "source": [
    "rfscore = grid_search_RF.cv_results_[\"mean_test_score\"].max()\n",
    "histograma = plt.hist(f_measure_random)\n",
    "plt.vlines(rfscore,ymin=0,ymax=histograma[0].max()) #En negro Random Forest\n",
    "plt.title(\"p-val=\"+str((f_measure_random>rfscore).sum()/len(f_measure_random)))\n",
    "plt.vlines(MNB_score,ymin=0,ymax=histograma[0].max(),color=\"red\") #En rojo Naive Bayes"
   ]
  },
  {
   "cell_type": "markdown",
   "metadata": {},
   "source": [
    "### Grafico las palabras importantes"
   ]
  },
  {
   "cell_type": "code",
   "execution_count": 139,
   "metadata": {},
   "outputs": [
    {
     "data": {
      "text/plain": [
       "(array([0.   , 0.002, 0.004, 0.006, 0.008, 0.01 , 0.012, 0.014, 0.016]),\n",
       " <a list of 9 Text yticklabel objects>)"
      ]
     },
     "execution_count": 139,
     "metadata": {},
     "output_type": "execute_result"
    },
    {
     "data": {
      "image/png": "[encoded data removed]",
      "text/plain": [
       "<Figure size 1080x360 with 1 Axes>"
      ]
     },
     "metadata": {},
     "output_type": "display_data"
    }
   ],
   "source": [
    "important_words = pd.Series(best_clf_RF.feature_importances_,index=count_vect.get_feature_names()).sort_values(ascending=False)[:25]\n",
    "important_words.plot(kind=\"bar\",figsize=(15,5),color=\"darkblue\")\n",
    "plt.ylabel(\"Feature importance\",size=20);plt.xticks(size = 20);plt.yticks(size = 20)\n",
    "# Es probable que wa y ha sean problema del tokenizador "
   ]
  },
  {
   "cell_type": "markdown",
   "metadata": {},
   "source": [
    "### Armo un Pipeline para evaluar usando TF-IDF"
   ]
  },
  {
   "cell_type": "code",
   "execution_count": 12,
   "metadata": {},
   "outputs": [],
   "source": [
    "pipeline = Pipeline([('tfidf', TfidfVectorizer(preprocessor=clean_text, tokenizer=tokenizer,stop_words=\"english\",ngram_range=(1,2))),\n",
    "                     ('reduce_dim', SelectKBest(mutual_info_classif)),\n",
    "                     ('clf',  MultinomialNB())])\n",
    "    \n",
    "parameters = {'tfidf__use_idf': [True, False],\n",
    "              'tfidf__min_df': [3,5,7,10],\n",
    "              'clf__alpha': [0.001, 0.01,0.1,1,10,100]}\n",
    "\n",
    "clf_pipe = GridSearchCV(pipeline, parameters, scoring='f1_macro',cv=10,return_train_score=True, n_jobs=-1)\n",
    "\n",
    "clf_pipe.fit(trainset_texto, trainset_clase)\n",
    "\n",
    "best_pipeline = clf_pipe.best_estimator_"
   ]
  },
  {
   "cell_type": "markdown",
   "metadata": {},
   "source": [
    "#### Evalúo el Pipeline"
   ]
  },
  {
   "cell_type": "code",
   "execution_count": 13,
   "metadata": {},
   "outputs": [
    {
     "name": "stdout",
     "output_type": "stream",
     "text": [
      "Best score: 0.4031697131727374\n",
      "\n",
      "Best parameters set:\n",
      "use idf: True\n",
      "RF max_features: 10\n",
      "RF max_depth: 10\n"
     ]
    }
   ],
   "source": [
    "print(\"Best score:\",clf_pipe.best_score_)\n",
    "print(\"\\nBest parameters set:\")\n",
    "best_parameters = best_pipeline.get_params()\n",
    "print(\"use idf:\",best_parameters[\"tfidf__use_idf\"])\n",
    "print(\"RF max_features:\",best_parameters[\"tfidf__min_df\"])\n",
    "print(\"RF max_depth:\",best_parameters[\"clf__alpha\"])"
   ]
  },
  {
   "cell_type": "code",
   "execution_count": null,
   "metadata": {},
   "outputs": [],
   "source": [
    "#### ACÁ EMPIEZO OTRA PARTE"
   ]
  },
  {
   "cell_type": "code",
   "execution_count": 4,
   "metadata": {},
   "outputs": [],
   "source": [
    "## VOY A ARMAR UN MODELO PARA COMPLEJIDAD DE LA EXPRESION"
   ]
  },
  {
   "cell_type": "code",
   "execution_count": null,
   "metadata": {},
   "outputs": [],
   "source": [
    "## Empiezo con cosas basicas como algunos signos de puntuacion, longitud de palabras, cantidad de caracteres y cantidad de caracteres por palabra."
   ]
  },
  {
   "cell_type": "code",
   "execution_count": 6,
   "metadata": {},
   "outputs": [],
   "source": [
    "coma = trainset_texto.apply(lambda x: len(re.findall(\",\",x)))\n",
    "puntos = trainset_texto.apply(lambda x: len(re.findall(\"\\.\",x)))\n",
    "parentesis = trainset_texto.apply(lambda x: len(re.findall(\"\\(\",x)))\n",
    "word_count = trainset_texto.apply(lambda x: len(x.replace(\"'\",\"\").split()))\n",
    "letras = trainset_texto.apply(lambda x: len(list(re.sub(\"\\W\",\"\",x))))\n",
    "charbyword = letras/word_count"
   ]
  },
  {
   "cell_type": "code",
   "execution_count": 98,
   "metadata": {},
   "outputs": [],
   "source": [
    "##"
   ]
  },
  {
   "cell_type": "code",
   "execution_count": 8,
   "metadata": {},
   "outputs": [
    {
     "data": {
      "text/plain": [
       "7105                  I will stay up till 12 am tomorrow.\n",
       "2499                                   We  sleep in night\n",
       "4285    I was in hurry yesterday and instead of taking...\n",
       "2494                                  I am in my forties.\n",
       "308     There is no evidence that america is an oligar...\n",
       "2341                        A blue whale only eats squid.\n",
       "2827                              Kodak has gone bankrupt\n",
       "1703                  I was lying when i said i love you.\n",
       "1423    My friend can smell with the help of his fingers.\n",
       "6411                                      Orange is blue.\n",
       "Name: text, dtype: object"
      ]
     },
     "execution_count": 8,
     "metadata": {},
     "output_type": "execute_result"
    }
   ],
   "source": [
    "trainset_texto.head(10)\n"
   ]
  },
  {
   "cell_type": "code",
   "execution_count": 111,
   "metadata": {},
   "outputs": [],
   "source": [
    "## indice de concreción (que tan concreto/abstracto es una palabra) \n",
    "conc_rating = pd.read_csv(\"Concreteness_ratings.txt\",sep=\"\t\")\n",
    "conc_rating.head(2)"
   ]
  },
  {
   "cell_type": "code",
   "execution_count": 101,
   "metadata": {},
   "outputs": [],
   "source": [
    "## Tomo la concreción promedio de cada frase (sin lematizar)"
   ]
  },
  {
   "cell_type": "code",
   "execution_count": 10,
   "metadata": {},
   "outputs": [],
   "source": [
    "def conc_src(ele):\n",
    "    if ele in conc_rating.Word.values:\n",
    "        score = conc_rating.loc[conc_rating['Word'] == ele,\"Conc.M\"]\n",
    "        return float(score)\n",
    "    else:\n",
    "        return 0\n",
    "\n",
    "\n",
    "## no olvidarse de corregir esto, es para la prueba nomas\n",
    "pru = trainset_texto.sample(500)\n",
    "concre_media = pru.apply(lambda x: np.mean([conc_src(ele) for ele in x.split()]))"
   ]
  },
  {
   "cell_type": "code",
   "execution_count": 103,
   "metadata": {},
   "outputs": [
    {
     "data": {
      "text/plain": [
       "2341    2.486667\n",
       "2736    1.613333\n",
       "4688    1.316667\n",
       "668     1.878889\n",
       "6431    2.630000\n",
       "3076    3.076364\n",
       "4533    1.940000\n",
       "6482    1.050000\n",
       "4358    1.990000\n",
       "6704    2.685000\n",
       "Name: text, dtype: float64"
      ]
     },
     "execution_count": 103,
     "metadata": {},
     "output_type": "execute_result"
    }
   ],
   "source": [
    "concre_media.head(10)"
   ]
  },
  {
   "cell_type": "code",
   "execution_count": 104,
   "metadata": {},
   "outputs": [],
   "source": [
    "### probemos lematizando\n",
    "concre_media_l = pru.apply(lambda x: np.mean([conc_src(WordNetLemmatizer().lemmatize(ele)) for ele in x.split()]))"
   ]
  },
  {
   "cell_type": "code",
   "execution_count": 105,
   "metadata": {},
   "outputs": [
    {
     "data": {
      "text/plain": [
       "<matplotlib.legend.Legend at 0x7f41ab80add8>"
      ]
     },
     "execution_count": 105,
     "metadata": {},
     "output_type": "execute_result"
    },
    {
     "data": {
      "image/png": "[encoded data removed]",
      "text/plain": [
       "<Figure size 432x288 with 1 Axes>"
      ]
     },
     "metadata": {},
     "output_type": "display_data"
    }
   ],
   "source": [
    "plt.hist(concre_media,alpha = 0.5,label=\"no lematizado\")\n",
    "plt.hist(concre_media_l,alpha = 0.5,label=\"lematizado\")\n",
    "plt.legend(loc='upper right')\n",
    "## hay un toque de diferencia, pero tampoco la pavada. \n",
    "## el lematizador despues lo trato de mejorar con pos tagging "
   ]
  },
  {
   "cell_type": "code",
   "execution_count": 106,
   "metadata": {},
   "outputs": [],
   "source": [
    "## POR AHORA ME QUEDO SOLAMENTE CON LA MEDIA SIN LEMATIZAR. DESPUES LO SIGO LABURANDO "
   ]
  },
  {
   "cell_type": "code",
   "execution_count": 114,
   "metadata": {},
   "outputs": [],
   "source": [
    "concre_media = trainset_texto.apply(lambda x: np.mean([conc_src(ele) for ele in x.split()]))"
   ]
  },
  {
   "cell_type": "code",
   "execution_count": null,
   "metadata": {},
   "outputs": [],
   "source": [
    "## en otro feature cuento la cantidad de palabras con una concreción baja (palabras abstractas)\n",
    "## pongo un umbral de 2.5 para decir que es baja o alta (el maximo es 5)"
   ]
  },
  {
   "cell_type": "code",
   "execution_count": 115,
   "metadata": {},
   "outputs": [],
   "source": [
    "def es_abstracta(ele):\n",
    "    if ele in conc_rating.Word.values:\n",
    "        score = conc_rating.loc[conc_rating['Word'] == ele,\"Conc.M\"]\n",
    "        return float(score) < 2.5\n",
    "    else:\n",
    "        return False\n",
    "    \n",
    "cant_abstractas = trainset_texto.apply(lambda x: sum([es_abstracta(ele) for ele in x.split()]))"
   ]
  },
  {
   "cell_type": "code",
   "execution_count": 129,
   "metadata": {},
   "outputs": [],
   "source": [
    "df_comp_train = pd.concat([coma,puntos,parentesis,word_count,letras,charbyword,concre_media, cant_abstractas ],axis=1)\n",
    "df_comp_train.columns = [\"coma\",\"puntos\",\"parentesis\",\"word_count\",\"letras\",\"charbyword\",\"concre_media\",\"cant_abstractas\"]"
   ]
  },
  {
   "cell_type": "code",
   "execution_count": 33,
   "metadata": {},
   "outputs": [],
   "source": [
    "# ACÁ TE AHORRO TIEMPO\n",
    "df_comp_train = pd.read_csv(\"df_comp_train.csv\",index_col=0)"
   ]
  },
  {
   "cell_type": "code",
   "execution_count": 34,
   "metadata": {},
   "outputs": [],
   "source": [
    "### en el proximo dejo armado dos modelitos para ir probando.Pero faltan todavia un par de features:\n",
    "## unas metricas que tengo anotadas y el lexiconde imaginabilidad"
   ]
  },
  {
   "cell_type": "code",
   "execution_count": 35,
   "metadata": {},
   "outputs": [],
   "source": [
    "silabas = trainset_texto.apply(txt.syllable_count)\n",
    "flesch= trainset_texto.apply(txt.flesch_reading_ease)\n",
    "smog = trainset_texto.apply(txt.smog_index)\n",
    "dale_chal = trainset_texto.apply(txt.dale_chall_readability_score)\n",
    "ari = trainset_texto.apply(txt.automated_readability_index)\n",
    "\n",
    "df_comp_train = pd.concat([df_comp_train,silabas,flesch,smog,dale_chal,ari],axis=1)"
   ]
  },
  {
   "cell_type": "code",
   "execution_count": 36,
   "metadata": {},
   "outputs": [],
   "source": [
    "df_comp_train.columns = [\"coma\",\"puntos\",\"parentesis\",\"word_count\",\"letras\",\"charbyword\",\"concre_media\",\"cant_abstractas\",\"silabas\",\"flesch\",\"smog\",\"dale_chal\",\"ari\"]"
   ]
  },
  {
   "cell_type": "code",
   "execution_count": 37,
   "metadata": {},
   "outputs": [
    {
     "data": {
      "text/html": [
       "<div>\n",
       "<style scoped>\n",
       "    .dataframe tbody tr th:only-of-type {\n",
       "        vertical-align: middle;\n",
       "    }\n",
       "\n",
       "    .dataframe tbody tr th {\n",
       "        vertical-align: top;\n",
       "    }\n",
       "\n",
       "    .dataframe thead th {\n",
       "        text-align: right;\n",
       "    }\n",
       "</style>\n",
       "<table border=\"1\" class=\"dataframe\">\n",
       "  <thead>\n",
       "    <tr style=\"text-align: right;\">\n",
       "      <th></th>\n",
       "      <th>Word</th>\n",
       "      <th>p1</th>\n",
       "      <th>p2</th>\n",
       "      <th>p3</th>\n",
       "    </tr>\n",
       "  </thead>\n",
       "  <tbody>\n",
       "    <tr>\n",
       "      <th>0</th>\n",
       "      <td>a</td>\n",
       "      <td>2.0</td>\n",
       "      <td>1.3846</td>\n",
       "      <td>1.0</td>\n",
       "    </tr>\n",
       "  </tbody>\n",
       "</table>\n",
       "</div>"
      ],
      "text/plain": [
       "  Word   p1      p2   p3\n",
       "0    a  2.0  1.3846  1.0"
      ]
     },
     "execution_count": 37,
     "metadata": {},
     "output_type": "execute_result"
    }
   ],
   "source": [
    "### indice de imaginabilidad\n",
    "imag_rating= pd.read_csv(\"DAL_cleaned.txt\",sep='\\s+',header=None)\n",
    "imag_rating.columns = ['Word',\"p1\",\"p2\",\"p3\"]\n",
    "imag_rating.head(1)"
   ]
  },
  {
   "cell_type": "code",
   "execution_count": 38,
   "metadata": {},
   "outputs": [],
   "source": [
    "## agrego puntaje de imaginabilidad"
   ]
  },
  {
   "cell_type": "code",
   "execution_count": 39,
   "metadata": {},
   "outputs": [
    {
     "name": "stderr",
     "output_type": "stream",
     "text": [
      "/home/mauro/.local/lib/python3.5/site-packages/ipykernel_launcher.py:10: RuntimeWarning: Mean of empty slice\n",
      "  # Remove the CWD from sys.path while we load stuff.\n"
     ]
    },
    {
     "data": {
      "text/plain": [
       "7105    1.200000\n",
       "2499    2.400000\n",
       "4285    1.647059\n",
       "2494    1.600000\n",
       "308     1.200000\n",
       "2341    2.400000\n",
       "2827    1.200000\n",
       "1703    1.200000\n",
       "1423    1.575000\n",
       "6411    1.000000\n",
       "Name: text, dtype: float64"
      ]
     },
     "execution_count": 39,
     "metadata": {},
     "output_type": "execute_result"
    }
   ],
   "source": [
    "def imag_src(ele):\n",
    "    if ele in imag_rating.Word.values:\n",
    "        ele = ele.lower()\n",
    "        p3 = imag_rating.loc[imag_rating['Word'] == ele,\"p3\"]\n",
    "        return p3.iloc[0]\n",
    "    else:\n",
    "        return float(\"nan\")\n",
    "\n",
    "### toma el promedio de la imaginabilidad de las palabras\n",
    "imag_scores = trainset_texto.apply(lambda x: np.nanmean([imag_src(ele) for ele in x.split()]))\n",
    "imag_scores.head(10)"
   ]
  },
  {
   "cell_type": "code",
   "execution_count": 40,
   "metadata": {},
   "outputs": [],
   "source": [
    "def es_imaginable(ele):\n",
    "    if ele in imag_rating.Word.values:\n",
    "        score = imag_rating.loc[imag_rating['Word'] == ele,\"p3\"]\n",
    "        return float(score) < 1.5\n",
    "    else:\n",
    "        return False\n",
    "    \n",
    "cant_imaginables =trainset_texto.apply(lambda x: sum([es_imaginable(ele) for ele in x.split()]))\n"
   ]
  },
  {
   "cell_type": "code",
   "execution_count": 41,
   "metadata": {},
   "outputs": [
    {
     "data": {
      "text/html": [
       "<div>\n",
       "<style scoped>\n",
       "    .dataframe tbody tr th:only-of-type {\n",
       "        vertical-align: middle;\n",
       "    }\n",
       "\n",
       "    .dataframe tbody tr th {\n",
       "        vertical-align: top;\n",
       "    }\n",
       "\n",
       "    .dataframe thead th {\n",
       "        text-align: right;\n",
       "    }\n",
       "</style>\n",
       "<table border=\"1\" class=\"dataframe\">\n",
       "  <thead>\n",
       "    <tr style=\"text-align: right;\">\n",
       "      <th></th>\n",
       "      <th>coma</th>\n",
       "      <th>puntos</th>\n",
       "      <th>parentesis</th>\n",
       "      <th>word_count</th>\n",
       "      <th>letras</th>\n",
       "      <th>charbyword</th>\n",
       "      <th>concre_media</th>\n",
       "      <th>cant_abstractas</th>\n",
       "      <th>silabas</th>\n",
       "      <th>flesch</th>\n",
       "      <th>smog</th>\n",
       "      <th>dale_chal</th>\n",
       "      <th>ari</th>\n",
       "      <th>imag_score</th>\n",
       "      <th>cant_imaginables</th>\n",
       "    </tr>\n",
       "  </thead>\n",
       "  <tbody>\n",
       "    <tr>\n",
       "      <th>7105</th>\n",
       "      <td>0</td>\n",
       "      <td>1</td>\n",
       "      <td>0</td>\n",
       "      <td>8</td>\n",
       "      <td>27</td>\n",
       "      <td>3.375000</td>\n",
       "      <td>2.313750</td>\n",
       "      <td>2</td>\n",
       "      <td>10</td>\n",
       "      <td>88.74</td>\n",
       "      <td>0.0</td>\n",
       "      <td>6.01</td>\n",
       "      <td>-1.0</td>\n",
       "      <td>1.200000</td>\n",
       "      <td>4</td>\n",
       "    </tr>\n",
       "    <tr>\n",
       "      <th>2499</th>\n",
       "      <td>0</td>\n",
       "      <td>0</td>\n",
       "      <td>0</td>\n",
       "      <td>4</td>\n",
       "      <td>14</td>\n",
       "      <td>3.500000</td>\n",
       "      <td>2.990000</td>\n",
       "      <td>0</td>\n",
       "      <td>5</td>\n",
       "      <td>92.80</td>\n",
       "      <td>0.0</td>\n",
       "      <td>0.20</td>\n",
       "      <td>-3.0</td>\n",
       "      <td>2.400000</td>\n",
       "      <td>0</td>\n",
       "    </tr>\n",
       "    <tr>\n",
       "      <th>4285</th>\n",
       "      <td>0</td>\n",
       "      <td>1</td>\n",
       "      <td>0</td>\n",
       "      <td>19</td>\n",
       "      <td>82</td>\n",
       "      <td>4.315789</td>\n",
       "      <td>2.260000</td>\n",
       "      <td>7</td>\n",
       "      <td>28</td>\n",
       "      <td>60.65</td>\n",
       "      <td>0.0</td>\n",
       "      <td>5.41</td>\n",
       "      <td>8.7</td>\n",
       "      <td>1.647059</td>\n",
       "      <td>8</td>\n",
       "    </tr>\n",
       "    <tr>\n",
       "      <th>2494</th>\n",
       "      <td>0</td>\n",
       "      <td>1</td>\n",
       "      <td>0</td>\n",
       "      <td>5</td>\n",
       "      <td>14</td>\n",
       "      <td>2.800000</td>\n",
       "      <td>2.262000</td>\n",
       "      <td>2</td>\n",
       "      <td>6</td>\n",
       "      <td>100.24</td>\n",
       "      <td>0.0</td>\n",
       "      <td>7.04</td>\n",
       "      <td>-4.9</td>\n",
       "      <td>1.600000</td>\n",
       "      <td>1</td>\n",
       "    </tr>\n",
       "    <tr>\n",
       "      <th>308</th>\n",
       "      <td>0</td>\n",
       "      <td>1</td>\n",
       "      <td>0</td>\n",
       "      <td>9</td>\n",
       "      <td>41</td>\n",
       "      <td>4.555556</td>\n",
       "      <td>1.364444</td>\n",
       "      <td>5</td>\n",
       "      <td>14</td>\n",
       "      <td>62.34</td>\n",
       "      <td>0.0</td>\n",
       "      <td>9.35</td>\n",
       "      <td>5.1</td>\n",
       "      <td>1.200000</td>\n",
       "      <td>5</td>\n",
       "    </tr>\n",
       "    <tr>\n",
       "      <th>2341</th>\n",
       "      <td>0</td>\n",
       "      <td>1</td>\n",
       "      <td>0</td>\n",
       "      <td>6</td>\n",
       "      <td>23</td>\n",
       "      <td>3.833333</td>\n",
       "      <td>2.486667</td>\n",
       "      <td>1</td>\n",
       "      <td>7</td>\n",
       "      <td>99.23</td>\n",
       "      <td>0.0</td>\n",
       "      <td>0.30</td>\n",
       "      <td>0.4</td>\n",
       "      <td>2.400000</td>\n",
       "      <td>1</td>\n",
       "    </tr>\n",
       "    <tr>\n",
       "      <th>2827</th>\n",
       "      <td>0</td>\n",
       "      <td>0</td>\n",
       "      <td>0</td>\n",
       "      <td>4</td>\n",
       "      <td>20</td>\n",
       "      <td>5.000000</td>\n",
       "      <td>1.320000</td>\n",
       "      <td>1</td>\n",
       "      <td>6</td>\n",
       "      <td>75.88</td>\n",
       "      <td>0.0</td>\n",
       "      <td>11.73</td>\n",
       "      <td>4.1</td>\n",
       "      <td>1.200000</td>\n",
       "      <td>2</td>\n",
       "    </tr>\n",
       "    <tr>\n",
       "      <th>1703</th>\n",
       "      <td>0</td>\n",
       "      <td>1</td>\n",
       "      <td>0</td>\n",
       "      <td>9</td>\n",
       "      <td>26</td>\n",
       "      <td>2.888889</td>\n",
       "      <td>1.642222</td>\n",
       "      <td>3</td>\n",
       "      <td>10</td>\n",
       "      <td>104.64</td>\n",
       "      <td>0.0</td>\n",
       "      <td>0.45</td>\n",
       "      <td>-2.9</td>\n",
       "      <td>1.200000</td>\n",
       "      <td>7</td>\n",
       "    </tr>\n",
       "    <tr>\n",
       "      <th>1423</th>\n",
       "      <td>0</td>\n",
       "      <td>1</td>\n",
       "      <td>0</td>\n",
       "      <td>10</td>\n",
       "      <td>39</td>\n",
       "      <td>3.900000</td>\n",
       "      <td>2.212000</td>\n",
       "      <td>3</td>\n",
       "      <td>11</td>\n",
       "      <td>103.63</td>\n",
       "      <td>0.0</td>\n",
       "      <td>5.71</td>\n",
       "      <td>2.4</td>\n",
       "      <td>1.575000</td>\n",
       "      <td>3</td>\n",
       "    </tr>\n",
       "    <tr>\n",
       "      <th>6411</th>\n",
       "      <td>0</td>\n",
       "      <td>1</td>\n",
       "      <td>0</td>\n",
       "      <td>3</td>\n",
       "      <td>12</td>\n",
       "      <td>4.000000</td>\n",
       "      <td>0.530000</td>\n",
       "      <td>1</td>\n",
       "      <td>4</td>\n",
       "      <td>93.81</td>\n",
       "      <td>0.0</td>\n",
       "      <td>9.05</td>\n",
       "      <td>0.5</td>\n",
       "      <td>1.000000</td>\n",
       "      <td>1</td>\n",
       "    </tr>\n",
       "  </tbody>\n",
       "</table>\n",
       "</div>"
      ],
      "text/plain": [
       "      coma  puntos  parentesis  word_count  letras  charbyword  concre_media  \\\n",
       "7105     0       1           0           8      27    3.375000      2.313750   \n",
       "2499     0       0           0           4      14    3.500000      2.990000   \n",
       "4285     0       1           0          19      82    4.315789      2.260000   \n",
       "2494     0       1           0           5      14    2.800000      2.262000   \n",
       "308      0       1           0           9      41    4.555556      1.364444   \n",
       "2341     0       1           0           6      23    3.833333      2.486667   \n",
       "2827     0       0           0           4      20    5.000000      1.320000   \n",
       "1703     0       1           0           9      26    2.888889      1.642222   \n",
       "1423     0       1           0          10      39    3.900000      2.212000   \n",
       "6411     0       1           0           3      12    4.000000      0.530000   \n",
       "\n",
       "      cant_abstractas  silabas  flesch  smog  dale_chal  ari  imag_score  \\\n",
       "7105                2       10   88.74   0.0       6.01 -1.0    1.200000   \n",
       "2499                0        5   92.80   0.0       0.20 -3.0    2.400000   \n",
       "4285                7       28   60.65   0.0       5.41  8.7    1.647059   \n",
       "2494                2        6  100.24   0.0       7.04 -4.9    1.600000   \n",
       "308                 5       14   62.34   0.0       9.35  5.1    1.200000   \n",
       "2341                1        7   99.23   0.0       0.30  0.4    2.400000   \n",
       "2827                1        6   75.88   0.0      11.73  4.1    1.200000   \n",
       "1703                3       10  104.64   0.0       0.45 -2.9    1.200000   \n",
       "1423                3       11  103.63   0.0       5.71  2.4    1.575000   \n",
       "6411                1        4   93.81   0.0       9.05  0.5    1.000000   \n",
       "\n",
       "      cant_imaginables  \n",
       "7105                 4  \n",
       "2499                 0  \n",
       "4285                 8  \n",
       "2494                 1  \n",
       "308                  5  \n",
       "2341                 1  \n",
       "2827                 2  \n",
       "1703                 7  \n",
       "1423                 3  \n",
       "6411                 1  "
      ]
     },
     "execution_count": 41,
     "metadata": {},
     "output_type": "execute_result"
    }
   ],
   "source": [
    "df_comp_train = pd.concat([df_comp_train, imag_scores.rename(\"imag_score\"),cant_imaginables.rename(\"cant_imaginables\")],axis=1)\n",
    "df_comp_train.head(10)"
   ]
  },
  {
   "cell_type": "code",
   "execution_count": 42,
   "metadata": {},
   "outputs": [
    {
     "name": "stderr",
     "output_type": "stream",
     "text": [
      "/usr/local/lib/python3.5/dist-packages/pandas/core/indexing.py:189: SettingWithCopyWarning: \n",
      "A value is trying to be set on a copy of a slice from a DataFrame\n",
      "\n",
      "See the caveats in the documentation: http://pandas.pydata.org/pandas-docs/stable/indexing.html#indexing-view-versus-copy\n",
      "  self._setitem_with_indexer(indexer, value)\n"
     ]
    }
   ],
   "source": [
    "df_comp_train.imag_score.loc[df_comp_train.imag_score.isna()] = 0"
   ]
  },
  {
   "cell_type": "code",
   "execution_count": 75,
   "metadata": {},
   "outputs": [],
   "source": [
    "df_comp_train_2 = df_comp_train.apply(lambda x: np.where(x<0,x**2,x))"
   ]
  },
  {
   "cell_type": "code",
   "execution_count": 76,
   "metadata": {},
   "outputs": [
    {
     "name": "stdout",
     "output_type": "stream",
     "text": [
      "alpha: 0.001\n",
      "fscore_cv= 0.5140900577762055\n"
     ]
    }
   ],
   "source": [
    "#mod = linear_model.LogisticRegression()\n",
    "mod=  MultinomialNB()\n",
    "# Parametros a variar \n",
    "#parameters = {'C':[0.001,0.01,0.1,1,10,100,1000,10000]}\n",
    "parameters = {'alpha':[0.001,0.003,0.01,0.03,0.1,0.3,1,3,10]}\n",
    "# define un grid search a realizar \n",
    "grid_search_mod = GridSearchCV(mod, parameters,scoring='f1_macro',cv=10,return_train_score=True, n_jobs=-1)\n",
    "# realiza el grid search evaluando el modelo en un esquema de Cross-Validation\n",
    "grid_search_mod.fit(df_comp_train_2, trainset_clase)\n",
    "# selecciona el mejor modelo (mejor set de parametros)\n",
    "best_clf_mod = grid_search_mod.best_estimator_\n",
    "mod_score =grid_search_mod.cv_results_[\"mean_test_score\"].max()\n",
    "#print (\"C:\",best_clf_mod.C )\n",
    "print (\"alpha:\",best_clf_mod.alpha )\n",
    "print(\"fscore_cv=\",grid_search_mod.cv_results_[\"mean_test_score\"].max())\n",
    "\n",
    "MNB_score =grid_search_mod.cv_results_[\"mean_test_score\"].max()\n"
   ]
  },
  {
   "cell_type": "code",
   "execution_count": 77,
   "metadata": {},
   "outputs": [],
   "source": [
    "df_comp_train.loc[:,'clase'] = trainset_clase.values"
   ]
  },
  {
   "cell_type": "code",
   "execution_count": 78,
   "metadata": {
    "scrolled": true
   },
   "outputs": [
    {
     "data": {
      "text/html": [
       "<div>\n",
       "<style scoped>\n",
       "    .dataframe tbody tr th:only-of-type {\n",
       "        vertical-align: middle;\n",
       "    }\n",
       "\n",
       "    .dataframe tbody tr th {\n",
       "        vertical-align: top;\n",
       "    }\n",
       "\n",
       "    .dataframe thead th {\n",
       "        text-align: right;\n",
       "    }\n",
       "</style>\n",
       "<table border=\"1\" class=\"dataframe\">\n",
       "  <thead>\n",
       "    <tr style=\"text-align: right;\">\n",
       "      <th></th>\n",
       "      <th>coma</th>\n",
       "      <th>puntos</th>\n",
       "      <th>parentesis</th>\n",
       "      <th>word_count</th>\n",
       "      <th>letras</th>\n",
       "      <th>charbyword</th>\n",
       "      <th>concre_media</th>\n",
       "      <th>cant_abstractas</th>\n",
       "      <th>silabas</th>\n",
       "      <th>flesch</th>\n",
       "      <th>smog</th>\n",
       "      <th>dale_chal</th>\n",
       "      <th>ari</th>\n",
       "      <th>imag_score</th>\n",
       "      <th>cant_imaginables</th>\n",
       "    </tr>\n",
       "    <tr>\n",
       "      <th>clase</th>\n",
       "      <th></th>\n",
       "      <th></th>\n",
       "      <th></th>\n",
       "      <th></th>\n",
       "      <th></th>\n",
       "      <th></th>\n",
       "      <th></th>\n",
       "      <th></th>\n",
       "      <th></th>\n",
       "      <th></th>\n",
       "      <th></th>\n",
       "      <th></th>\n",
       "      <th></th>\n",
       "      <th></th>\n",
       "      <th></th>\n",
       "    </tr>\n",
       "  </thead>\n",
       "  <tbody>\n",
       "    <tr>\n",
       "      <th>0</th>\n",
       "      <td>0.104067</td>\n",
       "      <td>0.841707</td>\n",
       "      <td>0.000797</td>\n",
       "      <td>8.294258</td>\n",
       "      <td>35.270734</td>\n",
       "      <td>4.233908</td>\n",
       "      <td>1.820690</td>\n",
       "      <td>3.047448</td>\n",
       "      <td>11.253589</td>\n",
       "      <td>83.212963</td>\n",
       "      <td>0.009928</td>\n",
       "      <td>6.281455</td>\n",
       "      <td>3.294099</td>\n",
       "      <td>1.571211</td>\n",
       "      <td>3.349282</td>\n",
       "    </tr>\n",
       "    <tr>\n",
       "      <th>1</th>\n",
       "      <td>0.102830</td>\n",
       "      <td>0.846154</td>\n",
       "      <td>0.002790</td>\n",
       "      <td>7.953766</td>\n",
       "      <td>34.047429</td>\n",
       "      <td>4.272839</td>\n",
       "      <td>1.781949</td>\n",
       "      <td>2.976883</td>\n",
       "      <td>10.907134</td>\n",
       "      <td>82.227923</td>\n",
       "      <td>0.015385</td>\n",
       "      <td>6.509932</td>\n",
       "      <td>3.329016</td>\n",
       "      <td>1.577310</td>\n",
       "      <td>3.161419</td>\n",
       "    </tr>\n",
       "  </tbody>\n",
       "</table>\n",
       "</div>"
      ],
      "text/plain": [
       "           coma    puntos  parentesis  word_count     letras  charbyword  \\\n",
       "clase                                                                      \n",
       "0      0.104067  0.841707    0.000797    8.294258  35.270734    4.233908   \n",
       "1      0.102830  0.846154    0.002790    7.953766  34.047429    4.272839   \n",
       "\n",
       "       concre_media  cant_abstractas    silabas     flesch      smog  \\\n",
       "clase                                                                  \n",
       "0          1.820690         3.047448  11.253589  83.212963  0.009928   \n",
       "1          1.781949         2.976883  10.907134  82.227923  0.015385   \n",
       "\n",
       "       dale_chal       ari  imag_score  cant_imaginables  \n",
       "clase                                                     \n",
       "0       6.281455  3.294099    1.571211          3.349282  \n",
       "1       6.509932  3.329016    1.577310          3.161419  "
      ]
     },
     "execution_count": 78,
     "metadata": {},
     "output_type": "execute_result"
    }
   ],
   "source": [
    "medias = df_comp_train.groupby('clase').agg('mean')\n",
    "medias"
   ]
  },
  {
   "cell_type": "code",
   "execution_count": 79,
   "metadata": {},
   "outputs": [
    {
     "data": {
      "text/plain": [
       "[<matplotlib.lines.Line2D at 0x7fe0ac4ac710>]"
      ]
     },
     "execution_count": 79,
     "metadata": {},
     "output_type": "execute_result"
    },
    {
     "data": {
      "image/png": "[encoded data removed]",
      "text/plain": [
       "<Figure size 432x288 with 1 Axes>"
      ]
     },
     "metadata": {},
     "output_type": "display_data"
    }
   ],
   "source": [
    "## los perfiles claramente superpuestos\n",
    "my_xticks = medias.columns\n",
    "plt.xticks(range(1,15), my_xticks,rotation=90)\n",
    "\n",
    "plt.plot(range(0,15),medias.iloc[0])\n",
    "plt.plot(range(0,15),medias.iloc[1])"
   ]
  },
  {
   "cell_type": "code",
   "execution_count": null,
   "metadata": {},
   "outputs": [],
   "source": [
    "# bueno, en este dataset la hipotesis no se cumple.\n",
    "#Probé métricas que en la literatura funcionan (con diseños que no son de produccion libre)\n",
    "#acá no marchan, claramente."
   ]
  },
  {
   "cell_type": "code",
   "execution_count": 80,
   "metadata": {},
   "outputs": [],
   "source": [
    "df_comp_train = df_comp_train.drop(\"clase\",axis=1).copy()"
   ]
  },
  {
   "cell_type": "code",
   "execution_count": 81,
   "metadata": {},
   "outputs": [
    {
     "data": {
      "text/plain": [
       "Index(['coma', 'puntos', 'parentesis', 'word_count', 'letras', 'charbyword',\n",
       "       'concre_media', 'cant_abstractas', 'silabas', 'flesch', 'smog',\n",
       "       'dale_chal', 'ari', 'imag_score', 'cant_imaginables'],\n",
       "      dtype='object')"
      ]
     },
     "execution_count": 81,
     "metadata": {},
     "output_type": "execute_result"
    }
   ],
   "source": [
    "df_comp_train.columns"
   ]
  },
  {
   "cell_type": "code",
   "execution_count": 220,
   "metadata": {},
   "outputs": [
    {
     "data": {
      "text/plain": [
       "numpy.float64"
      ]
     },
     "execution_count": 220,
     "metadata": {},
     "output_type": "execute_result"
    }
   ],
   "source": []
  },
  {
   "cell_type": "code",
   "execution_count": 142,
   "metadata": {},
   "outputs": [],
   "source": [
    "from sklearn import linear_model\n"
   ]
  },
  {
   "cell_type": "code",
   "execution_count": null,
   "metadata": {},
   "outputs": [],
   "source": [
    "### HASTA ACA CON EL DE COMPLEJIDAD. SE PUEDE REPETIR EL MISMO CON OTRA HIPOTESIS. O BUSCANDO OTRAS FEATURES"
   ]
  },
  {
   "cell_type": "code",
   "execution_count": null,
   "metadata": {},
   "outputs": [],
   "source": [
    "## por ejemplo\n",
    "\n",
    "tiene_I =trainset_texto.apply(lambda x: len(re.findall(r\"\\bI\\b\",x)))"
   ]
  },
  {
   "cell_type": "code",
   "execution_count": null,
   "metadata": {},
   "outputs": [],
   "source": [
    "### HASTA ACA CON EL DE COMPLEJIDAD. SE PUEDE REPETIR EL MISMO CON OTRA HIPOTESIS. O BUSCANDO OTRAS FEATURES"
   ]
  },
  {
   "cell_type": "code",
   "execution_count": null,
   "metadata": {},
   "outputs": [],
   "source": [
    "## por ejemplo\n",
    "\n",
    "tiene_I =trainset_texto.apply(lambda x: len(re.findall(r\"\\bI\\b\",x)))"
   ]
  },
  {
   "cell_type": "code",
   "execution_count": null,
   "metadata": {},
   "outputs": [],
   "source": []
  },
  {
   "cell_type": "code",
   "execution_count": null,
   "metadata": {},
   "outputs": [],
   "source": [
    "#### pos tagging"
   ]
  },
  {
   "cell_type": "code",
   "execution_count": 82,
   "metadata": {},
   "outputs": [],
   "source": [
    "pru= trainset_texto\n",
    "pru= pru.apply(lambda x: nltk.pos_tag(word_tokenize(clean_text(x))))\n",
    "\n",
    "columna= []\n",
    "for element in pru:\n",
    "    lista = []\n",
    "    for tupla in element:\n",
    "        lista.append(tupla[0] + \"_\" + tupla[1][0])\n",
    "        \n",
    "    columna.append(\" \".join(lista))\n",
    "    \n",
    "\n",
    "trainset_texto_pos = pd.Series(columna)\n"
   ]
  },
  {
   "cell_type": "code",
   "execution_count": 83,
   "metadata": {},
   "outputs": [],
   "source": [
    "pru= testset_texto\n",
    "pru= pru.apply(lambda x: nltk.pos_tag(word_tokenize(clean_text(x))))\n",
    "\n",
    "columna= []\n",
    "for element in pru:\n",
    "    lista = []\n",
    "    for tupla in element:\n",
    "        lista.append(tupla[0] + \"_\" + tupla[1][0])\n",
    "        \n",
    "    columna.append(\" \".join(lista))\n",
    "    \n",
    "\n",
    "testset_texto_pos = pd.Series(columna)\n"
   ]
  },
  {
   "cell_type": "code",
   "execution_count": 84,
   "metadata": {},
   "outputs": [
    {
     "data": {
      "text/plain": [
       "0    i_N will_M stay_V up_R till_R 12_C am_V tomorr...\n",
       "1                            we_P sleep_V in_I night_N\n",
       "2    i_N was_V in_I hurry_N yesterday_N and_C inste...\n",
       "3                     i_N am_V in_I my_P forties_N ._.\n",
       "4    there_E is_V no_D evidence_N that_I america_N ...\n",
       "5         a_D blue_J whale_N only_R eats_V squid_N ._.\n",
       "6                      kodak_N has_V gone_V bankrupt_J\n",
       "7    i_N was_V lying_V when_W i_N said_V i_J love_V...\n",
       "8    my_P friend_N can_M smell_V with_I the_D help_...\n",
       "9                             orange_N is_V blue_J ._.\n",
       "dtype: object"
      ]
     },
     "execution_count": 84,
     "metadata": {},
     "output_type": "execute_result"
    }
   ],
   "source": [
    "trainset_texto_pos.head(10)"
   ]
  },
  {
   "cell_type": "code",
   "execution_count": 85,
   "metadata": {},
   "outputs": [],
   "source": [
    "count_vect = CountVectorizer(tokenizer=word_tokenize, min_df=5,stop_words=\"english\",ngram_range=(1,2))\n",
    "trainset_texto_token = count_vect.fit_transform(trainset_texto_pos)\n",
    "testset_texto_token = count_vect.transform(testset_texto_pos)"
   ]
  },
  {
   "cell_type": "code",
   "execution_count": 89,
   "metadata": {},
   "outputs": [
    {
     "name": "stdout",
     "output_type": "stream",
     "text": [
      "alpha: 10\n",
      "fscore_cv= 0.5938686590755531\n"
     ]
    }
   ],
   "source": [
    "clf_MNB = MultinomialNB()\n",
    "# Parametros a variar \n",
    "parameters = {'alpha':[0.001,0.003,0.01,0.03,0.1,0.3,1,3,10]}\n",
    "# define un grid search a realizar \n",
    "grid_search_MNB = GridSearchCV(clf_MNB, parameters,scoring='f1_macro',cv=10,return_train_score=True, n_jobs=-1)\n",
    "# realiza el grid search evaluando el modelo en un esquema de Cross-Validation\n",
    "grid_search_MNB.fit(trainset_texto_token, trainset_clase)\n",
    "# selecciona el mejor modelo (mejor set de parametros)\n",
    "best_clf_MNB = grid_search_MNB.best_estimator_\n",
    "MNB_score =grid_search_MNB.cv_results_[\"mean_test_score\"].max()\n",
    "print (\"alpha:\",best_clf_MNB.alpha )\n",
    "print(\"fscore_cv=\",grid_search_MNB.cv_results_[\"mean_test_score\"].max())\n",
    "\n",
    "MNB_score =grid_search_MNB.cv_results_[\"mean_test_score\"].max()"
   ]
  },
  {
   "cell_type": "code",
   "execution_count": 92,
   "metadata": {},
   "outputs": [
    {
     "name": "stdout",
     "output_type": "stream",
     "text": [
      "C: 0.1\n",
      "fscore_cv= 0.599596304113914\n"
     ]
    }
   ],
   "source": [
    "mod = linear_model.LogisticRegression()\n",
    "#mod=  MultinomialNB()\n",
    "# Parametros a variar \n",
    "parameters = {'C':[0.001,0.01,0.1,1,10,100,1000,10000]}\n",
    "#parameters = {'alpha':[0.001,0.003,0.01,0.03,0.1,0.3,1,3,10]}\n",
    "# define un grid search a realizar \n",
    "grid_search_mod = GridSearchCV(mod, parameters,scoring='f1_macro',cv=10,return_train_score=True, n_jobs=-1)\n",
    "# realiza el grid search evaluando el modelo en un esquema de Cross-Validation\n",
    "grid_search_mod.fit(trainset_texto_token, trainset_clase)\n",
    "# selecciona el mejor modelo (mejor set de parametros)\n",
    "best_clf_mod = grid_search_mod.best_estimator_\n",
    "mod_score =grid_search_mod.cv_results_[\"mean_test_score\"].max()\n",
    "print (\"C:\",best_clf_mod.C )\n",
    "#print (\"alpha:\",best_clf_mod.alpha )\n",
    "print(\"fscore_cv=\",grid_search_mod.cv_results_[\"mean_test_score\"].max())\n",
    "\n"
   ]
  },
  {
   "cell_type": "code",
   "execution_count": null,
   "metadata": {},
   "outputs": [],
   "source": [
    "## empath"
   ]
  },
  {
   "cell_type": "code",
   "execution_count": 95,
   "metadata": {},
   "outputs": [],
   "source": [
    "lexicon = Empath()\n",
    "pru = trainset_texto\n",
    "\n",
    "nuevo_df = []\n",
    "\n",
    "for frase in pru:\n",
    "    vectorcito = lexicon.analyze(frase).values()\n",
    "    nuevo_df.append(list(vectorcito))\n",
    "    \n"
   ]
  },
  {
   "cell_type": "code",
   "execution_count": 96,
   "metadata": {},
   "outputs": [],
   "source": [
    "nuevo_df = pd.DataFrame(nuevo_df)"
   ]
  },
  {
   "cell_type": "code",
   "execution_count": 99,
   "metadata": {},
   "outputs": [
    {
     "name": "stdout",
     "output_type": "stream",
     "text": [
      "C: 0.01\n",
      "fscore_cv= 0.5299640584676049\n"
     ]
    }
   ],
   "source": [
    "mod = linear_model.LogisticRegression()\n",
    "#mod=  MultinomialNB()\n",
    "# Parametros a variar \n",
    "parameters = {'C':[0.001,0.01,0.1,1,10,100,1000,10000]}\n",
    "#parameters = {'alpha':[0.001,0.003,0.01,0.03,0.1,0.3,1,3,10]}\n",
    "# define un grid search a realizar \n",
    "grid_search_mod = GridSearchCV(mod, parameters,scoring='f1_macro',cv=10,return_train_score=True, n_jobs=-1)\n",
    "# realiza el grid search evaluando el modelo en un esquema de Cross-Validation\n",
    "grid_search_mod.fit(nuevo_df, trainset_clase)\n",
    "# selecciona el mejor modelo (mejor set de parametros)\n",
    "best_clf_mod = grid_search_mod.best_estimator_\n",
    "mod_score =grid_search_mod.cv_results_[\"mean_test_score\"].max()\n",
    "print (\"C:\",best_clf_mod.C )\n",
    "#print (\"alpha:\",best_clf_mod.alpha )\n",
    "print(\"fscore_cv=\",grid_search_mod.cv_results_[\"mean_test_score\"].max())\n"
   ]
  },
  {
   "cell_type": "code",
   "execution_count": 109,
   "metadata": {},
   "outputs": [
    {
     "data": {
      "text/plain": [
       "0        2.0\n",
       "1        4.0\n",
       "2        1.0\n",
       "3        0.0\n",
       "4        1.0\n",
       "5        4.0\n",
       "6        4.0\n",
       "7        6.0\n",
       "8        6.0\n",
       "9        0.0\n",
       "10       7.0\n",
       "11       3.0\n",
       "12       1.0\n",
       "13       2.0\n",
       "14       1.0\n",
       "15       5.0\n",
       "16       0.0\n",
       "17       0.0\n",
       "18       0.0\n",
       "19       9.0\n",
       "20       2.0\n",
       "21       0.0\n",
       "22       3.0\n",
       "23       3.0\n",
       "24       0.0\n",
       "25       1.0\n",
       "26      15.0\n",
       "27       3.0\n",
       "28       4.0\n",
       "29       0.0\n",
       "        ... \n",
       "4987     6.0\n",
       "4988     1.0\n",
       "4989     4.0\n",
       "4990     2.0\n",
       "4991     5.0\n",
       "4992     0.0\n",
       "4993     0.0\n",
       "4994     4.0\n",
       "4995     5.0\n",
       "4996    18.0\n",
       "4997     5.0\n",
       "4998     0.0\n",
       "4999     1.0\n",
       "5000     0.0\n",
       "5001    14.0\n",
       "5002     2.0\n",
       "5003     2.0\n",
       "5004     5.0\n",
       "5005     8.0\n",
       "5006    13.0\n",
       "5007     0.0\n",
       "5008     3.0\n",
       "5009     8.0\n",
       "5010     0.0\n",
       "5011     8.0\n",
       "5012     3.0\n",
       "5013     4.0\n",
       "5014     0.0\n",
       "5015     1.0\n",
       "5016     2.0\n",
       "Length: 5017, dtype: float64"
      ]
     },
     "execution_count": 109,
     "metadata": {},
     "output_type": "execute_result"
    }
   ],
   "source": []
  },
  {
   "cell_type": "code",
   "execution_count": null,
   "metadata": {},
   "outputs": [],
   "source": [
    "##### ACA EMPIEZO CON CLUSTERS"
   ]
  },
  {
   "cell_type": "code",
   "execution_count": 169,
   "metadata": {},
   "outputs": [],
   "source": [
    "count_vect = CountVectorizer(preprocessor=clean_text, tokenizer=word_tokenize, min_df=0,stop_words=\"english\")\n",
    "trainset_texto_token = count_vect.fit_transform(trainset_texto)\n",
    "testset_texto_token = count_vect.transform(testset_texto)"
   ]
  },
  {
   "cell_type": "code",
   "execution_count": 170,
   "metadata": {},
   "outputs": [],
   "source": [
    "from scipy.cluster.hierarchy import dendrogram, linkage, cut_tree\n",
    "from sklearn import cluster as clu"
   ]
  },
  {
   "cell_type": "code",
   "execution_count": 171,
   "metadata": {},
   "outputs": [
    {
     "data": {
      "text/plain": [
       "[]"
      ]
     },
     "execution_count": 171,
     "metadata": {},
     "output_type": "execute_result"
    }
   ],
   "source": [
    "## la distancia coseno pincha cuando tenes alguna fila con todos 0\n",
    "## aca lo chequeo, por eso cambie el tokenizador\n",
    "rowsum = trainset_texto_token.todense().sum(1).tolist()\n",
    "rowsum = [ele for sublist in rowsum for ele in sublist]\n",
    "[indice for indice, valor in enumerate(rowsum) if valor == 0]\n"
   ]
  },
  {
   "cell_type": "code",
   "execution_count": null,
   "metadata": {},
   "outputs": [],
   "source": [
    "### acá probé varios metodos y todos los clusters dan horribles para el jerarquico. \n",
    "## Tambien miré que pasaba cortando a distintas alturas (porque el dendrograma es ilegible)\n",
    "## y todo da igual de mal."
   ]
  },
  {
   "cell_type": "code",
   "execution_count": 188,
   "metadata": {},
   "outputs": [],
   "source": [
    "z = linkage(trainset_texto_token.todense(),method=\"complete\",metric=\"cosine\")"
   ]
  },
  {
   "cell_type": "code",
   "execution_count": 198,
   "metadata": {},
   "outputs": [],
   "source": [
    "## podes ver el arbol con la funcion dendrogram pero es un asco. Acá el jerarquico no va.\n",
    "jerarquico_eti = cut_tree(z,2) "
   ]
  },
  {
   "cell_type": "code",
   "execution_count": 199,
   "metadata": {},
   "outputs": [],
   "source": [
    "jerarquico_eti  = [ele2 for ele in jerarquico_eti for ele2 in ele ]"
   ]
  },
  {
   "cell_type": "code",
   "execution_count": 189,
   "metadata": {},
   "outputs": [
    {
     "data": {
      "text/plain": [
       "{'color_list': ['b', 'b', 'b', 'b', 'b', 'b', 'b', 'b', 'b', 'b', 'b'],\n",
       " 'dcoord': [[0.0, 1.0, 1.0, 0.0],\n",
       "  [0.0, 1.0, 1.0, 1.0],\n",
       "  [0.0, 1.0, 1.0, 1.0],\n",
       "  [0.0, 1.0, 1.0, 1.0],\n",
       "  [0.0, 1.0, 1.0, 1.0],\n",
       "  [0.0, 1.0, 1.0, 1.0],\n",
       "  [0.0, 1.0, 1.0, 1.0],\n",
       "  [0.0, 1.0, 1.0, 1.0],\n",
       "  [0.0, 1.0, 1.0, 1.0],\n",
       "  [0.0, 1.0, 1.0, 1.0],\n",
       "  [0.0, 1.0, 1.0, 1.0]],\n",
       " 'icoord': [[105.0, 105.0, 115.0, 115.0],\n",
       "  [95.0, 95.0, 110.0, 110.0],\n",
       "  [85.0, 85.0, 102.5, 102.5],\n",
       "  [75.0, 75.0, 93.75, 93.75],\n",
       "  [65.0, 65.0, 84.375, 84.375],\n",
       "  [55.0, 55.0, 74.6875, 74.6875],\n",
       "  [45.0, 45.0, 64.84375, 64.84375],\n",
       "  [35.0, 35.0, 54.921875, 54.921875],\n",
       "  [25.0, 25.0, 44.9609375, 44.9609375],\n",
       "  [15.0, 15.0, 34.98046875, 34.98046875],\n",
       "  [5.0, 5.0, 24.990234375, 24.990234375]],\n",
       " 'ivl': ['', '', '', '', '', '', '', '', '', '', '', ''],\n",
       " 'leaves': [9702,\n",
       "  9430,\n",
       "  9106,\n",
       "  7334,\n",
       "  9485,\n",
       "  9413,\n",
       "  9391,\n",
       "  9506,\n",
       "  9177,\n",
       "  8733,\n",
       "  9012,\n",
       "  10021]}"
      ]
     },
     "execution_count": 189,
     "metadata": {},
     "output_type": "execute_result"
    },
    {
     "data": {
      "image/png": "[encoded data removed]",
      "text/plain": [
       "<Figure size 432x288 with 1 Axes>"
      ]
     },
     "metadata": {},
     "output_type": "display_data"
    }
   ],
   "source": [
    "## esto es no recomendado\n",
    "import sys\n",
    "sys.setrecursionlimit(10000)\n",
    "\n",
    "\n",
    "dendrogram(\n",
    "    z,\n",
    "    truncate_mode='lastp',  # show only the last p merged clusters\n",
    "    p=12,  # show only the last p merged clusters\n",
    "    show_leaf_counts=False,  # otherwise numbers in brackets are counts\n",
    "    leaf_rotation=90.,\n",
    "    leaf_font_size=12.,\n",
    "    show_contracted=True,  # to get a distribution impression in truncated branches\n",
    ")"
   ]
  },
  {
   "cell_type": "code",
   "execution_count": 200,
   "metadata": {},
   "outputs": [],
   "source": [
    "claseyjer = pd.DataFrame({\"jer\":jerarquico_eti,\"clase\": trainset_clase})"
   ]
  },
  {
   "cell_type": "code",
   "execution_count": 201,
   "metadata": {},
   "outputs": [
    {
     "data": {
      "text/html": [
       "<div>\n",
       "<style scoped>\n",
       "    .dataframe tbody tr th:only-of-type {\n",
       "        vertical-align: middle;\n",
       "    }\n",
       "\n",
       "    .dataframe tbody tr th {\n",
       "        vertical-align: top;\n",
       "    }\n",
       "\n",
       "    .dataframe thead th {\n",
       "        text-align: right;\n",
       "    }\n",
       "</style>\n",
       "<table border=\"1\" class=\"dataframe\">\n",
       "  <thead>\n",
       "    <tr style=\"text-align: right;\">\n",
       "      <th>clase</th>\n",
       "      <th>0</th>\n",
       "      <th>1</th>\n",
       "    </tr>\n",
       "    <tr>\n",
       "      <th>jer</th>\n",
       "      <th></th>\n",
       "      <th></th>\n",
       "    </tr>\n",
       "  </thead>\n",
       "  <tbody>\n",
       "    <tr>\n",
       "      <th>0</th>\n",
       "      <td>1219</td>\n",
       "      <td>1290</td>\n",
       "    </tr>\n",
       "    <tr>\n",
       "      <th>1</th>\n",
       "      <td>1145</td>\n",
       "      <td>1047</td>\n",
       "    </tr>\n",
       "    <tr>\n",
       "      <th>2</th>\n",
       "      <td>2</td>\n",
       "      <td>1</td>\n",
       "    </tr>\n",
       "    <tr>\n",
       "      <th>3</th>\n",
       "      <td>19</td>\n",
       "      <td>13</td>\n",
       "    </tr>\n",
       "    <tr>\n",
       "      <th>4</th>\n",
       "      <td>5</td>\n",
       "      <td>4</td>\n",
       "    </tr>\n",
       "    <tr>\n",
       "      <th>5</th>\n",
       "      <td>11</td>\n",
       "      <td>46</td>\n",
       "    </tr>\n",
       "    <tr>\n",
       "      <th>6</th>\n",
       "      <td>19</td>\n",
       "      <td>16</td>\n",
       "    </tr>\n",
       "    <tr>\n",
       "      <th>7</th>\n",
       "      <td>4</td>\n",
       "      <td>17</td>\n",
       "    </tr>\n",
       "    <tr>\n",
       "      <th>8</th>\n",
       "      <td>13</td>\n",
       "      <td>6</td>\n",
       "    </tr>\n",
       "    <tr>\n",
       "      <th>9</th>\n",
       "      <td>5</td>\n",
       "      <td>7</td>\n",
       "    </tr>\n",
       "    <tr>\n",
       "      <th>10</th>\n",
       "      <td>7</td>\n",
       "      <td>13</td>\n",
       "    </tr>\n",
       "    <tr>\n",
       "      <th>11</th>\n",
       "      <td>21</td>\n",
       "      <td>16</td>\n",
       "    </tr>\n",
       "    <tr>\n",
       "      <th>12</th>\n",
       "      <td>4</td>\n",
       "      <td>8</td>\n",
       "    </tr>\n",
       "    <tr>\n",
       "      <th>13</th>\n",
       "      <td>12</td>\n",
       "      <td>5</td>\n",
       "    </tr>\n",
       "    <tr>\n",
       "      <th>14</th>\n",
       "      <td>3</td>\n",
       "      <td>8</td>\n",
       "    </tr>\n",
       "    <tr>\n",
       "      <th>15</th>\n",
       "      <td>9</td>\n",
       "      <td>2</td>\n",
       "    </tr>\n",
       "    <tr>\n",
       "      <th>16</th>\n",
       "      <td>2</td>\n",
       "      <td>4</td>\n",
       "    </tr>\n",
       "    <tr>\n",
       "      <th>17</th>\n",
       "      <td>3</td>\n",
       "      <td>0</td>\n",
       "    </tr>\n",
       "    <tr>\n",
       "      <th>18</th>\n",
       "      <td>1</td>\n",
       "      <td>4</td>\n",
       "    </tr>\n",
       "    <tr>\n",
       "      <th>19</th>\n",
       "      <td>4</td>\n",
       "      <td>2</td>\n",
       "    </tr>\n",
       "  </tbody>\n",
       "</table>\n",
       "</div>"
      ],
      "text/plain": [
       "clase     0     1\n",
       "jer              \n",
       "0      1219  1290\n",
       "1      1145  1047\n",
       "2         2     1\n",
       "3        19    13\n",
       "4         5     4\n",
       "5        11    46\n",
       "6        19    16\n",
       "7         4    17\n",
       "8        13     6\n",
       "9         5     7\n",
       "10        7    13\n",
       "11       21    16\n",
       "12        4     8\n",
       "13       12     5\n",
       "14        3     8\n",
       "15        9     2\n",
       "16        2     4\n",
       "17        3     0\n",
       "18        1     4\n",
       "19        4     2"
      ]
     },
     "execution_count": 201,
     "metadata": {},
     "output_type": "execute_result"
    }
   ],
   "source": [
    "pd.crosstab(claseyjer[\"jer\"],claseyjer[\"clase\"])"
   ]
  },
  {
   "cell_type": "code",
   "execution_count": null,
   "metadata": {},
   "outputs": [],
   "source": [
    "### en vez de jerarquico, pruebo con el pam. Pero le tengo poca fe."
   ]
  },
  {
   "cell_type": "code",
   "execution_count": 237,
   "metadata": {},
   "outputs": [],
   "source": [
    "from sklearn.metrics.pairwise import pairwise_distances\n",
    "import random\n",
    "D = pairwise_distances(trainset_texto_token, metric='euclidean')"
   ]
  },
  {
   "cell_type": "code",
   "execution_count": 242,
   "metadata": {},
   "outputs": [],
   "source": [
    "## codigo robado y adaptado a python3\n",
    "\n",
    "def kMedoids(D, k, tmax=100):\n",
    "    # determine dimensions of distance matrix D\n",
    "    m, n = D.shape\n",
    "\n",
    "    if k > n:\n",
    "        raise Exception('too many medoids')\n",
    "\n",
    "    # find a set of valid initial cluster medoid indices since we\n",
    "    # can't seed different clusters with two points at the same location\n",
    "    valid_medoid_inds = set(range(n))\n",
    "    invalid_medoid_inds = set([])\n",
    "    rs,cs = np.where(D==0)\n",
    "    # the rows, cols must be shuffled because we will keep the first duplicate below\n",
    "    index_shuf = list(range(len(rs)))\n",
    "    np.random.shuffle(index_shuf)\n",
    "    rs = rs[index_shuf]\n",
    "    cs = cs[index_shuf]\n",
    "    for r,c in zip(rs,cs):\n",
    "        # if there are two points with a distance of 0...\n",
    "        # keep the first one for cluster init\n",
    "        if r < c and r not in invalid_medoid_inds:\n",
    "            invalid_medoid_inds.add(c)\n",
    "    valid_medoid_inds = list(valid_medoid_inds - invalid_medoid_inds)\n",
    "\n",
    "    if k > len(valid_medoid_inds):\n",
    "        raise Exception('too many medoids (after removing {} duplicate points)'.format(\n",
    "            len(invalid_medoid_inds)))\n",
    "\n",
    "    # randomly initialize an array of k medoid indices\n",
    "    M = np.array(valid_medoid_inds)\n",
    "    np.random.shuffle(M)\n",
    "    M = np.sort(M[:k])\n",
    "\n",
    "    # create a copy of the array of medoid indices\n",
    "    Mnew = np.copy(M)\n",
    "\n",
    "    # initialize a dictionary to represent clusters\n",
    "    C = {}\n",
    "    for t in list(range(tmax)):\n",
    "        # determine clusters, i. e. arrays of data indices\n",
    "        J = np.argmin(D[:,M], axis=1)\n",
    "        for kappa in range(k):\n",
    "            C[kappa] = np.where(J==kappa)[0]\n",
    "        # update cluster medoids\n",
    "        for kappa in range(k):\n",
    "            J = np.mean(D[np.ix_(C[kappa],C[kappa])],axis=1)\n",
    "            j = np.argmin(J)\n",
    "            Mnew[kappa] = C[kappa][j]\n",
    "        np.sort(Mnew)\n",
    "        # check for convergence\n",
    "        if np.array_equal(M, Mnew):\n",
    "            break\n",
    "        M = np.copy(Mnew)\n",
    "    else:\n",
    "        # final update of cluster memberships\n",
    "        J = np.argmin(D[:,M], axis=1)\n",
    "        for kappa in range(k):\n",
    "            C[kappa] = np.where(J==kappa)[0]\n",
    "\n",
    "    # return results\n",
    "    return M, C\n"
   ]
  },
  {
   "cell_type": "code",
   "execution_count": 276,
   "metadata": {},
   "outputs": [],
   "source": [
    "M,C = kMedoids(distancia,2)\n",
    "            "
   ]
  },
  {
   "cell_type": "code",
   "execution_count": 277,
   "metadata": {},
   "outputs": [],
   "source": [
    "pam_clu = []\n",
    "for i in range(0,trainset_texto_token.shape[0]-1):\n",
    "    if i in C[0]:\n",
    "        pam_clu.append(0)\n",
    "    else:\n",
    "        pam_clu.append(1)\n"
   ]
  },
  {
   "cell_type": "code",
   "execution_count": 278,
   "metadata": {},
   "outputs": [
    {
     "data": {
      "text/html": [
       "<div>\n",
       "<style scoped>\n",
       "    .dataframe tbody tr th:only-of-type {\n",
       "        vertical-align: middle;\n",
       "    }\n",
       "\n",
       "    .dataframe tbody tr th {\n",
       "        vertical-align: top;\n",
       "    }\n",
       "\n",
       "    .dataframe thead th {\n",
       "        text-align: right;\n",
       "    }\n",
       "</style>\n",
       "<table border=\"1\" class=\"dataframe\">\n",
       "  <thead>\n",
       "    <tr style=\"text-align: right;\">\n",
       "      <th>clase</th>\n",
       "      <th>0</th>\n",
       "      <th>1</th>\n",
       "    </tr>\n",
       "    <tr>\n",
       "      <th>row_0</th>\n",
       "      <th></th>\n",
       "      <th></th>\n",
       "    </tr>\n",
       "  </thead>\n",
       "  <tbody>\n",
       "    <tr>\n",
       "      <th>0</th>\n",
       "      <td>1779</td>\n",
       "      <td>1728</td>\n",
       "    </tr>\n",
       "    <tr>\n",
       "      <th>1</th>\n",
       "      <td>5</td>\n",
       "      <td>11</td>\n",
       "    </tr>\n",
       "  </tbody>\n",
       "</table>\n",
       "</div>"
      ],
      "text/plain": [
       "clase     0     1\n",
       "row_0            \n",
       "0      1779  1728\n",
       "1         5    11"
      ]
     },
     "execution_count": 278,
     "metadata": {},
     "output_type": "execute_result"
    }
   ],
   "source": [
    "pd.crosstab(pd.Series(pam_clu),columns=trainset_clase) ### una garcha"
   ]
  },
  {
   "cell_type": "code",
   "execution_count": null,
   "metadata": {},
   "outputs": [],
   "source": [
    "#### aca armo el \"otros\""
   ]
  },
  {
   "cell_type": "code",
   "execution_count": 48,
   "metadata": {},
   "outputs": [
    {
     "data": {
      "text/plain": [
       "'perro'"
      ]
     },
     "execution_count": 48,
     "metadata": {},
     "output_type": "execute_result"
    }
   ],
   "source": []
  },
  {
   "cell_type": "code",
   "execution_count": 294,
   "metadata": {},
   "outputs": [],
   "source": [
    "autoref_i    = trainset_texto.apply(lambda x: len(re.findall(r\"\\bi\\b\",x.lower())))\n",
    "autoref_my   = trainset_texto.apply(lambda x: len(re.findall(r\"\\bmy\\b\",x.lower())))\n",
    "autoref_mine = trainset_texto.apply(lambda x: len(re.findall(r\"\\bmine\\b\",x.lower())))\n",
    "autoref_me   = trainset_texto.apply(lambda x: len(re.findall(r\"\\bme\\b\",x.lower())))\n",
    "autoref_mys  = trainset_texto.apply(lambda x: len(re.findall(r\"\\bmyself\\b\",x.lower())))"
   ]
  },
  {
   "cell_type": "code",
   "execution_count": 61,
   "metadata": {},
   "outputs": [],
   "source": [
    "warriner = pd.read_csv(\"warriner.csv\",index_col=0)"
   ]
  },
  {
   "cell_type": "code",
   "execution_count": 67,
   "metadata": {},
   "outputs": [
    {
     "data": {
      "text/plain": [
       "1           aardvark\n",
       "2            abalone\n",
       "3            abandon\n",
       "4        abandonment\n",
       "5              abbey\n",
       "6            abdomen\n",
       "7          abdominal\n",
       "8             abduct\n",
       "9          abduction\n",
       "10             abide\n",
       "11           abiding\n",
       "12           ability\n",
       "13            abject\n",
       "14            ablaze\n",
       "15              able\n",
       "16          abnormal\n",
       "17       abnormality\n",
       "18             abode\n",
       "19           abolish\n",
       "20        abominable\n",
       "21       abomination\n",
       "22             abort\n",
       "23          abortion\n",
       "24       abracadabra\n",
       "25          abrasive\n",
       "26           abreast\n",
       "27            abrupt\n",
       "28           abscess\n",
       "29           absence\n",
       "30            absent\n",
       "            ...     \n",
       "13886          young\n",
       "13887      youngster\n",
       "13888          youth\n",
       "13889       youthful\n",
       "13890          yucky\n",
       "13891       yuletide\n",
       "13892          yummy\n",
       "13893         yuppie\n",
       "13894            zap\n",
       "13895           zeal\n",
       "13896          zebra\n",
       "13897         zenith\n",
       "13898         zephyr\n",
       "13899           zest\n",
       "13900           zeta\n",
       "13901         zigzag\n",
       "13902          zilch\n",
       "13903        zillion\n",
       "13904           zinc\n",
       "13905           zing\n",
       "13906            zip\n",
       "13907         zipper\n",
       "13908            zit\n",
       "13909         zodiac\n",
       "13910         zombie\n",
       "13911           zone\n",
       "13912         zoning\n",
       "13913            zoo\n",
       "13914           zoom\n",
       "13915       zucchini\n",
       "Name: Word, Length: 13915, dtype: object"
      ]
     },
     "execution_count": 67,
     "metadata": {},
     "output_type": "execute_result"
    }
   ],
   "source": [
    "warriner.Word"
   ]
  },
  {
   "cell_type": "code",
   "execution_count": 285,
   "metadata": {},
   "outputs": [],
   "source": [
    "def warriner_src(palabrita):\n",
    "    letra = nltk.pos_tag([palabrita])[0][1][0].lower()\n",
    "    if letra in [\"a\",\"v\",\"n\",\"r\",\"s\",]:\n",
    "        palabrita = WordNetLemmatizer().lemmatize(palabrita,pos=letra)\n",
    "    else: \n",
    "        palabrita = WordNetLemmatizer().lemmatize(palabrita)\n",
    "    if palabrita in warriner.Word.values:\n",
    "        ans = warriner.loc[warriner.Word == palabrita,]\n",
    "        return list(warriner.loc[warriner.Word == palabrita,['V.Mean.Sum','A.Mean.Sum','D.Mean.Sum']].iloc[0])\n",
    "    else:\n",
    "        return [float(\"nan\"),float(\"nan\"),float(\"nan\")]\n",
    "\n"
   ]
  },
  {
   "cell_type": "code",
   "execution_count": 291,
   "metadata": {},
   "outputs": [
    {
     "name": "stderr",
     "output_type": "stream",
     "text": [
      "/home/mauro/.local/lib/python3.5/site-packages/ipykernel_launcher.py:2: RuntimeWarning: Mean of empty slice\n",
      "  \n",
      "/home/mauro/.local/lib/python3.5/site-packages/ipykernel_launcher.py:3: RuntimeWarning: Mean of empty slice\n",
      "  This is separate from the ipykernel package so we can avoid doing imports until\n"
     ]
    }
   ],
   "source": [
    "valencia = trainset_texto.apply(lambda x : np.nanmean([warriner_src(palabra)[0] for palabra in x.split()]))\n",
    "arousal = trainset_texto.apply(lambda x : np.nanmean([warriner_src(palabra)[1] for palabra in x.split()]))\n",
    "dominancia = trainset_texto.apply(lambda x : np.nanmean([warriner_src(palabra)[2] for palabra in x.split()]))"
   ]
  },
  {
   "cell_type": "code",
   "execution_count": 298,
   "metadata": {},
   "outputs": [],
   "source": [
    "df_otros = pd.concat({\"val\":valencia,\"aro\":arousal,\"dom\":dominancia,\"auto_mys\":autoref_mys,\"auto_me\":autoref_me,\"auto_i\":autoref_i,\"auto_mine\":autoref_mine,\"auto_my\":autoref_my},axis=1)"
   ]
  },
  {
   "cell_type": "code",
   "execution_count": 311,
   "metadata": {},
   "outputs": [],
   "source": [
    "neg_words = pd.read_csv(\"negative-words.txt\",comment=\";\",encoding=\"latin1\")\n",
    "neg_words.columns = [\"Word\"]\n",
    "pos_words = pd.read_csv(\"positive-words.txt\",comment=\";\",encoding=\"latin1\")\n",
    "pos_words.columns = [\"Word\"]"
   ]
  },
  {
   "cell_type": "code",
   "execution_count": 320,
   "metadata": {},
   "outputs": [],
   "source": [
    "positivas = trainset_texto.apply(lambda x :sum([palabra in pos_words.Word.values for palabra in x.split()]))\n",
    "negativas = trainset_texto.apply(lambda x :sum([palabra in neg_words.Word.values for palabra in x.split()]))"
   ]
  },
  {
   "cell_type": "code",
   "execution_count": 329,
   "metadata": {},
   "outputs": [],
   "source": [
    "df_otros = pd.concat([df_otros,positivas.rename(\"pos\"),negativas.rename(\"neg\")],axis=1)"
   ]
  },
  {
   "cell_type": "code",
   "execution_count": 139,
   "metadata": {},
   "outputs": [],
   "source": [
    "df_otros = pd.read_csv(\"otros.csv\",index_col=0)"
   ]
  },
  {
   "cell_type": "code",
   "execution_count": 140,
   "metadata": {},
   "outputs": [],
   "source": [
    "df_otros= df_otros.assign(emp = emp.values)"
   ]
  },
  {
   "cell_type": "code",
   "execution_count": 141,
   "metadata": {},
   "outputs": [],
   "source": [
    "clase_otros = trainset_clase.drop(df_otros[df_otros.isna().any(1)].index)\n",
    "df_otros = df_otros.dropna()"
   ]
  },
  {
   "cell_type": "code",
   "execution_count": 148,
   "metadata": {},
   "outputs": [
    {
     "name": "stdout",
     "output_type": "stream",
     "text": [
      "C: 0.1\n",
      "fscore_cv= 0.5426435766733058\n"
     ]
    }
   ],
   "source": [
    "mod = linear_model.LogisticRegression()\n",
    "#mod=  MultinomialNB()\n",
    "# Parametros a variar \n",
    "parameters = {'C':[0.001,0.01,0.1,1,10,100,1000,10000]}\n",
    "#parameters = {'alpha':[0.001,0.01,0.1,1,10,100,1000]}\n",
    "# define un grid search a realizar \n",
    "grid_search_mod = GridSearchCV(mod, parameters,scoring='f1_macro',cv=10,return_train_score=True, n_jobs=-1)\n",
    "# realiza el grid search evaluando el modelo en un esquema de Cross-Validation\n",
    "grid_search_mod.fit(df_otros, clase_otros)\n",
    "# selecciona el mejor modelo (mejor set de parametros)\n",
    "best_clf_mod = grid_search_mod.best_estimator_\n",
    "mod_score =grid_search_mod.cv_results_[\"mean_test_score\"].max()\n",
    "print (\"C:\",best_clf_mod.C )\n",
    "#print (\"alpha:\",best_clf_mod.alpha )\n",
    "print(\"fscore_cv=\",grid_search_mod.cv_results_[\"mean_test_score\"].max())\n",
    "\n",
    "MNB_score =grid_search_mod.cv_results_[\"mean_test_score\"].max()\n"
   ]
  }
 ],
 "metadata": {
  "kernelspec": {
   "display_name": "Python 3",
   "language": "python",
   "name": "python3"
  },
  "language_info": {
   "codemirror_mode": {
    "name": "ipython",
    "version": 3
   },
   "file_extension": ".py",
   "mimetype": "text/x-python",
   "name": "python",
   "nbconvert_exporter": "python",
   "pygments_lexer": "ipython3",
   "version": "3.5.2"
  }
 },
 "nbformat": 4,
 "nbformat_minor": 2
}
